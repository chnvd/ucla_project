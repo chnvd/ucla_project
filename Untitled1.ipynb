{
 "cells": [
  {
   "cell_type": "markdown",
   "id": "a48f1225-64fa-4f5c-8cb2-04a7277f8bf2",
   "metadata": {},
   "source": [
    "# Classification"
   ]
  },
  {
   "cell_type": "code",
   "execution_count": null,
   "id": "526b6a42-181d-4c7c-ad42-f93c1132121b",
   "metadata": {},
   "outputs": [],
   "source": [
    "# Modules for Cluster Analysis\n",
    "import pandas as pd\n",
    "import geopandas as gpd\n",
    "\n",
    "# Preprossessing\n",
    "from sklearn import preprocessing\n",
    "\n",
    "#cluster analysis\n",
    "from sklearn.cluster import KMeans\n",
    "\n",
    "# creating test-train split\n",
    "from sklearn.model_selection import train_test_split\n"
   ]
  },
  {
   "cell_type": "code",
   "execution_count": null,
   "id": "1bc17c49-294b-49d1-a277-a1d20b26ca12",
   "metadata": {},
   "outputs": [],
   "source": []
  },
  {
   "cell_type": "code",
   "execution_count": null,
   "id": "b9c9e79b-6a9d-4173-95e0-60f51061d168",
   "metadata": {},
   "outputs": [],
   "source": [
    "\n",
    "joinedDf['pct_biden']=(joinedDf['PRSDEM01']/(joinedDf['PRSREP01']+ joinedDf['PRSDEM01']))*100\n",
    "joinedDf['PR_21_won']=joinedDf['PR_21_Y']>joinedDf['PR_21_N']\n",
    "joinedDf.head()\n",
    "         \n",
    "xvars = ['median_income', 'pct_renter', 'pct_biden']\n",
    "yvar = 'PR_21_won'\n",
    "df_to_fit = joinedDf[xvars+[yvar]].dropna()\n",
    "\n",
    "X_train, X_test, y_train, y_test = train_test_split(df_to_fit[xvars], df_to_fit[yvar], test_size = 0.25, random_state = 1)"
   ]
  },
  {
   "cell_type": "code",
   "execution_count": null,
   "id": "eb929c37-157f-4457-9e24-5f02d80b4f55",
   "metadata": {},
   "outputs": [],
   "source": [
    "# random forest classification and prediction\n",
    "from sklearn.ensemble import RandomForestClassifier \n",
    "\n",
    "rf = RandomForestClassifier(n_estimators = 50, random_state = 1)\n",
    "\n",
    "# now fit the model\n",
    "rf.fit(X_train, y_train)\n",
    "\n",
    "# predicting the target variable\n",
    "y_pred = rf.predict(X_test)\n",
    "\n",
    "print('Predicted fraction True: {:.4f}. Actual fraction True: {:.4f}'.format(y_pred.mean(), y_test.mean()))\n"
   ]
  }
 ],
 "metadata": {
  "kernelspec": {
   "display_name": "Python 3 (ipykernel)",
   "language": "python",
   "name": "python3"
  },
  "language_info": {
   "codemirror_mode": {
    "name": "ipython",
    "version": 3
   },
   "file_extension": ".py",
   "mimetype": "text/x-python",
   "name": "python",
   "nbconvert_exporter": "python",
   "pygments_lexer": "ipython3",
   "version": "3.10.10"
  }
 },
 "nbformat": 4,
 "nbformat_minor": 5
}
