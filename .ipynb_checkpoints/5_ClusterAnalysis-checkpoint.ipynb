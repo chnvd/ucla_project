{
 "cells": [
  {
   "cell_type": "markdown",
   "id": "5a9e8e22-4d88-4a08-9dcd-d70999228a5e",
   "metadata": {},
   "source": [
    "# Cluster Analysis"
   ]
  },
  {
   "cell_type": "markdown",
   "id": "f8145736-4ef5-4add-8372-dbf0f44b9635",
   "metadata": {},
   "source": [
    "This notebook undertakes the cluster analysis with following steps included. \n",
    "1. Pre-processing: Drop columns with large null values and standardize data. \n",
    "2. Optimal Cluster: Elbow method to determine optimal cluster number, and select model with lowest distortion score\n",
    "3. Clustering: Kmeans\n",
    "4. Visualization of clusters: Radial plot and graphs"
   ]
  },
  {
   "cell_type": "code",
   "execution_count": 1,
   "id": "e4af0cd7-4a4a-4466-bc3c-809c70ccfebd",
   "metadata": {},
   "outputs": [
    {
     "data": {
      "text/html": [
       "<div>\n",
       "<style scoped>\n",
       "    .dataframe tbody tr th:only-of-type {\n",
       "        vertical-align: middle;\n",
       "    }\n",
       "\n",
       "    .dataframe tbody tr th {\n",
       "        vertical-align: top;\n",
       "    }\n",
       "\n",
       "    .dataframe thead th {\n",
       "        text-align: right;\n",
       "    }\n",
       "</style>\n",
       "<table border=\"1\" class=\"dataframe\">\n",
       "  <thead>\n",
       "    <tr style=\"text-align: right;\">\n",
       "      <th></th>\n",
       "      <th>country</th>\n",
       "      <th>city</th>\n",
       "      <th>phase</th>\n",
       "      <th>start_year</th>\n",
       "      <th>end_year</th>\n",
       "      <th>rr</th>\n",
       "      <th>length</th>\n",
       "      <th>tunnelper</th>\n",
       "      <th>tunnel</th>\n",
       "      <th>elevated</th>\n",
       "      <th>...</th>\n",
       "      <th>anglo</th>\n",
       "      <th>real_cost_2021</th>\n",
       "      <th>cost_km_2021</th>\n",
       "      <th>country_name</th>\n",
       "      <th>Region</th>\n",
       "      <th>IncomeGroup</th>\n",
       "      <th>2021</th>\n",
       "      <th>rule_of_law</th>\n",
       "      <th>no_corruption</th>\n",
       "      <th>enforcement</th>\n",
       "    </tr>\n",
       "  </thead>\n",
       "  <tbody>\n",
       "    <tr>\n",
       "      <th>0</th>\n",
       "      <td>TR</td>\n",
       "      <td>Istanbul</td>\n",
       "      <td>M4 Phase 3</td>\n",
       "      <td>2015</td>\n",
       "      <td>2022</td>\n",
       "      <td>0.0</td>\n",
       "      <td>7.5</td>\n",
       "      <td>1.000000</td>\n",
       "      <td>7.5</td>\n",
       "      <td>0.000</td>\n",
       "      <td>...</td>\n",
       "      <td>0.0</td>\n",
       "      <td>550.341886</td>\n",
       "      <td>73.378918</td>\n",
       "      <td>Turkiye</td>\n",
       "      <td>Europe &amp; Central Asia</td>\n",
       "      <td>Upper middle income</td>\n",
       "      <td>9661.227734</td>\n",
       "      <td>0.42</td>\n",
       "      <td>0.46</td>\n",
       "      <td>0.41</td>\n",
       "    </tr>\n",
       "    <tr>\n",
       "      <th>1</th>\n",
       "      <td>CA</td>\n",
       "      <td>Vancouver</td>\n",
       "      <td>Broadway</td>\n",
       "      <td>2020</td>\n",
       "      <td>2025</td>\n",
       "      <td>0.0</td>\n",
       "      <td>5.7</td>\n",
       "      <td>0.877193</td>\n",
       "      <td>5.0</td>\n",
       "      <td>0.295</td>\n",
       "      <td>...</td>\n",
       "      <td>1.0</td>\n",
       "      <td>2565.240650</td>\n",
       "      <td>450.042219</td>\n",
       "      <td>Canada</td>\n",
       "      <td>North America</td>\n",
       "      <td>High income</td>\n",
       "      <td>52358.621640</td>\n",
       "      <td>0.80</td>\n",
       "      <td>0.82</td>\n",
       "      <td>0.80</td>\n",
       "    </tr>\n",
       "    <tr>\n",
       "      <th>2</th>\n",
       "      <td>CA</td>\n",
       "      <td>Toronto</td>\n",
       "      <td>Vaughan</td>\n",
       "      <td>2009</td>\n",
       "      <td>2017</td>\n",
       "      <td>0.0</td>\n",
       "      <td>8.6</td>\n",
       "      <td>1.000000</td>\n",
       "      <td>8.6</td>\n",
       "      <td>0.000</td>\n",
       "      <td>...</td>\n",
       "      <td>1.0</td>\n",
       "      <td>3014.952287</td>\n",
       "      <td>350.575847</td>\n",
       "      <td>Canada</td>\n",
       "      <td>North America</td>\n",
       "      <td>High income</td>\n",
       "      <td>52358.621640</td>\n",
       "      <td>0.80</td>\n",
       "      <td>0.82</td>\n",
       "      <td>0.80</td>\n",
       "    </tr>\n",
       "    <tr>\n",
       "      <th>3</th>\n",
       "      <td>CA</td>\n",
       "      <td>Toronto</td>\n",
       "      <td>Scarborough</td>\n",
       "      <td>2020</td>\n",
       "      <td>2030</td>\n",
       "      <td>0.0</td>\n",
       "      <td>7.8</td>\n",
       "      <td>1.000000</td>\n",
       "      <td>7.8</td>\n",
       "      <td>0.000</td>\n",
       "      <td>...</td>\n",
       "      <td>1.0</td>\n",
       "      <td>4985.450027</td>\n",
       "      <td>639.160260</td>\n",
       "      <td>Canada</td>\n",
       "      <td>North America</td>\n",
       "      <td>High income</td>\n",
       "      <td>52358.621640</td>\n",
       "      <td>0.80</td>\n",
       "      <td>0.82</td>\n",
       "      <td>0.80</td>\n",
       "    </tr>\n",
       "    <tr>\n",
       "      <th>4</th>\n",
       "      <td>CA</td>\n",
       "      <td>Toronto</td>\n",
       "      <td>Ontario</td>\n",
       "      <td>2020</td>\n",
       "      <td>2030</td>\n",
       "      <td>0.0</td>\n",
       "      <td>15.5</td>\n",
       "      <td>0.570000</td>\n",
       "      <td>8.8</td>\n",
       "      <td>5.760</td>\n",
       "      <td>...</td>\n",
       "      <td>1.0</td>\n",
       "      <td>7632.655004</td>\n",
       "      <td>492.429355</td>\n",
       "      <td>Canada</td>\n",
       "      <td>North America</td>\n",
       "      <td>High income</td>\n",
       "      <td>52358.621640</td>\n",
       "      <td>0.80</td>\n",
       "      <td>0.82</td>\n",
       "      <td>0.80</td>\n",
       "    </tr>\n",
       "  </tbody>\n",
       "</table>\n",
       "<p>5 rows × 23 columns</p>\n",
       "</div>"
      ],
      "text/plain": [
       "  country       city        phase  start_year  end_year   rr  length  \\\n",
       "0      TR   Istanbul   M4 Phase 3        2015      2022  0.0     7.5   \n",
       "1      CA  Vancouver     Broadway        2020      2025  0.0     5.7   \n",
       "2      CA    Toronto      Vaughan        2009      2017  0.0     8.6   \n",
       "3      CA    Toronto  Scarborough        2020      2030  0.0     7.8   \n",
       "4      CA    Toronto      Ontario        2020      2030  0.0    15.5   \n",
       "\n",
       "   tunnelper  tunnel  elevated  ...  anglo  real_cost_2021 cost_km_2021  \\\n",
       "0   1.000000     7.5     0.000  ...    0.0      550.341886    73.378918   \n",
       "1   0.877193     5.0     0.295  ...    1.0     2565.240650   450.042219   \n",
       "2   1.000000     8.6     0.000  ...    1.0     3014.952287   350.575847   \n",
       "3   1.000000     7.8     0.000  ...    1.0     4985.450027   639.160260   \n",
       "4   0.570000     8.8     5.760  ...    1.0     7632.655004   492.429355   \n",
       "\n",
       "   country_name                 Region          IncomeGroup          2021  \\\n",
       "0       Turkiye  Europe & Central Asia  Upper middle income   9661.227734   \n",
       "1        Canada          North America          High income  52358.621640   \n",
       "2        Canada          North America          High income  52358.621640   \n",
       "3        Canada          North America          High income  52358.621640   \n",
       "4        Canada          North America          High income  52358.621640   \n",
       "\n",
       "  rule_of_law no_corruption  enforcement  \n",
       "0        0.42          0.46         0.41  \n",
       "1        0.80          0.82         0.80  \n",
       "2        0.80          0.82         0.80  \n",
       "3        0.80          0.82         0.80  \n",
       "4        0.80          0.82         0.80  \n",
       "\n",
       "[5 rows x 23 columns]"
      ]
     },
     "execution_count": 1,
     "metadata": {},
     "output_type": "execute_result"
    }
   ],
   "source": [
    "# libraries and importing the data\n",
    "import matplotlib.pyplot as plt\n",
    "import seaborn as sns\n",
    "import pandas as pd\n",
    "from sklearn import preprocessing\n",
    "from sklearn.cluster import KMeans\n",
    "from sklearn.cluster import KMeans\n",
    "from yellowbrick.cluster import KElbowVisualizer\n",
    "transit = pd.read_csv(\"Data/transit_income.csv\")\n",
    "transit.drop('Unnamed: 0', axis=1, inplace=True)\n",
    "transit.head()"
   ]
  },
  {
   "cell_type": "code",
   "execution_count": 2,
   "id": "ed540f29-0fe9-4496-84c5-419db830a4bb",
   "metadata": {},
   "outputs": [
    {
     "name": "stdout",
     "output_type": "stream",
     "text": [
      "\n",
      "Missing values:\n",
      "\n",
      "country                     0\n",
      "city                        0\n",
      "phase                       0\n",
      "start_year                  0\n",
      "end_year                    0\n",
      "rr                          0\n",
      "length                      0\n",
      "tunnelper                   0\n",
      "tunnel                      0\n",
      "elevated                  352\n",
      "atgrade                   354\n",
      "stations                    0\n",
      "platform_length_meters    429\n",
      "anglo                       0\n",
      "real_cost_2021              0\n",
      "cost_km_2021                0\n",
      "country_name                0\n",
      "Region                      0\n",
      "IncomeGroup                 0\n",
      "2021                        0\n",
      "rule_of_law                34\n",
      "no_corruption              34\n",
      "enforcement                34\n",
      "dtype: int64\n"
     ]
    }
   ],
   "source": [
    "# Check for missing data\n",
    "print(\"\\nMissing values:\\n\")\n",
    "print(transit.isnull().sum())"
   ]
  },
  {
   "cell_type": "code",
   "execution_count": 3,
   "id": "e0d17147-4734-4585-b15c-7f599c420052",
   "metadata": {},
   "outputs": [],
   "source": [
    "# Radial plot, code from Urban Data Science course\n",
    "import numpy as np\n",
    "\n",
    "import matplotlib.pyplot as plt\n",
    "from matplotlib.patches import Circle, RegularPolygon\n",
    "from matplotlib.path import Path\n",
    "from matplotlib.projections.polar import PolarAxes\n",
    "from matplotlib.projections import register_projection\n",
    "from matplotlib.spines import Spine\n",
    "from matplotlib.transforms import Affine2D\n",
    "\n",
    "\n",
    "def radar_factory(num_vars, frame='circle'):\n",
    "    \"\"\"\n",
    "    Create a radar chart with `num_vars` axes.\n",
    "\n",
    "    This function creates a RadarAxes projection and registers it.\n",
    "\n",
    "    Parameters\n",
    "    ----------\n",
    "    num_vars : int\n",
    "        Number of variables for radar chart.\n",
    "    frame : {'circle', 'polygon'}\n",
    "        Shape of frame surrounding axes.\n",
    "\n",
    "    \"\"\"\n",
    "    # calculate evenly-spaced axis angles\n",
    "    theta = np.linspace(0, 2*np.pi, num_vars, endpoint=False)\n",
    "\n",
    "    class RadarAxes(PolarAxes):\n",
    "\n",
    "        name = 'radar'\n",
    "        # use 1 line segment to connect specified points\n",
    "        RESOLUTION = 1\n",
    "\n",
    "        def __init__(self, *args, **kwargs):\n",
    "            super().__init__(*args, **kwargs)\n",
    "            # rotate plot such that the first axis is at the top\n",
    "            self.set_theta_zero_location('N')\n",
    "\n",
    "        def fill(self, *args, closed=True, **kwargs):\n",
    "            \"\"\"Override fill so that line is closed by default\"\"\"\n",
    "            return super().fill(closed=closed, *args, **kwargs)\n",
    "\n",
    "        def plot(self, *args, **kwargs):\n",
    "            \"\"\"Override plot so that line is closed by default\"\"\"\n",
    "            lines = super().plot(*args, **kwargs)\n",
    "            for line in lines:\n",
    "                self._close_line(line)\n",
    "\n",
    "        def _close_line(self, line):\n",
    "            x, y = line.get_data()\n",
    "            # FIXME: markers at x[0], y[0] get doubled-up\n",
    "            if x[0] != x[-1]:\n",
    "                x = np.append(x, x[0])\n",
    "                y = np.append(y, y[0])\n",
    "                line.set_data(x, y)\n",
    "\n",
    "        def set_varlabels(self, labels):\n",
    "            self.set_thetagrids(np.degrees(theta), labels)\n",
    "\n",
    "        def _gen_axes_patch(self):\n",
    "            # The Axes patch must be centered at (0.5, 0.5) and of radius 0.5\n",
    "            # in axes coordinates.\n",
    "            if frame == 'circle':\n",
    "                return Circle((0.5, 0.5), 0.5)\n",
    "            elif frame == 'polygon':\n",
    "                return RegularPolygon((0.5, 0.5), num_vars,\n",
    "                                      radius=.5, edgecolor=\"k\")\n",
    "            else:\n",
    "                raise ValueError(\"Unknown value for 'frame': %s\" % frame)\n",
    "\n",
    "        def _gen_axes_spines(self):\n",
    "            if frame == 'circle':\n",
    "                return super()._gen_axes_spines()\n",
    "            elif frame == 'polygon':\n",
    "                # spine_type must be 'left'/'right'/'top'/'bottom'/'circle'.\n",
    "                spine = Spine(axes=self,\n",
    "                              spine_type='circle',\n",
    "                              path=Path.unit_regular_polygon(num_vars))\n",
    "                # unit_regular_polygon gives a polygon of radius 1 centered at\n",
    "                # (0, 0) but we want a polygon of radius 0.5 centered at (0.5,\n",
    "                # 0.5) in axes coordinates.\n",
    "                spine.set_transform(Affine2D().scale(.5).translate(.5, .5)\n",
    "                                    + self.transAxes)\n",
    "                return {'polar': spine}\n",
    "            else:\n",
    "                raise ValueError(\"Unknown value for 'frame': %s\" % frame)\n",
    "\n",
    "    register_projection(RadarAxes)\n",
    "    return theta\n",
    "\n",
    "def radar_plot(kmeans, df_scaled):\n",
    "    N  = kmeans.cluster_centers_.shape[1]  # number of columns / variables\n",
    "    k = kmeans.n_clusters\n",
    "    theta = radar_factory(N, frame='polygon')\n",
    "    data = kmeans.cluster_centers_.T\n",
    "    spoke_labels = [col for col in df_scaled.columns if col!='cluster_id']\n",
    "    fig, ax = plt.subplots(figsize=(9, 9),\n",
    "                                subplot_kw=dict(projection='radar'))\n",
    "    fig.subplots_adjust(wspace=0.25, hspace=0.20, top=0.85, bottom=0.05)\n",
    "\n",
    "    ax.plot(theta, data) #, color=color)\n",
    "    ax.set_varlabels(spoke_labels)\n",
    "\n",
    "    # add legend relative to top-left plot\n",
    "    labels = ['Cluster {}'.format(kk) for kk in range(k)]\n",
    "    ax.legend(labels, loc=(0.9, .95),\n",
    "                                labelspacing=0.1, fontsize='small')\n",
    "    \n",
    "    \n",
    "    \n"
   ]
  },
  {
   "cell_type": "code",
   "execution_count": 59,
   "id": "9772db1a-66f7-4e66-a685-90c29cb1b790",
   "metadata": {},
   "outputs": [],
   "source": [
    "# function to cluster data\n",
    "# Note: Standardization is done with RobustScaler when cost is not included, and with standard scaler otherwise. \n",
    "# This is done to get the lowest distortion scores for the models, indicating that the data best fits this kind of standardization. \n",
    "\n",
    "def cluster_analysis(cols_to_plot):\n",
    "    # Preprocessing \n",
    "    data = transit[cols_to_plot]\n",
    "    print(data.describe())\n",
    "    # normalizing\n",
    "    if 'cost_km_2021' in cols_to_plot: \n",
    "        scaler = preprocessing.StandardScaler().fit(data)\n",
    "    else: \n",
    "        scaler = preprocessing.RobustScaler().fit(data)\n",
    "        \n",
    "    df_to_cluster = pd.DataFrame(scaler.transform(data), \n",
    "                         columns=data.columns, index=data.index) \n",
    "    \n",
    "    df_to_cluster=df_to_cluster.dropna()\n",
    "    # clustering\n",
    "    kmeans = KMeans(n_clusters=6, random_state=0).fit(df_to_cluster)\n",
    "    # adding cluster ids to the df\n",
    "    df_to_cluster['cluster_id'] = kmeans.labels_\n",
    "    # radar_plot(kmeans, df_to_cluster)\n",
    "    transit_cluster = transit.join(df_to_cluster['cluster_id'])\n",
    "    return (kmeans, df_to_cluster, transit_cluster)\n",
    "\n",
    "# function to generate elbowplot\n",
    "def elbowplot(df_to_cluster):\n",
    "    # optimal cluster determination\n",
    "    model = KMeans()\n",
    "    # k is range of number of clusters.\n",
    "    visualizer = KElbowVisualizer(model, k=(2,15), timings= False)\n",
    "    visualizer.fit(df_to_cluster)        \n",
    "    # Fit the data to the visualizer\n",
    "    visualizer.show() \n",
    "    \n",
    "    \n"
   ]
  },
  {
   "cell_type": "code",
   "execution_count": 60,
   "id": "9ca8a98b-9403-4600-adbb-d96666ade01a",
   "metadata": {},
   "outputs": [
    {
     "name": "stdout",
     "output_type": "stream",
     "text": [
      "           length   tunnelper          2021  rule_of_law  cost_km_2021\n",
      "count  835.000000  835.000000    835.000000   801.000000    835.000000\n",
      "mean    21.989873    0.756031  21480.363167     0.546355    244.824577\n",
      "std     20.280050    0.349736  17693.399665     0.129051    262.382249\n",
      "min      0.700000    0.000000   1505.010193     0.350000     10.812639\n",
      "25%      7.750000    0.580319  12617.504990     0.470000    145.262064\n",
      "50%     17.600000    1.000000  12617.504990     0.470000    188.709653\n",
      "75%     30.050000    1.000000  33190.000000     0.660000    249.309523\n",
      "max    200.000000    1.000000  91991.600460     0.900000   4491.344503\n",
      "           length   tunnelper          2021  rule_of_law\n",
      "count  835.000000  835.000000    835.000000   801.000000\n",
      "mean    21.989873    0.756031  21480.363167     0.546355\n",
      "std     20.280050    0.349736  17693.399665     0.129051\n",
      "min      0.700000    0.000000   1505.010193     0.350000\n",
      "25%      7.750000    0.580319  12617.504990     0.470000\n",
      "50%     17.600000    1.000000  12617.504990     0.470000\n",
      "75%     30.050000    1.000000  33190.000000     0.660000\n",
      "max    200.000000    1.000000  91991.600460     0.900000\n"
     ]
    },
    {
     "name": "stderr",
     "output_type": "stream",
     "text": [
      "/Users/chaithra/opt/anaconda3/envs/uds/lib/python3.10/site-packages/sklearn/cluster/_kmeans.py:870: FutureWarning: The default value of `n_init` will change from 10 to 'auto' in 1.4. Set the value of `n_init` explicitly to suppress the warning\n",
      "  warnings.warn(\n",
      "/Users/chaithra/opt/anaconda3/envs/uds/lib/python3.10/site-packages/sklearn/cluster/_kmeans.py:870: FutureWarning: The default value of `n_init` will change from 10 to 'auto' in 1.4. Set the value of `n_init` explicitly to suppress the warning\n",
      "  warnings.warn(\n"
     ]
    }
   ],
   "source": [
    "# the difference between the two models is inclusion of cost per km variable. \n",
    "# 'length','tunnelper', '2021' are selected to ensure low levels of correlation, and 'rule_of_law' is included to account for corruption/due process variable \n",
    "# Model 1\n",
    "\n",
    "cols_1 = [ 'length','tunnelper', '2021', 'rule_of_law', 'cost_km_2021']\n",
    "km1, dfc_1, tc_1 = cluster_analysis(cols_1)\n",
    "\n",
    "# Model 2\n",
    "cols_2 = [ 'length','tunnelper','2021', 'rule_of_law']\n",
    "km2, dfc_2, tc_2 = cluster_analysis(cols_2)"
   ]
  },
  {
   "cell_type": "code",
   "execution_count": 63,
   "id": "cf8ab98f-2c6e-41fb-8dff-9b6386991780",
   "metadata": {},
   "outputs": [
    {
     "name": "stderr",
     "output_type": "stream",
     "text": [
      "/Users/chaithra/opt/anaconda3/envs/uds/lib/python3.10/site-packages/sklearn/cluster/_kmeans.py:870: FutureWarning: The default value of `n_init` will change from 10 to 'auto' in 1.4. Set the value of `n_init` explicitly to suppress the warning\n",
      "  warnings.warn(\n",
      "/Users/chaithra/opt/anaconda3/envs/uds/lib/python3.10/site-packages/sklearn/cluster/_kmeans.py:870: FutureWarning: The default value of `n_init` will change from 10 to 'auto' in 1.4. Set the value of `n_init` explicitly to suppress the warning\n",
      "  warnings.warn(\n",
      "/Users/chaithra/opt/anaconda3/envs/uds/lib/python3.10/site-packages/sklearn/cluster/_kmeans.py:870: FutureWarning: The default value of `n_init` will change from 10 to 'auto' in 1.4. Set the value of `n_init` explicitly to suppress the warning\n",
      "  warnings.warn(\n",
      "/Users/chaithra/opt/anaconda3/envs/uds/lib/python3.10/site-packages/sklearn/cluster/_kmeans.py:870: FutureWarning: The default value of `n_init` will change from 10 to 'auto' in 1.4. Set the value of `n_init` explicitly to suppress the warning\n",
      "  warnings.warn(\n",
      "/Users/chaithra/opt/anaconda3/envs/uds/lib/python3.10/site-packages/sklearn/cluster/_kmeans.py:870: FutureWarning: The default value of `n_init` will change from 10 to 'auto' in 1.4. Set the value of `n_init` explicitly to suppress the warning\n",
      "  warnings.warn(\n",
      "/Users/chaithra/opt/anaconda3/envs/uds/lib/python3.10/site-packages/sklearn/cluster/_kmeans.py:870: FutureWarning: The default value of `n_init` will change from 10 to 'auto' in 1.4. Set the value of `n_init` explicitly to suppress the warning\n",
      "  warnings.warn(\n",
      "/Users/chaithra/opt/anaconda3/envs/uds/lib/python3.10/site-packages/sklearn/cluster/_kmeans.py:870: FutureWarning: The default value of `n_init` will change from 10 to 'auto' in 1.4. Set the value of `n_init` explicitly to suppress the warning\n",
      "  warnings.warn(\n",
      "/Users/chaithra/opt/anaconda3/envs/uds/lib/python3.10/site-packages/sklearn/cluster/_kmeans.py:870: FutureWarning: The default value of `n_init` will change from 10 to 'auto' in 1.4. Set the value of `n_init` explicitly to suppress the warning\n",
      "  warnings.warn(\n",
      "/Users/chaithra/opt/anaconda3/envs/uds/lib/python3.10/site-packages/sklearn/cluster/_kmeans.py:870: FutureWarning: The default value of `n_init` will change from 10 to 'auto' in 1.4. Set the value of `n_init` explicitly to suppress the warning\n",
      "  warnings.warn(\n",
      "/Users/chaithra/opt/anaconda3/envs/uds/lib/python3.10/site-packages/sklearn/cluster/_kmeans.py:870: FutureWarning: The default value of `n_init` will change from 10 to 'auto' in 1.4. Set the value of `n_init` explicitly to suppress the warning\n",
      "  warnings.warn(\n",
      "/Users/chaithra/opt/anaconda3/envs/uds/lib/python3.10/site-packages/sklearn/cluster/_kmeans.py:870: FutureWarning: The default value of `n_init` will change from 10 to 'auto' in 1.4. Set the value of `n_init` explicitly to suppress the warning\n",
      "  warnings.warn(\n",
      "/Users/chaithra/opt/anaconda3/envs/uds/lib/python3.10/site-packages/sklearn/cluster/_kmeans.py:870: FutureWarning: The default value of `n_init` will change from 10 to 'auto' in 1.4. Set the value of `n_init` explicitly to suppress the warning\n",
      "  warnings.warn(\n",
      "/Users/chaithra/opt/anaconda3/envs/uds/lib/python3.10/site-packages/sklearn/cluster/_kmeans.py:870: FutureWarning: The default value of `n_init` will change from 10 to 'auto' in 1.4. Set the value of `n_init` explicitly to suppress the warning\n",
      "  warnings.warn(\n"
     ]
    },
    {
     "data": {
      "image/png": "[encoded data removed]",
      "text/plain": [
       "<Figure size 800x550 with 1 Axes>"
      ]
     },
     "metadata": {},
     "output_type": "display_data"
    },
    {
     "name": "stderr",
     "output_type": "stream",
     "text": [
      "/Users/chaithra/opt/anaconda3/envs/uds/lib/python3.10/site-packages/sklearn/cluster/_kmeans.py:870: FutureWarning: The default value of `n_init` will change from 10 to 'auto' in 1.4. Set the value of `n_init` explicitly to suppress the warning\n",
      "  warnings.warn(\n",
      "/Users/chaithra/opt/anaconda3/envs/uds/lib/python3.10/site-packages/sklearn/cluster/_kmeans.py:870: FutureWarning: The default value of `n_init` will change from 10 to 'auto' in 1.4. Set the value of `n_init` explicitly to suppress the warning\n",
      "  warnings.warn(\n",
      "/Users/chaithra/opt/anaconda3/envs/uds/lib/python3.10/site-packages/sklearn/cluster/_kmeans.py:870: FutureWarning: The default value of `n_init` will change from 10 to 'auto' in 1.4. Set the value of `n_init` explicitly to suppress the warning\n",
      "  warnings.warn(\n",
      "/Users/chaithra/opt/anaconda3/envs/uds/lib/python3.10/site-packages/sklearn/cluster/_kmeans.py:870: FutureWarning: The default value of `n_init` will change from 10 to 'auto' in 1.4. Set the value of `n_init` explicitly to suppress the warning\n",
      "  warnings.warn(\n",
      "/Users/chaithra/opt/anaconda3/envs/uds/lib/python3.10/site-packages/sklearn/cluster/_kmeans.py:870: FutureWarning: The default value of `n_init` will change from 10 to 'auto' in 1.4. Set the value of `n_init` explicitly to suppress the warning\n",
      "  warnings.warn(\n",
      "/Users/chaithra/opt/anaconda3/envs/uds/lib/python3.10/site-packages/sklearn/cluster/_kmeans.py:870: FutureWarning: The default value of `n_init` will change from 10 to 'auto' in 1.4. Set the value of `n_init` explicitly to suppress the warning\n",
      "  warnings.warn(\n",
      "/Users/chaithra/opt/anaconda3/envs/uds/lib/python3.10/site-packages/sklearn/cluster/_kmeans.py:870: FutureWarning: The default value of `n_init` will change from 10 to 'auto' in 1.4. Set the value of `n_init` explicitly to suppress the warning\n",
      "  warnings.warn(\n",
      "/Users/chaithra/opt/anaconda3/envs/uds/lib/python3.10/site-packages/sklearn/cluster/_kmeans.py:870: FutureWarning: The default value of `n_init` will change from 10 to 'auto' in 1.4. Set the value of `n_init` explicitly to suppress the warning\n",
      "  warnings.warn(\n",
      "/Users/chaithra/opt/anaconda3/envs/uds/lib/python3.10/site-packages/sklearn/cluster/_kmeans.py:870: FutureWarning: The default value of `n_init` will change from 10 to 'auto' in 1.4. Set the value of `n_init` explicitly to suppress the warning\n",
      "  warnings.warn(\n",
      "/Users/chaithra/opt/anaconda3/envs/uds/lib/python3.10/site-packages/sklearn/cluster/_kmeans.py:870: FutureWarning: The default value of `n_init` will change from 10 to 'auto' in 1.4. Set the value of `n_init` explicitly to suppress the warning\n",
      "  warnings.warn(\n",
      "/Users/chaithra/opt/anaconda3/envs/uds/lib/python3.10/site-packages/sklearn/cluster/_kmeans.py:870: FutureWarning: The default value of `n_init` will change from 10 to 'auto' in 1.4. Set the value of `n_init` explicitly to suppress the warning\n",
      "  warnings.warn(\n",
      "/Users/chaithra/opt/anaconda3/envs/uds/lib/python3.10/site-packages/sklearn/cluster/_kmeans.py:870: FutureWarning: The default value of `n_init` will change from 10 to 'auto' in 1.4. Set the value of `n_init` explicitly to suppress the warning\n",
      "  warnings.warn(\n",
      "/Users/chaithra/opt/anaconda3/envs/uds/lib/python3.10/site-packages/sklearn/cluster/_kmeans.py:870: FutureWarning: The default value of `n_init` will change from 10 to 'auto' in 1.4. Set the value of `n_init` explicitly to suppress the warning\n",
      "  warnings.warn(\n"
     ]
    },
    {
     "data": {
      "image/png": "[encoded data removed]",
      "text/plain": [
       "<Figure size 800x550 with 1 Axes>"
      ]
     },
     "metadata": {},
     "output_type": "display_data"
    }
   ],
   "source": [
    "# elbowplots\n",
    "elbowplot(dfc_1)\n",
    "elbowplot(dfc_2)"
   ]
  },
  {
   "cell_type": "markdown",
   "id": "f9000fff-2516-4dcd-bc92-665407d1e3f4",
   "metadata": {},
   "source": [
    "Values for the elbowplot indicate that the ideal number of clusters is 6 for both the models. However, the lower distortion score of the model 2 indicate that a project characteristics and country characteristics based clustering gives more closely tired clusters. \n",
    "Increase in the distortions core with inclusion of cost variable indicates that variables beyond the model significantly influvence the cost. (A reason why regression was not done on the data, we get high levels of multicollienarity and relatively low r-squared values. Check notebook titled Regression)\n",
    "\n",
    "Plotting in radar plots"
   ]
  },
  {
   "cell_type": "code",
   "execution_count": 9,
   "id": "4c751ca3-4e16-4d58-ba9f-fbd4946723d8",
   "metadata": {},
   "outputs": [
    {
     "data": {
      "image/png": "[encoded data removed]",
      "text/plain": [
       "<Figure size 900x900 with 1 Axes>"
      ]
     },
     "metadata": {},
     "output_type": "display_data"
    }
   ],
   "source": [
    "radar_plot(km1, dfc_1)\n",
    "plt.title(\"Radar Plot for Model 1\")\n",
    "plt.savefig(\"Figures/radar_model_1.png\")"
   ]
  },
  {
   "cell_type": "code",
   "execution_count": 10,
   "id": "c615513a-b0d5-42cf-8e48-7b614f096b10",
   "metadata": {},
   "outputs": [
    {
     "data": {
      "image/png": "[encoded data removed]",
      "text/plain": [
       "<Figure size 900x900 with 1 Axes>"
      ]
     },
     "metadata": {},
     "output_type": "display_data"
    }
   ],
   "source": [
    "radar_plot(km2, dfc_2)\n",
    "plt.title(\"Radar Plot for Model 2\")\n",
    "plt.savefig(\"Figures/radar_model_2.png\")"
   ]
  },
  {
   "cell_type": "code",
   "execution_count": 16,
   "id": "9152a1d5-766b-404c-9a96-8516f4c193cb",
   "metadata": {},
   "outputs": [],
   "source": [
    "tc_1.to_csv(\"Cluster_results_model1.csv\")\n",
    "tc_2.to_csv(\"Cluster_results_model2.csv\")"
   ]
  },
  {
   "cell_type": "markdown",
   "id": "4b853ee7-858a-4df7-9fa3-1af35ca0080e",
   "metadata": {},
   "source": [
    "## Cluster Validation"
   ]
  },
  {
   "cell_type": "code",
   "execution_count": 109,
   "id": "313d213c-f848-4005-b931-3e331457dd0d",
   "metadata": {},
   "outputs": [
    {
     "data": {
      "text/html": [
       "<div>\n",
       "<style scoped>\n",
       "    .dataframe tbody tr th:only-of-type {\n",
       "        vertical-align: middle;\n",
       "    }\n",
       "\n",
       "    .dataframe tbody tr th {\n",
       "        vertical-align: top;\n",
       "    }\n",
       "\n",
       "    .dataframe thead th {\n",
       "        text-align: right;\n",
       "    }\n",
       "</style>\n",
       "<table border=\"1\" class=\"dataframe\">\n",
       "  <thead>\n",
       "    <tr style=\"text-align: right;\">\n",
       "      <th></th>\n",
       "      <th>Model 1</th>\n",
       "      <th>Model 2</th>\n",
       "    </tr>\n",
       "    <tr>\n",
       "      <th>cluster_id</th>\n",
       "      <th></th>\n",
       "      <th></th>\n",
       "    </tr>\n",
       "  </thead>\n",
       "  <tbody>\n",
       "    <tr>\n",
       "      <th>0.0</th>\n",
       "      <td>395</td>\n",
       "      <td>161</td>\n",
       "    </tr>\n",
       "    <tr>\n",
       "      <th>1.0</th>\n",
       "      <td>10</td>\n",
       "      <td>115</td>\n",
       "    </tr>\n",
       "    <tr>\n",
       "      <th>2.0</th>\n",
       "      <td>153</td>\n",
       "      <td>273</td>\n",
       "    </tr>\n",
       "    <tr>\n",
       "      <th>3.0</th>\n",
       "      <td>117</td>\n",
       "      <td>169</td>\n",
       "    </tr>\n",
       "    <tr>\n",
       "      <th>4.0</th>\n",
       "      <td>83</td>\n",
       "      <td>44</td>\n",
       "    </tr>\n",
       "    <tr>\n",
       "      <th>5.0</th>\n",
       "      <td>43</td>\n",
       "      <td>39</td>\n",
       "    </tr>\n",
       "  </tbody>\n",
       "</table>\n",
       "</div>"
      ],
      "text/plain": [
       "            Model 1  Model 2\n",
       "cluster_id                  \n",
       "0.0             395      161\n",
       "1.0              10      115\n",
       "2.0             153      273\n",
       "3.0             117      169\n",
       "4.0              83       44\n",
       "5.0              43       39"
      ]
     },
     "execution_count": 109,
     "metadata": {},
     "output_type": "execute_result"
    }
   ],
   "source": [
    "df = pd.DataFrame(tc_1.groupby(['cluster_id']).size(), columns=['Model 1'])\n",
    "df['Model 2'] = pd.DataFrame(tc_2.groupby(['cluster_id']).size())\n",
    "df"
   ]
  },
  {
   "cell_type": "code",
   "execution_count": 40,
   "id": "f02c2018-857f-4150-a6d0-d7455f6c22e3",
   "metadata": {},
   "outputs": [],
   "source": [
    "from sklearn.metrics import silhouette_score\n",
    "from sklearn.preprocessing import StandardScaler, RobustScaler\n",
    "\n",
    "def silhouette_score_find(data, cols):\n",
    "    data_cleaned = data[cols].dropna()\n",
    "    cluster_lables = data.loc[data_cleaned.index, 'cluster_id']\n",
    "    if 'cost_km_2021' in cols: \n",
    "        scaled_data = preprocessing.StandardScaler().fit_transform(data_cleaned)\n",
    "    else: \n",
    "        scaled_data = preprocessing.RobustScaler().fit_transform(data_cleaned)\n",
    "    silhouette_score_model = silhouette_score(scaled_data, cluster_lables)\n",
    "    return silhouette_score_model\n"
   ]
  },
  {
   "cell_type": "code",
   "execution_count": 64,
   "id": "f82aade3-3991-403c-b1d6-d35e58803dfc",
   "metadata": {},
   "outputs": [
    {
     "name": "stdout",
     "output_type": "stream",
     "text": [
      "Model 1 silhouette score: 0.4482832437362496\n",
      "Model 2 silhouette score: 0.41847273843348476\n"
     ]
    }
   ],
   "source": [
    "print(f'Model 1 silhouette score: {silhouette_score_find(tc_1, cols_1)}')\n",
    "print(f'Model 2 silhouette score: {silhouette_score_find(tc_2, cols_2)}')"
   ]
  },
  {
   "cell_type": "markdown",
   "id": "2b9c451e-e99d-49d4-b2c9-2e5e6c50e7da",
   "metadata": {},
   "source": [
    "Cluster 1 has more variable \n",
    "\n",
    "## ANOVA\n",
    "Since we are interested in the cost variable, lets see if any of the other variables are statisticaly significant in explaining its variation. "
   ]
  },
  {
   "cell_type": "code",
   "execution_count": 80,
   "id": "a6e3ed65-9438-45bb-8f7b-962011bf8e4b",
   "metadata": {},
   "outputs": [
    {
     "data": {
      "text/html": [
       "<div>\n",
       "<style scoped>\n",
       "    .dataframe tbody tr th:only-of-type {\n",
       "        vertical-align: middle;\n",
       "    }\n",
       "\n",
       "    .dataframe tbody tr th {\n",
       "        vertical-align: top;\n",
       "    }\n",
       "\n",
       "    .dataframe thead th {\n",
       "        text-align: right;\n",
       "    }\n",
       "</style>\n",
       "<table border=\"1\" class=\"dataframe\">\n",
       "  <thead>\n",
       "    <tr style=\"text-align: right;\">\n",
       "      <th></th>\n",
       "      <th>sum_sq</th>\n",
       "      <th>df</th>\n",
       "      <th>F</th>\n",
       "      <th>PR(&gt;F)</th>\n",
       "    </tr>\n",
       "  </thead>\n",
       "  <tbody>\n",
       "    <tr>\n",
       "      <th>C(cluster_id)</th>\n",
       "      <td>23612305.067</td>\n",
       "      <td>5.0</td>\n",
       "      <td>174.235867</td>\n",
       "      <td>0.000</td>\n",
       "    </tr>\n",
       "    <tr>\n",
       "      <th>length</th>\n",
       "      <td>10258.706</td>\n",
       "      <td>1.0</td>\n",
       "      <td>0.378496</td>\n",
       "      <td>0.539</td>\n",
       "    </tr>\n",
       "    <tr>\n",
       "      <th>tunnelper</th>\n",
       "      <td>13015.041</td>\n",
       "      <td>1.0</td>\n",
       "      <td>0.480192</td>\n",
       "      <td>0.489</td>\n",
       "    </tr>\n",
       "    <tr>\n",
       "      <th>Q(\"2021\")</th>\n",
       "      <td>1132932.198</td>\n",
       "      <td>1.0</td>\n",
       "      <td>41.799694</td>\n",
       "      <td>0.000</td>\n",
       "    </tr>\n",
       "    <tr>\n",
       "      <th>rule_of_law</th>\n",
       "      <td>176513.582</td>\n",
       "      <td>1.0</td>\n",
       "      <td>6.512494</td>\n",
       "      <td>0.011</td>\n",
       "    </tr>\n",
       "    <tr>\n",
       "      <th>Residual</th>\n",
       "      <td>21439137.224</td>\n",
       "      <td>791.0</td>\n",
       "      <td>NaN</td>\n",
       "      <td>nan</td>\n",
       "    </tr>\n",
       "  </tbody>\n",
       "</table>\n",
       "</div>"
      ],
      "text/plain": [
       "                     sum_sq     df           F PR(>F)\n",
       "C(cluster_id)  23612305.067    5.0  174.235867  0.000\n",
       "length            10258.706    1.0    0.378496  0.539\n",
       "tunnelper         13015.041    1.0    0.480192  0.489\n",
       "Q(\"2021\")       1132932.198    1.0   41.799694  0.000\n",
       "rule_of_law      176513.582    1.0    6.512494  0.011\n",
       "Residual       21439137.224  791.0         NaN    nan"
      ]
     },
     "execution_count": 80,
     "metadata": {},
     "output_type": "execute_result"
    }
   ],
   "source": [
    "# https://www.statsmodels.org/stable/anova.html \n",
    "import statsmodels.api as sm\n",
    "from statsmodels.formula.api import ols\n",
    "\n",
    "# Define the ANOVA model formula\n",
    "formula = 'cost_km_2021 ~ C(cluster_id) + length + tunnelper + Q(\"2021\") + rule_of_law'\n",
    "\n",
    "\n",
    "# Fit the ANOVA models\n",
    "model = ols(formula, data=tc_1).fit()\n",
    "\n",
    "# Perform the ANOVA\n",
    "anova_table = sm.stats.anova_lm(model, typ=2)\n",
    "\n",
    "anova_table = pd.DataFrame(anova_table)\n",
    "anova_table['PR(>F)'] = anova_table['PR(>F)'].apply(lambda x:\"{:.3f}\".format(x))\n",
    "anova_table['sum_sq'] = anova_table['sum_sq'].apply(lambda x:\"{:.3f}\".format(x))\n",
    "anova_table\n"
   ]
  },
  {
   "cell_type": "markdown",
   "id": "8bb9e5e5-6621-4d3e-be3f-81b8bce5ee88",
   "metadata": {},
   "source": [
    "We find that cluster membership, per capital income, and rule of law explain the variation in cost variable significantly. While length of the project, and tunnelper have no statitically significant effect on the variance in cost. The residual suggests that there are variables beyond the ones included in the model that affect cost. "
   ]
  },
  {
   "cell_type": "markdown",
   "id": "dd5e4487-96c1-4263-b509-aea39528d39a",
   "metadata": {},
   "source": [
    "## Understanding the Clusters"
   ]
  },
  {
   "cell_type": "code",
   "execution_count": 108,
   "id": "c3a65cff-db84-4a31-b29c-cd60c24acb6d",
   "metadata": {},
   "outputs": [
    {
     "data": {
      "text/html": [
       "<div>\n",
       "<style scoped>\n",
       "    .dataframe tbody tr th:only-of-type {\n",
       "        vertical-align: middle;\n",
       "    }\n",
       "\n",
       "    .dataframe tbody tr th {\n",
       "        vertical-align: top;\n",
       "    }\n",
       "\n",
       "    .dataframe thead th {\n",
       "        text-align: right;\n",
       "    }\n",
       "</style>\n",
       "<table border=\"1\" class=\"dataframe\">\n",
       "  <thead>\n",
       "    <tr style=\"text-align: right;\">\n",
       "      <th></th>\n",
       "      <th>Model 1</th>\n",
       "      <th>Model 2</th>\n",
       "    </tr>\n",
       "    <tr>\n",
       "      <th>cluster_id</th>\n",
       "      <th></th>\n",
       "      <th></th>\n",
       "    </tr>\n",
       "  </thead>\n",
       "  <tbody>\n",
       "    <tr>\n",
       "      <th>0.0</th>\n",
       "      <td>395</td>\n",
       "      <td>161</td>\n",
       "    </tr>\n",
       "    <tr>\n",
       "      <th>1.0</th>\n",
       "      <td>10</td>\n",
       "      <td>115</td>\n",
       "    </tr>\n",
       "    <tr>\n",
       "      <th>2.0</th>\n",
       "      <td>153</td>\n",
       "      <td>273</td>\n",
       "    </tr>\n",
       "    <tr>\n",
       "      <th>3.0</th>\n",
       "      <td>117</td>\n",
       "      <td>169</td>\n",
       "    </tr>\n",
       "    <tr>\n",
       "      <th>4.0</th>\n",
       "      <td>83</td>\n",
       "      <td>44</td>\n",
       "    </tr>\n",
       "    <tr>\n",
       "      <th>5.0</th>\n",
       "      <td>43</td>\n",
       "      <td>39</td>\n",
       "    </tr>\n",
       "  </tbody>\n",
       "</table>\n",
       "</div>"
      ],
      "text/plain": [
       "            Model 1  Model 2\n",
       "cluster_id                  \n",
       "0.0             395      161\n",
       "1.0              10      115\n",
       "2.0             153      273\n",
       "3.0             117      169\n",
       "4.0              83       44\n",
       "5.0              43       39"
      ]
     },
     "execution_count": 108,
     "metadata": {},
     "output_type": "execute_result"
    }
   ],
   "source": []
  },
  {
   "cell_type": "code",
   "execution_count": 24,
   "id": "5eb932cc-5baf-4bdc-b5ad-eb877fa3ea6d",
   "metadata": {},
   "outputs": [
    {
     "name": "stderr",
     "output_type": "stream",
     "text": [
      "/var/folders/cx/5hr478816plb9gd8v3v207d40000gn/T/ipykernel_19802/2642099030.py:3: FutureWarning: Indexing with multiple keys (implicitly converted to a tuple of keys) will be deprecated, use a list instead.\n",
      "  cluster_stats_model1 = tc_1.groupby('cluster_id')['cost_km_2021', 'length'].agg(['mean','std', 'max','size'])\n",
      "/var/folders/cx/5hr478816plb9gd8v3v207d40000gn/T/ipykernel_19802/2642099030.py:4: FutureWarning: Indexing with multiple keys (implicitly converted to a tuple of keys) will be deprecated, use a list instead.\n",
      "  cluster_stats_model2 = tc_2.groupby('cluster_id')['cost_km_2021',  'length'].agg(['mean', 'std', 'max', 'size'])\n"
     ]
    },
    {
     "data": {
      "text/plain": [
       "(           cost_km_2021                                   length             \\\n",
       "                    mean         std          max size       mean        std   \n",
       " cluster_id                                                                    \n",
       " 0.0          217.934535  101.847808   881.194559  395  19.287266  10.387136   \n",
       " 1.0         2022.235832  971.263189  4491.344503   10   4.340000   4.106688   \n",
       " 2.0          302.012219  221.592370  1015.816913  153   7.756542   8.315003   \n",
       " 3.0          156.967129   91.970468   611.741610  117  22.929496  12.804314   \n",
       " 4.0          175.990097   63.559951   433.928189   83  59.343152  24.318950   \n",
       " 5.0          209.608103  170.463050   931.321113   43  15.541860  11.656865   \n",
       " \n",
       "                         \n",
       "               max size  \n",
       " cluster_id              \n",
       " 0.0          42.3  395  \n",
       " 1.0          15.6   10  \n",
       " 2.0          47.8  153  \n",
       " 3.0          63.0  117  \n",
       " 4.0         200.0   83  \n",
       " 5.0          58.3   43  ,\n",
       "            cost_km_2021                                   length             \\\n",
       "                    mean         std          max size       mean        std   \n",
       " cluster_id                                                                    \n",
       " 0.0          408.400331  522.454593  4491.344503  161   7.247522   7.530159   \n",
       " 1.0          163.874517  105.314470   722.961089  115  21.651313  11.225942   \n",
       " 2.0          218.849488  105.496900   881.194559  273  13.813744   6.974588   \n",
       " 3.0          204.768199   73.522935   693.738516  169  36.469574   8.870989   \n",
       " 4.0          216.035859  173.780891   931.321113   44  15.540909  11.520524   \n",
       " 5.0          154.987510   82.950260   433.928189   39  73.079272  29.547519   \n",
       " \n",
       "                          \n",
       "                max size  \n",
       " cluster_id               \n",
       " 0.0          44.70  161  \n",
       " 1.0          48.18  115  \n",
       " 2.0          25.40  273  \n",
       " 3.0          62.50  169  \n",
       " 4.0          58.30   44  \n",
       " 5.0         200.00   39  )"
      ]
     },
     "execution_count": 24,
     "metadata": {},
     "output_type": "execute_result"
    }
   ],
   "source": [
    "# Group the data by 'cluster_id' and calculate the mean and standard deviation of 'cost per km' for each cluster\n",
    "# Compute the mean of each feature in each cluster for Model 1\n",
    "cluster_means_model1 = updated_model1_data.loc[clean_data_model1.index].groupby('cluster_id')[cols_model1].mean()\n",
    "\n",
    "# Compute the mean of each feature in each cluster for Model 2\n",
    "cluster_means_model2 = updated_model2_data.loc[clean_data_model2.index].groupby('cluster_id')[cols_model2].mean()\n",
    "\n",
    "cluster_means_model1, cluster_means_model2\n",
    "\n",
    "\n",
    "\n",
    "cluster_stats_model1 = tc_1.groupby('cluster_id')['cost_km_2021', 'length'].agg(['mean','std', 'max','size'])\n",
    "cluster_stats_model2 = tc_2.groupby('cluster_id')['cost_km_2021',  'length'].agg(['mean', 'std', 'max', 'size'])\n",
    "\n",
    "cluster_stats_model1, cluster_stats_model2\n"
   ]
  },
  {
   "cell_type": "markdown",
   "id": "0b83352b-9ba4-4869-943c-45b1a58464b1",
   "metadata": {},
   "source": [
    "# Selecting Case Studies"
   ]
  },
  {
   "cell_type": "code",
   "execution_count": 94,
   "id": "f321370d-da5b-4a2e-90dd-18774bf2f677",
   "metadata": {},
   "outputs": [
    {
     "data": {
      "text/html": [
       "<div>\n",
       "<style scoped>\n",
       "    .dataframe tbody tr th:only-of-type {\n",
       "        vertical-align: middle;\n",
       "    }\n",
       "\n",
       "    .dataframe tbody tr th {\n",
       "        vertical-align: top;\n",
       "    }\n",
       "\n",
       "    .dataframe thead th {\n",
       "        text-align: right;\n",
       "    }\n",
       "</style>\n",
       "<table border=\"1\" class=\"dataframe\">\n",
       "  <thead>\n",
       "    <tr style=\"text-align: right;\">\n",
       "      <th></th>\n",
       "      <th>country</th>\n",
       "      <th>city</th>\n",
       "      <th>phase</th>\n",
       "      <th>start_year</th>\n",
       "      <th>end_year</th>\n",
       "      <th>rr</th>\n",
       "      <th>length</th>\n",
       "      <th>tunnelper</th>\n",
       "      <th>tunnel</th>\n",
       "      <th>elevated</th>\n",
       "      <th>...</th>\n",
       "      <th>real_cost_2021</th>\n",
       "      <th>cost_km_2021</th>\n",
       "      <th>country_name</th>\n",
       "      <th>Region</th>\n",
       "      <th>IncomeGroup</th>\n",
       "      <th>2021</th>\n",
       "      <th>rule_of_law</th>\n",
       "      <th>no_corruption</th>\n",
       "      <th>enforcement</th>\n",
       "      <th>cluster_id</th>\n",
       "    </tr>\n",
       "  </thead>\n",
       "  <tbody>\n",
       "    <tr>\n",
       "      <th>8</th>\n",
       "      <td>US</td>\n",
       "      <td>Seattle</td>\n",
       "      <td>U-Link</td>\n",
       "      <td>2009</td>\n",
       "      <td>2016</td>\n",
       "      <td>0.0</td>\n",
       "      <td>5.1</td>\n",
       "      <td>1.00</td>\n",
       "      <td>5.1</td>\n",
       "      <td>0.00</td>\n",
       "      <td>...</td>\n",
       "      <td>2072.455378</td>\n",
       "      <td>406.363800</td>\n",
       "      <td>United States</td>\n",
       "      <td>North America</td>\n",
       "      <td>High income</td>\n",
       "      <td>70219.47245</td>\n",
       "      <td>0.69</td>\n",
       "      <td>0.72</td>\n",
       "      <td>0.71</td>\n",
       "      <td>0.0</td>\n",
       "    </tr>\n",
       "    <tr>\n",
       "      <th>12</th>\n",
       "      <td>US</td>\n",
       "      <td>Los Angeles</td>\n",
       "      <td>Regional Connector</td>\n",
       "      <td>2014</td>\n",
       "      <td>2022</td>\n",
       "      <td>0.0</td>\n",
       "      <td>3.1</td>\n",
       "      <td>1.00</td>\n",
       "      <td>3.1</td>\n",
       "      <td>0.00</td>\n",
       "      <td>...</td>\n",
       "      <td>1894.902651</td>\n",
       "      <td>611.258920</td>\n",
       "      <td>United States</td>\n",
       "      <td>North America</td>\n",
       "      <td>High income</td>\n",
       "      <td>70219.47245</td>\n",
       "      <td>0.69</td>\n",
       "      <td>0.72</td>\n",
       "      <td>0.71</td>\n",
       "      <td>0.0</td>\n",
       "    </tr>\n",
       "    <tr>\n",
       "      <th>13</th>\n",
       "      <td>US</td>\n",
       "      <td>San Francisco</td>\n",
       "      <td>Central Subway</td>\n",
       "      <td>2010</td>\n",
       "      <td>2021</td>\n",
       "      <td>0.0</td>\n",
       "      <td>2.7</td>\n",
       "      <td>1.00</td>\n",
       "      <td>2.7</td>\n",
       "      <td>0.00</td>\n",
       "      <td>...</td>\n",
       "      <td>1911.495928</td>\n",
       "      <td>707.961455</td>\n",
       "      <td>United States</td>\n",
       "      <td>North America</td>\n",
       "      <td>High income</td>\n",
       "      <td>70219.47245</td>\n",
       "      <td>0.69</td>\n",
       "      <td>0.72</td>\n",
       "      <td>0.71</td>\n",
       "      <td>0.0</td>\n",
       "    </tr>\n",
       "    <tr>\n",
       "      <th>137</th>\n",
       "      <td>US</td>\n",
       "      <td>New York</td>\n",
       "      <td>7 extension</td>\n",
       "      <td>2007</td>\n",
       "      <td>2014</td>\n",
       "      <td>0.0</td>\n",
       "      <td>1.6</td>\n",
       "      <td>1.00</td>\n",
       "      <td>1.6</td>\n",
       "      <td>0.00</td>\n",
       "      <td>...</td>\n",
       "      <td>2982.389845</td>\n",
       "      <td>1863.993653</td>\n",
       "      <td>United States</td>\n",
       "      <td>North America</td>\n",
       "      <td>High income</td>\n",
       "      <td>70219.47245</td>\n",
       "      <td>0.69</td>\n",
       "      <td>0.72</td>\n",
       "      <td>0.71</td>\n",
       "      <td>0.0</td>\n",
       "    </tr>\n",
       "    <tr>\n",
       "      <th>138</th>\n",
       "      <td>US</td>\n",
       "      <td>New York</td>\n",
       "      <td>Second Avenue Phase 1</td>\n",
       "      <td>2007</td>\n",
       "      <td>2016</td>\n",
       "      <td>0.0</td>\n",
       "      <td>2.7</td>\n",
       "      <td>1.00</td>\n",
       "      <td>2.7</td>\n",
       "      <td>0.00</td>\n",
       "      <td>...</td>\n",
       "      <td>5542.538066</td>\n",
       "      <td>2052.791876</td>\n",
       "      <td>United States</td>\n",
       "      <td>North America</td>\n",
       "      <td>High income</td>\n",
       "      <td>70219.47245</td>\n",
       "      <td>0.69</td>\n",
       "      <td>0.72</td>\n",
       "      <td>0.71</td>\n",
       "      <td>0.0</td>\n",
       "    </tr>\n",
       "    <tr>\n",
       "      <th>140</th>\n",
       "      <td>US</td>\n",
       "      <td>New York</td>\n",
       "      <td>East Side Access</td>\n",
       "      <td>2007</td>\n",
       "      <td>2022</td>\n",
       "      <td>1.0</td>\n",
       "      <td>2.8</td>\n",
       "      <td>1.00</td>\n",
       "      <td>2.8</td>\n",
       "      <td>0.00</td>\n",
       "      <td>...</td>\n",
       "      <td>12575.764608</td>\n",
       "      <td>4491.344503</td>\n",
       "      <td>United States</td>\n",
       "      <td>North America</td>\n",
       "      <td>High income</td>\n",
       "      <td>70219.47245</td>\n",
       "      <td>0.69</td>\n",
       "      <td>0.72</td>\n",
       "      <td>0.71</td>\n",
       "      <td>0.0</td>\n",
       "    </tr>\n",
       "    <tr>\n",
       "      <th>14</th>\n",
       "      <td>US</td>\n",
       "      <td>Boston</td>\n",
       "      <td>Green Line Extension</td>\n",
       "      <td>2013</td>\n",
       "      <td>2022</td>\n",
       "      <td>0.0</td>\n",
       "      <td>7.6</td>\n",
       "      <td>0.00</td>\n",
       "      <td>0.0</td>\n",
       "      <td>0.78</td>\n",
       "      <td>...</td>\n",
       "      <td>2396.537744</td>\n",
       "      <td>315.333914</td>\n",
       "      <td>United States</td>\n",
       "      <td>North America</td>\n",
       "      <td>High income</td>\n",
       "      <td>70219.47245</td>\n",
       "      <td>0.69</td>\n",
       "      <td>0.72</td>\n",
       "      <td>0.71</td>\n",
       "      <td>4.0</td>\n",
       "    </tr>\n",
       "    <tr>\n",
       "      <th>549</th>\n",
       "      <td>US</td>\n",
       "      <td>Los Angeles</td>\n",
       "      <td>Crenshaw/LAX Line</td>\n",
       "      <td>2014</td>\n",
       "      <td>2021</td>\n",
       "      <td>0.0</td>\n",
       "      <td>13.7</td>\n",
       "      <td>0.34</td>\n",
       "      <td>4.7</td>\n",
       "      <td>0.00</td>\n",
       "      <td>...</td>\n",
       "      <td>2321.462957</td>\n",
       "      <td>169.449851</td>\n",
       "      <td>United States</td>\n",
       "      <td>North America</td>\n",
       "      <td>High income</td>\n",
       "      <td>70219.47245</td>\n",
       "      <td>0.69</td>\n",
       "      <td>0.72</td>\n",
       "      <td>0.71</td>\n",
       "      <td>4.0</td>\n",
       "    </tr>\n",
       "    <tr>\n",
       "      <th>550</th>\n",
       "      <td>US</td>\n",
       "      <td>Miami</td>\n",
       "      <td>Metrorail extension to MIA</td>\n",
       "      <td>2009</td>\n",
       "      <td>2012</td>\n",
       "      <td>0.0</td>\n",
       "      <td>3.9</td>\n",
       "      <td>0.00</td>\n",
       "      <td>0.0</td>\n",
       "      <td>3.90</td>\n",
       "      <td>...</td>\n",
       "      <td>628.787192</td>\n",
       "      <td>161.227485</td>\n",
       "      <td>United States</td>\n",
       "      <td>North America</td>\n",
       "      <td>High income</td>\n",
       "      <td>70219.47245</td>\n",
       "      <td>0.69</td>\n",
       "      <td>0.72</td>\n",
       "      <td>0.71</td>\n",
       "      <td>4.0</td>\n",
       "    </tr>\n",
       "    <tr>\n",
       "      <th>552</th>\n",
       "      <td>US</td>\n",
       "      <td>Washington</td>\n",
       "      <td>Silver Line Phase 1</td>\n",
       "      <td>2009</td>\n",
       "      <td>2014</td>\n",
       "      <td>0.0</td>\n",
       "      <td>18.8</td>\n",
       "      <td>0.04</td>\n",
       "      <td>0.7</td>\n",
       "      <td>0.00</td>\n",
       "      <td>...</td>\n",
       "      <td>3592.229627</td>\n",
       "      <td>191.076044</td>\n",
       "      <td>United States</td>\n",
       "      <td>North America</td>\n",
       "      <td>High income</td>\n",
       "      <td>70219.47245</td>\n",
       "      <td>0.69</td>\n",
       "      <td>0.72</td>\n",
       "      <td>0.71</td>\n",
       "      <td>4.0</td>\n",
       "    </tr>\n",
       "    <tr>\n",
       "      <th>553</th>\n",
       "      <td>US</td>\n",
       "      <td>Washington</td>\n",
       "      <td>Silver Line Phase 2</td>\n",
       "      <td>2013</td>\n",
       "      <td>2022</td>\n",
       "      <td>0.0</td>\n",
       "      <td>18.3</td>\n",
       "      <td>0.00</td>\n",
       "      <td>0.0</td>\n",
       "      <td>0.00</td>\n",
       "      <td>...</td>\n",
       "      <td>3371.648580</td>\n",
       "      <td>184.243092</td>\n",
       "      <td>United States</td>\n",
       "      <td>North America</td>\n",
       "      <td>High income</td>\n",
       "      <td>70219.47245</td>\n",
       "      <td>0.69</td>\n",
       "      <td>0.72</td>\n",
       "      <td>0.71</td>\n",
       "      <td>4.0</td>\n",
       "    </tr>\n",
       "  </tbody>\n",
       "</table>\n",
       "<p>11 rows × 24 columns</p>\n",
       "</div>"
      ],
      "text/plain": [
       "    country           city                       phase  start_year  end_year  \\\n",
       "8        US        Seattle                      U-Link        2009      2016   \n",
       "12       US    Los Angeles          Regional Connector        2014      2022   \n",
       "13       US  San Francisco              Central Subway        2010      2021   \n",
       "137      US       New York                 7 extension        2007      2014   \n",
       "138      US       New York       Second Avenue Phase 1        2007      2016   \n",
       "140      US       New York            East Side Access        2007      2022   \n",
       "14       US         Boston        Green Line Extension        2013      2022   \n",
       "549      US    Los Angeles           Crenshaw/LAX Line        2014      2021   \n",
       "550      US          Miami  Metrorail extension to MIA        2009      2012   \n",
       "552      US     Washington         Silver Line Phase 1        2009      2014   \n",
       "553      US     Washington         Silver Line Phase 2        2013      2022   \n",
       "\n",
       "      rr  length  tunnelper  tunnel  elevated  ...  real_cost_2021  \\\n",
       "8    0.0     5.1       1.00     5.1      0.00  ...     2072.455378   \n",
       "12   0.0     3.1       1.00     3.1      0.00  ...     1894.902651   \n",
       "13   0.0     2.7       1.00     2.7      0.00  ...     1911.495928   \n",
       "137  0.0     1.6       1.00     1.6      0.00  ...     2982.389845   \n",
       "138  0.0     2.7       1.00     2.7      0.00  ...     5542.538066   \n",
       "140  1.0     2.8       1.00     2.8      0.00  ...    12575.764608   \n",
       "14   0.0     7.6       0.00     0.0      0.78  ...     2396.537744   \n",
       "549  0.0    13.7       0.34     4.7      0.00  ...     2321.462957   \n",
       "550  0.0     3.9       0.00     0.0      3.90  ...      628.787192   \n",
       "552  0.0    18.8       0.04     0.7      0.00  ...     3592.229627   \n",
       "553  0.0    18.3       0.00     0.0      0.00  ...     3371.648580   \n",
       "\n",
       "     cost_km_2021   country_name         Region  IncomeGroup         2021  \\\n",
       "8      406.363800  United States  North America  High income  70219.47245   \n",
       "12     611.258920  United States  North America  High income  70219.47245   \n",
       "13     707.961455  United States  North America  High income  70219.47245   \n",
       "137   1863.993653  United States  North America  High income  70219.47245   \n",
       "138   2052.791876  United States  North America  High income  70219.47245   \n",
       "140   4491.344503  United States  North America  High income  70219.47245   \n",
       "14     315.333914  United States  North America  High income  70219.47245   \n",
       "549    169.449851  United States  North America  High income  70219.47245   \n",
       "550    161.227485  United States  North America  High income  70219.47245   \n",
       "552    191.076044  United States  North America  High income  70219.47245   \n",
       "553    184.243092  United States  North America  High income  70219.47245   \n",
       "\n",
       "    rule_of_law no_corruption enforcement  cluster_id  \n",
       "8          0.69          0.72        0.71         0.0  \n",
       "12         0.69          0.72        0.71         0.0  \n",
       "13         0.69          0.72        0.71         0.0  \n",
       "137        0.69          0.72        0.71         0.0  \n",
       "138        0.69          0.72        0.71         0.0  \n",
       "140        0.69          0.72        0.71         0.0  \n",
       "14         0.69          0.72        0.71         4.0  \n",
       "549        0.69          0.72        0.71         4.0  \n",
       "550        0.69          0.72        0.71         4.0  \n",
       "552        0.69          0.72        0.71         4.0  \n",
       "553        0.69          0.72        0.71         4.0  \n",
       "\n",
       "[11 rows x 24 columns]"
      ]
     },
     "execution_count": 94,
     "metadata": {},
     "output_type": "execute_result"
    }
   ],
   "source": [
    "# \n",
    "def get_case_studies(df, country_code, num_clusters):\n",
    "    country_data = df[df['country'] == country_code]\n",
    "    country_data = country_data[country_data['end_year'] < 2023]\n",
    "    country_data = country_data[country_data['start_year'] > 2000]\n",
    "    case_studies = []\n",
    "\n",
    "    for i in range(num_clusters):\n",
    "        # Filter the data for the current cluster\n",
    "        cluster_data = country_data[country_data['cluster_id'] == i]\n",
    "        if len(cluster_data) > 0:\n",
    "            # Get the project with the maximum cost per km\n",
    "            max_cost_project = cluster_data\n",
    "            # Append this project to the case studies list\n",
    "            case_studies.append(max_cost_project)\n",
    "            \n",
    "    return pd.concat(case_studies)\n",
    "\n",
    "# Get case studies for China, Italy, and India\n",
    "cases_1 = get_case_studies(tc_1, 'US', 6)\n",
    "cases_2 = get_case_studies(tc_2, 'US', 6)\n",
    "# Display the case studies\n",
    "cases_2 \n"
   ]
  },
  {
   "cell_type": "code",
   "execution_count": 107,
   "id": "3710c932-6e17-4286-a984-7ca963533bc4",
   "metadata": {},
   "outputs": [
    {
     "data": {
      "text/html": [
       "<div>\n",
       "<style scoped>\n",
       "    .dataframe tbody tr th:only-of-type {\n",
       "        vertical-align: middle;\n",
       "    }\n",
       "\n",
       "    .dataframe tbody tr th {\n",
       "        vertical-align: top;\n",
       "    }\n",
       "\n",
       "    .dataframe thead th {\n",
       "        text-align: right;\n",
       "    }\n",
       "</style>\n",
       "<table border=\"1\" class=\"dataframe\">\n",
       "  <thead>\n",
       "    <tr style=\"text-align: right;\">\n",
       "      <th></th>\n",
       "      <th>country</th>\n",
       "      <th>city</th>\n",
       "      <th>phase</th>\n",
       "      <th>start_year</th>\n",
       "      <th>end_year</th>\n",
       "      <th>rr</th>\n",
       "      <th>length</th>\n",
       "      <th>tunnelper</th>\n",
       "      <th>tunnel</th>\n",
       "      <th>elevated</th>\n",
       "      <th>...</th>\n",
       "      <th>cost_km_2021</th>\n",
       "      <th>country_name</th>\n",
       "      <th>Region</th>\n",
       "      <th>IncomeGroup</th>\n",
       "      <th>2021</th>\n",
       "      <th>rule_of_law</th>\n",
       "      <th>no_corruption</th>\n",
       "      <th>enforcement</th>\n",
       "      <th>cluster_id_model1</th>\n",
       "      <th>cluster_id_model2</th>\n",
       "    </tr>\n",
       "  </thead>\n",
       "  <tbody>\n",
       "    <tr>\n",
       "      <th>137</th>\n",
       "      <td>US</td>\n",
       "      <td>New York</td>\n",
       "      <td>7 extension</td>\n",
       "      <td>2007</td>\n",
       "      <td>2014</td>\n",
       "      <td>0.0</td>\n",
       "      <td>1.6</td>\n",
       "      <td>1.00</td>\n",
       "      <td>1.6</td>\n",
       "      <td>0.00</td>\n",
       "      <td>...</td>\n",
       "      <td>1863.993653</td>\n",
       "      <td>United States</td>\n",
       "      <td>North America</td>\n",
       "      <td>High income</td>\n",
       "      <td>70219.47245</td>\n",
       "      <td>0.69</td>\n",
       "      <td>0.72</td>\n",
       "      <td>0.71</td>\n",
       "      <td>1.0</td>\n",
       "      <td>0.0</td>\n",
       "    </tr>\n",
       "    <tr>\n",
       "      <th>138</th>\n",
       "      <td>US</td>\n",
       "      <td>New York</td>\n",
       "      <td>Second Avenue Phase 1</td>\n",
       "      <td>2007</td>\n",
       "      <td>2016</td>\n",
       "      <td>0.0</td>\n",
       "      <td>2.7</td>\n",
       "      <td>1.00</td>\n",
       "      <td>2.7</td>\n",
       "      <td>0.00</td>\n",
       "      <td>...</td>\n",
       "      <td>2052.791876</td>\n",
       "      <td>United States</td>\n",
       "      <td>North America</td>\n",
       "      <td>High income</td>\n",
       "      <td>70219.47245</td>\n",
       "      <td>0.69</td>\n",
       "      <td>0.72</td>\n",
       "      <td>0.71</td>\n",
       "      <td>1.0</td>\n",
       "      <td>0.0</td>\n",
       "    </tr>\n",
       "    <tr>\n",
       "      <th>140</th>\n",
       "      <td>US</td>\n",
       "      <td>New York</td>\n",
       "      <td>East Side Access</td>\n",
       "      <td>2007</td>\n",
       "      <td>2022</td>\n",
       "      <td>1.0</td>\n",
       "      <td>2.8</td>\n",
       "      <td>1.00</td>\n",
       "      <td>2.8</td>\n",
       "      <td>0.00</td>\n",
       "      <td>...</td>\n",
       "      <td>4491.344503</td>\n",
       "      <td>United States</td>\n",
       "      <td>North America</td>\n",
       "      <td>High income</td>\n",
       "      <td>70219.47245</td>\n",
       "      <td>0.69</td>\n",
       "      <td>0.72</td>\n",
       "      <td>0.71</td>\n",
       "      <td>1.0</td>\n",
       "      <td>0.0</td>\n",
       "    </tr>\n",
       "    <tr>\n",
       "      <th>8</th>\n",
       "      <td>US</td>\n",
       "      <td>Seattle</td>\n",
       "      <td>U-Link</td>\n",
       "      <td>2009</td>\n",
       "      <td>2016</td>\n",
       "      <td>0.0</td>\n",
       "      <td>5.1</td>\n",
       "      <td>1.00</td>\n",
       "      <td>5.1</td>\n",
       "      <td>0.00</td>\n",
       "      <td>...</td>\n",
       "      <td>406.363800</td>\n",
       "      <td>United States</td>\n",
       "      <td>North America</td>\n",
       "      <td>High income</td>\n",
       "      <td>70219.47245</td>\n",
       "      <td>0.69</td>\n",
       "      <td>0.72</td>\n",
       "      <td>0.71</td>\n",
       "      <td>2.0</td>\n",
       "      <td>0.0</td>\n",
       "    </tr>\n",
       "    <tr>\n",
       "      <th>12</th>\n",
       "      <td>US</td>\n",
       "      <td>Los Angeles</td>\n",
       "      <td>Regional Connector</td>\n",
       "      <td>2014</td>\n",
       "      <td>2022</td>\n",
       "      <td>0.0</td>\n",
       "      <td>3.1</td>\n",
       "      <td>1.00</td>\n",
       "      <td>3.1</td>\n",
       "      <td>0.00</td>\n",
       "      <td>...</td>\n",
       "      <td>611.258920</td>\n",
       "      <td>United States</td>\n",
       "      <td>North America</td>\n",
       "      <td>High income</td>\n",
       "      <td>70219.47245</td>\n",
       "      <td>0.69</td>\n",
       "      <td>0.72</td>\n",
       "      <td>0.71</td>\n",
       "      <td>2.0</td>\n",
       "      <td>0.0</td>\n",
       "    </tr>\n",
       "    <tr>\n",
       "      <th>13</th>\n",
       "      <td>US</td>\n",
       "      <td>San Francisco</td>\n",
       "      <td>Central Subway</td>\n",
       "      <td>2010</td>\n",
       "      <td>2021</td>\n",
       "      <td>0.0</td>\n",
       "      <td>2.7</td>\n",
       "      <td>1.00</td>\n",
       "      <td>2.7</td>\n",
       "      <td>0.00</td>\n",
       "      <td>...</td>\n",
       "      <td>707.961455</td>\n",
       "      <td>United States</td>\n",
       "      <td>North America</td>\n",
       "      <td>High income</td>\n",
       "      <td>70219.47245</td>\n",
       "      <td>0.69</td>\n",
       "      <td>0.72</td>\n",
       "      <td>0.71</td>\n",
       "      <td>2.0</td>\n",
       "      <td>0.0</td>\n",
       "    </tr>\n",
       "    <tr>\n",
       "      <th>14</th>\n",
       "      <td>US</td>\n",
       "      <td>Boston</td>\n",
       "      <td>Green Line Extension</td>\n",
       "      <td>2013</td>\n",
       "      <td>2022</td>\n",
       "      <td>0.0</td>\n",
       "      <td>7.6</td>\n",
       "      <td>0.00</td>\n",
       "      <td>0.0</td>\n",
       "      <td>0.78</td>\n",
       "      <td>...</td>\n",
       "      <td>315.333914</td>\n",
       "      <td>United States</td>\n",
       "      <td>North America</td>\n",
       "      <td>High income</td>\n",
       "      <td>70219.47245</td>\n",
       "      <td>0.69</td>\n",
       "      <td>0.72</td>\n",
       "      <td>0.71</td>\n",
       "      <td>5.0</td>\n",
       "      <td>4.0</td>\n",
       "    </tr>\n",
       "    <tr>\n",
       "      <th>549</th>\n",
       "      <td>US</td>\n",
       "      <td>Los Angeles</td>\n",
       "      <td>Crenshaw/LAX Line</td>\n",
       "      <td>2014</td>\n",
       "      <td>2021</td>\n",
       "      <td>0.0</td>\n",
       "      <td>13.7</td>\n",
       "      <td>0.34</td>\n",
       "      <td>4.7</td>\n",
       "      <td>0.00</td>\n",
       "      <td>...</td>\n",
       "      <td>169.449851</td>\n",
       "      <td>United States</td>\n",
       "      <td>North America</td>\n",
       "      <td>High income</td>\n",
       "      <td>70219.47245</td>\n",
       "      <td>0.69</td>\n",
       "      <td>0.72</td>\n",
       "      <td>0.71</td>\n",
       "      <td>5.0</td>\n",
       "      <td>4.0</td>\n",
       "    </tr>\n",
       "    <tr>\n",
       "      <th>550</th>\n",
       "      <td>US</td>\n",
       "      <td>Miami</td>\n",
       "      <td>Metrorail extension to MIA</td>\n",
       "      <td>2009</td>\n",
       "      <td>2012</td>\n",
       "      <td>0.0</td>\n",
       "      <td>3.9</td>\n",
       "      <td>0.00</td>\n",
       "      <td>0.0</td>\n",
       "      <td>3.90</td>\n",
       "      <td>...</td>\n",
       "      <td>161.227485</td>\n",
       "      <td>United States</td>\n",
       "      <td>North America</td>\n",
       "      <td>High income</td>\n",
       "      <td>70219.47245</td>\n",
       "      <td>0.69</td>\n",
       "      <td>0.72</td>\n",
       "      <td>0.71</td>\n",
       "      <td>5.0</td>\n",
       "      <td>4.0</td>\n",
       "    </tr>\n",
       "    <tr>\n",
       "      <th>552</th>\n",
       "      <td>US</td>\n",
       "      <td>Washington</td>\n",
       "      <td>Silver Line Phase 1</td>\n",
       "      <td>2009</td>\n",
       "      <td>2014</td>\n",
       "      <td>0.0</td>\n",
       "      <td>18.8</td>\n",
       "      <td>0.04</td>\n",
       "      <td>0.7</td>\n",
       "      <td>0.00</td>\n",
       "      <td>...</td>\n",
       "      <td>191.076044</td>\n",
       "      <td>United States</td>\n",
       "      <td>North America</td>\n",
       "      <td>High income</td>\n",
       "      <td>70219.47245</td>\n",
       "      <td>0.69</td>\n",
       "      <td>0.72</td>\n",
       "      <td>0.71</td>\n",
       "      <td>5.0</td>\n",
       "      <td>4.0</td>\n",
       "    </tr>\n",
       "    <tr>\n",
       "      <th>553</th>\n",
       "      <td>US</td>\n",
       "      <td>Washington</td>\n",
       "      <td>Silver Line Phase 2</td>\n",
       "      <td>2013</td>\n",
       "      <td>2022</td>\n",
       "      <td>0.0</td>\n",
       "      <td>18.3</td>\n",
       "      <td>0.00</td>\n",
       "      <td>0.0</td>\n",
       "      <td>0.00</td>\n",
       "      <td>...</td>\n",
       "      <td>184.243092</td>\n",
       "      <td>United States</td>\n",
       "      <td>North America</td>\n",
       "      <td>High income</td>\n",
       "      <td>70219.47245</td>\n",
       "      <td>0.69</td>\n",
       "      <td>0.72</td>\n",
       "      <td>0.71</td>\n",
       "      <td>5.0</td>\n",
       "      <td>4.0</td>\n",
       "    </tr>\n",
       "  </tbody>\n",
       "</table>\n",
       "<p>11 rows × 25 columns</p>\n",
       "</div>"
      ],
      "text/plain": [
       "    country           city                       phase  start_year  end_year  \\\n",
       "137      US       New York                 7 extension        2007      2014   \n",
       "138      US       New York       Second Avenue Phase 1        2007      2016   \n",
       "140      US       New York            East Side Access        2007      2022   \n",
       "8        US        Seattle                      U-Link        2009      2016   \n",
       "12       US    Los Angeles          Regional Connector        2014      2022   \n",
       "13       US  San Francisco              Central Subway        2010      2021   \n",
       "14       US         Boston        Green Line Extension        2013      2022   \n",
       "549      US    Los Angeles           Crenshaw/LAX Line        2014      2021   \n",
       "550      US          Miami  Metrorail extension to MIA        2009      2012   \n",
       "552      US     Washington         Silver Line Phase 1        2009      2014   \n",
       "553      US     Washington         Silver Line Phase 2        2013      2022   \n",
       "\n",
       "      rr  length  tunnelper  tunnel  elevated  ...  cost_km_2021  \\\n",
       "137  0.0     1.6       1.00     1.6      0.00  ...   1863.993653   \n",
       "138  0.0     2.7       1.00     2.7      0.00  ...   2052.791876   \n",
       "140  1.0     2.8       1.00     2.8      0.00  ...   4491.344503   \n",
       "8    0.0     5.1       1.00     5.1      0.00  ...    406.363800   \n",
       "12   0.0     3.1       1.00     3.1      0.00  ...    611.258920   \n",
       "13   0.0     2.7       1.00     2.7      0.00  ...    707.961455   \n",
       "14   0.0     7.6       0.00     0.0      0.78  ...    315.333914   \n",
       "549  0.0    13.7       0.34     4.7      0.00  ...    169.449851   \n",
       "550  0.0     3.9       0.00     0.0      3.90  ...    161.227485   \n",
       "552  0.0    18.8       0.04     0.7      0.00  ...    191.076044   \n",
       "553  0.0    18.3       0.00     0.0      0.00  ...    184.243092   \n",
       "\n",
       "      country_name         Region  IncomeGroup         2021  rule_of_law  \\\n",
       "137  United States  North America  High income  70219.47245         0.69   \n",
       "138  United States  North America  High income  70219.47245         0.69   \n",
       "140  United States  North America  High income  70219.47245         0.69   \n",
       "8    United States  North America  High income  70219.47245         0.69   \n",
       "12   United States  North America  High income  70219.47245         0.69   \n",
       "13   United States  North America  High income  70219.47245         0.69   \n",
       "14   United States  North America  High income  70219.47245         0.69   \n",
       "549  United States  North America  High income  70219.47245         0.69   \n",
       "550  United States  North America  High income  70219.47245         0.69   \n",
       "552  United States  North America  High income  70219.47245         0.69   \n",
       "553  United States  North America  High income  70219.47245         0.69   \n",
       "\n",
       "    no_corruption enforcement cluster_id_model1  cluster_id_model2  \n",
       "137          0.72        0.71               1.0                0.0  \n",
       "138          0.72        0.71               1.0                0.0  \n",
       "140          0.72        0.71               1.0                0.0  \n",
       "8            0.72        0.71               2.0                0.0  \n",
       "12           0.72        0.71               2.0                0.0  \n",
       "13           0.72        0.71               2.0                0.0  \n",
       "14           0.72        0.71               5.0                4.0  \n",
       "549          0.72        0.71               5.0                4.0  \n",
       "550          0.72        0.71               5.0                4.0  \n",
       "552          0.72        0.71               5.0                4.0  \n",
       "553          0.72        0.71               5.0                4.0  \n",
       "\n",
       "[11 rows x 25 columns]"
      ]
     },
     "execution_count": 107,
     "metadata": {},
     "output_type": "execute_result"
    }
   ],
   "source": [
    "cases = cases_1.join(cases_2['cluster_id'], lsuffix='_model1', rsuffix='_model2')\n",
    "cases"
   ]
  },
  {
   "cell_type": "code",
   "execution_count": 18,
   "id": "407006a8-e2ed-4a6d-97a4-8dbb83b6f456",
   "metadata": {},
   "outputs": [],
   "source": [
    "def cluster_visualize(km, tc, x, y):\n",
    "    tc=tc[tc['cluster_id'].notnull()]\n",
    "    # get the cluster ids\n",
    "    label = tc.cluster_id\n",
    "    # Get the # clusters\n",
    "    cluster_unique = np.unique(label)\n",
    "\n",
    "\n",
    "    # Plot the points in each cluster\n",
    "    for i in cluster_unique:\n",
    "        cluster_points = tc[label == i]\n",
    "        plt.scatter(cluster_points[x], cluster_points[y], label=i)\n",
    "\n",
    "    plt.xlabel(x)\n",
    "    plt.ylabel(y)\n",
    "    plt.title(\"Scatter Plot\")\n",
    "\n",
    "\n",
    "    # Add a legend and show the plot\n",
    "    plt.legend()\n",
    "    plt.show()\n",
    "\n",
    "\n",
    "\n"
   ]
  },
  {
   "cell_type": "code",
   "execution_count": 19,
   "id": "b33e2038-2802-42c8-ad04-744dfd31d0a2",
   "metadata": {},
   "outputs": [
    {
     "data": {
      "image/png": "[encoded data removed]",
      "text/plain": [
       "<Figure size 800x550 with 1 Axes>"
      ]
     },
     "metadata": {},
     "output_type": "display_data"
    }
   ],
   "source": [
    "cluster_visualize(km2, tc_2, 'length', 'tunnelper')"
   ]
  },
  {
   "cell_type": "code",
   "execution_count": 20,
   "id": "9249d2e9-18b0-4e57-9a8c-a541e3aaeb2d",
   "metadata": {},
   "outputs": [
    {
     "data": {
      "image/png": "[encoded data removed]",
      "text/plain": [
       "<Figure size 800x550 with 1 Axes>"
      ]
     },
     "metadata": {},
     "output_type": "display_data"
    }
   ],
   "source": [
    "cluster_visualize(km1, tc_1, 'tunnelper', 'length')"
   ]
  },
  {
   "cell_type": "code",
   "execution_count": 175,
   "id": "f39e4521-1049-4905-8855-0c610a4799c0",
   "metadata": {},
   "outputs": [
    {
     "data": {
      "application/vnd.plotly.v1+json": {
       "config": {
        "plotlyServerURL": "https://plot.ly"
       },
       "data": [
        {
         "customdata": [
          [
           "M4 Phase 3"
          ],
          [
           "Broadway"
          ],
          [
           "Vaughan"
          ],
          [
           "Scarborough"
          ],
          [
           "Ontario"
          ],
          [
           "Yonge to Richmond Hill"
          ],
          [
           "Amsterdam North South"
          ],
          [
           "Blue Line extension"
          ],
          [
           "U-Link"
          ],
          [
           "Purple Phase 3"
          ],
          [
           "Purple Phase 2"
          ],
          [
           "Purple Phase 1"
          ],
          [
           "Regional Connector"
          ],
          [
           "Central Subway"
          ],
          [
           "Green Line Extension"
          ],
          [
           "Confederation"
          ],
          [
           "BART to San Jose"
          ],
          [
           "Line 1 northern"
          ],
          [
           "Line 1 southern"
          ],
          [
           "Line 2"
          ],
          [
           "Line 2 extension"
          ],
          [
           "Line 3"
          ],
          [
           "Line 3 extension (Third Stage)"
          ],
          [
           "Line 2"
          ],
          [
           "Line 2 extension to Trocka"
          ],
          [
           "Line 2 extension to KJ"
          ],
          [
           "Line 2 extension to Bródno"
          ],
          [
           "Line 5"
          ],
          [
           "Line 11"
          ],
          [
           "Line 2 extension"
          ],
          [
           "Line 3 extension"
          ],
          [
           "Line 5 extension"
          ],
          [
           "Line 1 extension"
          ],
          [
           "Line A extension"
          ],
          [
           "Line 4"
          ],
          [
           "Line 3"
          ],
          [
           "Line 1 phases 1-3"
          ],
          [
           "Line 1 south (phase 4)"
          ],
          [
           "Line 1 west (phase 5)"
          ],
          [
           "West Metro phase 1"
          ],
          [
           "West Metro phase 2"
          ],
          [
           "Ring Rail Line"
          ],
          [
           "Arenastaden"
          ],
          [
           "Nacka/Söderort"
          ],
          [
           "Barkarby"
          ],
          [
           "Citybanan"
          ],
          [
           "Citytunneln"
          ],
          [
           "Northern Line Extension"
          ],
          [
           "Line 12"
          ],
          [
           "Wanda Line Phase 2"
          ],
          [
           "M5 phase 1"
          ],
          [
           "M5 phase 2"
          ],
          [
           "Line 4"
          ],
          [
           "Grand Paris Express"
          ],
          [
           "Passante Railway (tunnel section only)"
          ],
          [
           "Line 3"
          ],
          [
           "Line 2"
          ],
          [
           "Sinbundang"
          ],
          [
           "Sinbundang Phase 2"
          ],
          [
           "Line 3"
          ],
          [
           "City Tunnel"
          ],
          [
           "Line B1 extension"
          ],
          [
           "Line C - section T6a"
          ],
          [
           "Line C - section T4-5"
          ],
          [
           "Line C - section T3"
          ],
          [
           "U55"
          ],
          [
           "U5-U55 connection"
          ],
          [
           "Line 3"
          ],
          [
           "City Circle Line"
          ],
          [
           "Løren Line"
          ],
          [
           "Fornebu Line"
          ],
          [
           "Metro City & SW"
          ],
          [
           "Metro NW"
          ],
          [
           "Metro Tunnel"
          ],
          [
           "Downtown MRT Line"
          ],
          [
           "Thomson MRT Line"
          ],
          [
           "Eglinton Crosstown"
          ],
          [
           "Monorail"
          ],
          [
           "Line 3"
          ],
          [
           "Line 2A"
          ],
          [
           "Line 2B"
          ],
          [
           "Line 4"
          ],
          [
           "Line 4A"
          ],
          [
           "Line 5"
          ],
          [
           "Line 6"
          ],
          [
           "Line 7"
          ],
          [
           "Line 7A + 9"
          ],
          [
           "Line 10"
          ],
          [
           "Line 11"
          ],
          [
           "Line 12"
          ],
          [
           "Line 4"
          ],
          [
           "Line 3 to Piraeus"
          ],
          [
           "Main line"
          ],
          [
           "Kalamaria Extension"
          ],
          [
           "Line 1 extension"
          ],
          [
           "Gimpo Urban Railway"
          ],
          [
           "Line 7 extension"
          ],
          [
           "2020s program"
          ],
          [
           "Circle Line Stage 6"
          ],
          [
           "Line 12 to Aubervilliers"
          ],
          [
           "Line 1 extension"
          ],
          [
           "Jubilee line extension"
          ],
          [
           "Line 7"
          ],
          [
           "Project 63"
          ],
          [
           "Line 5 extension"
          ],
          [
           "Lines 1-2"
          ],
          [
           "Line 1"
          ],
          [
           "Line 2"
          ],
          [
           "Line 3"
          ],
          [
           "Line 9"
          ],
          [
           "Line 7"
          ],
          [
           "Line 5"
          ],
          [
           "Line 4"
          ],
          [
           "Line 2 extension"
          ],
          [
           "Line 1 extension"
          ],
          [
           "U2/U5 cross"
          ],
          [
           "Metro"
          ],
          [
           "Phase 3"
          ],
          [
           "Phase 4 first half"
          ],
          [
           "Phase 4 second half"
          ],
          [
           "Line 3 extension to SW"
          ],
          [
           "Line 6"
          ],
          [
           "Line 7"
          ],
          [
           "1995-98 program"
          ],
          [
           "1999-2003 program"
          ],
          [
           "Circular line"
          ],
          [
           "Pink line, yellow line"
          ],
          [
           "Eje Transversal"
          ],
          [
           "Line 2 extension"
          ],
          [
           "Line 9 extension"
          ],
          [
           "Metro"
          ],
          [
           "Chamartin-Atocha tunnel"
          ],
          [
           "Line 14"
          ],
          [
           "Sheppard"
          ],
          [
           "Laval extension"
          ],
          [
           "Kombilösung"
          ],
          [
           "Wehrhahn Line"
          ],
          [
           "7 extension"
          ],
          [
           "Second Avenue Phase 1"
          ],
          [
           "Second Avenue Phase 2"
          ],
          [
           "East Side Access"
          ],
          [
           "Gateway"
          ],
          [
           "Crossrail"
          ],
          [
           "Line 4 to Bagneux"
          ],
          [
           "RER E extension"
          ],
          [
           "Line 4 to Montrouge"
          ],
          [
           "Line 8 to Pointe-du-Lac"
          ],
          [
           "Line 13 to Courtilles"
          ],
          [
           "Line 12 to Front Populaire"
          ],
          [
           "Line 11"
          ],
          [
           "Red Line"
          ],
          [
           "Green Line"
          ],
          [
           "City Rail Link"
          ],
          [
           "U4 to HafenCity U"
          ],
          [
           "U4 to Elbbrücken"
          ],
          [
           "U4 to Dannerallee"
          ],
          [
           "L3 to Trinitat Nova"
          ],
          [
           "Terrassa tunnel"
          ],
          [
           "Sabadell tunnel"
          ],
          [
           "L2 to Badalona"
          ],
          [
           "L5 to Vall d'Hebron"
          ],
          [
           "L9/10"
          ],
          [
           "Line 3"
          ],
          [
           "Line 1"
          ],
          [
           "Lines 1-2"
          ],
          [
           "Line 6"
          ],
          [
           "Line 1"
          ],
          [
           "Line 5"
          ],
          [
           "MRT first phase"
          ],
          [
           "Line A to Vaulx"
          ],
          [
           "Line B to Oullins"
          ],
          [
           "Line B to Hospital-Sud"
          ],
          [
           "Orange Line"
          ],
          [
           "Sukhumvit Line to Kheka"
          ],
          [
           "Sukhumvit Line to Khu Khot"
          ],
          [
           "Blue Line extension"
          ],
          [
           "Brown Line"
          ],
          [
           "Pink Line"
          ],
          [
           "Yellow Line"
          ],
          [
           "Orange Line"
          ],
          [
           "Red Line"
          ],
          [
           "Line 1"
          ],
          [
           "Line 2 first phase"
          ],
          [
           "Line 5 first phase"
          ],
          [
           "Tokaido branch relocation"
          ],
          [
           "Higashi Line"
          ],
          [
           "Monorail extension"
          ],
          [
           "Fukutoshin Line"
          ],
          [
           "Minatomirai Line"
          ],
          [
           "Oedo Line ring"
          ],
          [
           "Haneda express line"
          ],
          [
           "Tama Monorail first phase"
          ],
          [
           "Monorail to Tokyo Station"
          ],
          [
           "Tokyo-Ueno Line"
          ],
          [
           "Sotetsu Shin-Yokohama JR Line"
          ],
          [
           "Sotetsu Shin-Yokohama Tokyu Line"
          ],
          [
           "Nanakuma Line extension"
          ],
          [
           "Line 6 phase 1"
          ],
          [
           "Zentralbahn"
          ],
          [
           "Durchmesserlinie"
          ],
          [
           "Tsukuba Express"
          ],
          [
           "Phase 2"
          ],
          [
           "Phase 1"
          ],
          [
           "Phase 1"
          ],
          [
           "Phase 2"
          ],
          [
           "Phase 1"
          ],
          [
           "Phase 1"
          ],
          [
           "Phase 1"
          ],
          [
           "Airport express"
          ],
          [
           "Phase 1"
          ],
          [
           "Phase 1 extension"
          ],
          [
           "Phase 2"
          ],
          [
           "CEVA"
          ],
          [
           "M3 to Vynohradar"
          ],
          [
           "M4"
          ],
          [
           "M3 extension"
          ],
          [
           "Sanying Line"
          ],
          [
           "Danhai LRT"
          ],
          [
           "Circular Line first section"
          ],
          [
           "Airport MRT"
          ],
          [
           "Taoyuan MRT Green Line"
          ],
          [
           "Taoyuan MRT Brown Line"
          ],
          [
           "Taoyuan Underground"
          ],
          [
           "Red and Orange Lines"
          ],
          [
           "Urban Railway Underground"
          ],
          [
           "Underground Project"
          ],
          [
           "Green Line"
          ],
          [
           "Forrestfield-Airport Link"
          ],
          [
           "Yurikamome"
          ],
          [
           "RER"
          ],
          [
           "U3 extension to Grossreuth"
          ],
          [
           "North-South Stadtbahn"
          ],
          [
           "U8 to Wittenau"
          ],
          [
           "U2 to Pankow"
          ],
          [
           "U-Bahn Europaviertel"
          ],
          [
           "Line 2"
          ],
          [
           "Kajang Line"
          ],
          [
           "Putrajaya Line (MRT 2)"
          ],
          [
           "M2"
          ],
          [
           "M3 Phase 1"
          ],
          [
           "M4 Phase 1"
          ],
          [
           "M4 Phase 2"
          ],
          [
           "M5 Phase 1"
          ],
          [
           "BC1"
          ],
          [
           "CR3"
          ],
          [
           "M7 Phase1-2"
          ],
          [
           "M1 (Phase 1)"
          ],
          [
           "M1  (Phase 2)"
          ],
          [
           "M1 (Phase 3)"
          ],
          [
           "M4"
          ],
          [
           "Bursaray"
          ],
          [
           "Line 4"
          ],
          [
           "Capital Airport Express west extenion"
          ],
          [
           "Line 13"
          ],
          [
           "Line 1 (Shanghai Railway Station to Jinjiang Park)"
          ],
          [
           "Line 2 Phase 1"
          ],
          [
           "Line 2 Eastern Extension 1"
          ],
          [
           "Line 2 Western Extension 1"
          ],
          [
           "Line 2 Eastern Extension 2"
          ],
          [
           "Line 2 Western Extension 2"
          ],
          [
           "Line 3"
          ],
          [
           "Line 3 Northern Extension"
          ],
          [
           "Line 4 Phase 1"
          ],
          [
           "Line 5 Phase 1"
          ],
          [
           "Line 5 Southern Extension"
          ],
          [
           "Line 7 Phase 1"
          ],
          [
           "Line 7 Northern Extension"
          ],
          [
           "Line 8 Phase 2"
          ],
          [
           "Line 9 Phase 1"
          ],
          [
           "Line 9 Phase 2"
          ],
          [
           "Line 9 Phase 3"
          ],
          [
           "Line 9 Phase 3 Eastern Extension"
          ],
          [
           "Line 10 Phase 1"
          ],
          [
           "Line 11 Phase 1"
          ],
          [
           "Line 11 Phase 2"
          ],
          [
           "Line 11 Huaqiao"
          ],
          [
           "Line 4 Phase 1"
          ],
          [
           "Line 6 Phase 1"
          ],
          [
           "Line 6 Phase 1"
          ],
          [
           "Line 6 (feeder)"
          ],
          [
           "Line 3 Phase 4"
          ],
          [
           "Line 12 Phase 2"
          ],
          [
           "Line 13 Northern Extension"
          ],
          [
           "Line 13 Southern Extension"
          ],
          [
           "Line 8 Phase 3"
          ],
          [
           "Line 20 Phase 1"
          ],
          [
           "Line 1 Phase 1"
          ],
          [
           "Line 1 Phase 1"
          ],
          [
           "Line 1 Phase 1"
          ],
          [
           "Line 1 Phase 2"
          ],
          [
           "Line 1 Phase 3 Hankou North"
          ],
          [
           "Line 2 Eastern Extension"
          ],
          [
           "Line 3 Southern Extension"
          ],
          [
           "Line 4 Southern Extension"
          ],
          [
           "Line 6 Phase 1"
          ],
          [
           "Line 1 Phase 1 and Line 2 Phase 1"
          ],
          [
           "Line 28"
          ],
          [
           "Line 11 West"
          ],
          [
           "Line 13"
          ],
          [
           "Line 3 Phase 1+2"
          ],
          [
           "Line 12"
          ],
          [
           "Line 13 Phase 2"
          ],
          [
           "Line 10"
          ],
          [
           "Line 12"
          ],
          [
           "Line 8 Phase 4"
          ],
          [
           "Line 18 Phase 3"
          ],
          [
           "M8 Phase 1"
          ],
          [
           "Line 19 Phase 1"
          ],
          [
           "Line 17"
          ],
          [
           "Line 16"
          ],
          [
           "Line 25 Phase 2 (Fangshan Northern Extension)"
          ],
          [
           "M10 Phase 1"
          ],
          [
           "M7 Phase 1"
          ],
          [
           "Line 12 (Ring)"
          ],
          [
           "Line 2 Eastern Extension"
          ],
          [
           "Line 8 Phase 2"
          ],
          [
           "M11 Phase 1"
          ],
          [
           "Line 16"
          ],
          [
           "Line 12"
          ],
          [
           "Line 7 Phase 2 (Eastern Extension)"
          ],
          [
           "Line 9 Phase 1"
          ],
          [
           "Jiamin Line"
          ],
          [
           "Line 27 Phase 2 (Changping Southern Extension)"
          ],
          [
           "Line 5"
          ],
          [
           "B1 Phase 1"
          ],
          [
           "Line 14"
          ],
          [
           "Line 6 Phase 1"
          ],
          [
           "Line 6 Central"
          ],
          [
           "Line 1 Northern Extension"
          ],
          [
           "Line 10 Phase 1"
          ],
          [
           "Line 8 Phase 2"
          ],
          [
           "Line 7 Phase 1"
          ],
          [
           "Line 3"
          ],
          [
           "Line 6"
          ],
          [
           "Line 4 Phase 2"
          ],
          [
           "Line 10 Phase 2"
          ],
          [
           "Line 14 Phase 2"
          ],
          [
           "Line 13 Phase 1"
          ],
          [
           "Line 5 Phase 1"
          ],
          [
           "Line 8 Phase 1"
          ],
          [
           "Line 22"
          ],
          [
           "Line 22"
          ],
          [
           "Line 5 Eastern Extension"
          ],
          [
           "Line 6 Phase 2"
          ],
          [
           "Line 2 Phase 2"
          ],
          [
           "Line 5 Phase 1"
          ],
          [
           "Line 9 Line 5"
          ],
          [
           "Line 5 South Extension"
          ],
          [
           "Line 5"
          ],
          [
           "Line 5 Northern Extension"
          ],
          [
           "Line 13A"
          ],
          [
           "Line 5 Phase 1"
          ],
          [
           "Line 11 East"
          ],
          [
           "Line 2 Western Extension"
          ],
          [
           "Line 2 Eastern Extension"
          ],
          [
           "Line 7"
          ],
          [
           "Line 4 Phase 1"
          ],
          [
           "Line 30 Phase 1"
          ],
          [
           "Line 7 Phase 1"
          ],
          [
           "Line 4 Phase 1"
          ],
          [
           "Line 4 Phase 2"
          ],
          [
           "Line 8 Northern Extension"
          ],
          [
           "Line 6 West"
          ],
          [
           "Line 8 Phase 1"
          ],
          [
           "Line 7 Phase 2"
          ],
          [
           "Line 7"
          ],
          [
           "Line 18"
          ],
          [
           "Line 6 Phase 1"
          ],
          [
           "Line 17 Phase 2"
          ],
          [
           "Line 4 Phase 1"
          ],
          [
           "Line 3 Phase1"
          ],
          [
           "Line 3 Phase 1"
          ],
          [
           "Line 5 Phase 1"
          ],
          [
           "Line 3 Phase 1"
          ],
          [
           "Line 1 Northwestern Extension"
          ],
          [
           "Line 10"
          ],
          [
           "Line 6"
          ],
          [
           "Line 3 Phase 1"
          ],
          [
           "Line S8 Southern Extension"
          ],
          [
           "Line 5A"
          ],
          [
           "Line 6"
          ],
          [
           "Airport Contact Line"
          ],
          [
           "Line 12 Phase 1"
          ],
          [
           "Line 10 North and East"
          ],
          [
           "Line 5 Phase 1"
          ],
          [
           "Line 7 South"
          ],
          [
           "Line 7 Phase 1"
          ],
          [
           "Line 1 Eastern Extension"
          ],
          [
           "Line 11 Phase 1"
          ],
          [
           "Line 3 Phase 2"
          ],
          [
           "Line 4 Phase 1"
          ],
          [
           "Line 2 Phase 2"
          ],
          [
           "Line 10 Phase 3"
          ],
          [
           "Line 1 Phase 1+2"
          ],
          [
           "Line 4 Western Extension"
          ],
          [
           "Z4 Phase 1"
          ],
          [
           "Daxing Airport Express Phase 1"
          ],
          [
           "Daxing Airport Express Phase 2"
          ],
          [
           "Line 8 Phase 1 for Olympics"
          ],
          [
           "Line 1 Phase 3"
          ],
          [
           "Line 3 Phase 1"
          ],
          [
           "Line 27 Phase 1"
          ],
          [
           "Line 7"
          ],
          [
           "Line 1 Phase 1"
          ],
          [
           "Line 4 Phase 1"
          ],
          [
           "Line 6"
          ],
          [
           "Line 15 Phase 1"
          ],
          [
           "S2 Phase 1 North"
          ],
          [
           "Line 10 Phase 1"
          ],
          [
           "Line 2 West Extension"
          ],
          [
           "Line 1 Feeder"
          ],
          [
           "Line 2 Phase 3"
          ],
          [
           "Line 8 Phase 1"
          ],
          [
           "Line 19 Phase 2"
          ],
          [
           "Line 3 Phase 2"
          ],
          [
           "Line 2 Phase 1"
          ],
          [
           "Line 3 Phase 1"
          ],
          [
           "Line 3 Eastern Extension"
          ],
          [
           "Daxing Line"
          ],
          [
           "Line 16 Phase 1"
          ],
          [
           "Z2 Phase 1"
          ],
          [
           "Line 3 Phase 2"
          ],
          [
           "Line 2 Eastern Extension"
          ],
          [
           "Line 5 Phase 2"
          ],
          [
           "S1 Phase 1"
          ],
          [
           "Line 2 West Extension Phase 1"
          ],
          [
           "Line 5"
          ],
          [
           "Ring Line"
          ],
          [
           "Line 1 North Extension Phase 1"
          ],
          [
           "Line 5"
          ],
          [
           "Line 4"
          ],
          [
           "Line 6 Branch (EXPO) Phase 2"
          ],
          [
           "Line 3 Phase 3"
          ],
          [
           "Line 9 Phase 2"
          ],
          [
           "Line 9 Phase 1"
          ],
          [
           "Line 2 Northern Extension"
          ],
          [
           "Line 10 Phase 1"
          ],
          [
           "Line 4 Phase 1"
          ],
          [
           "Line 1 Eastern Extension"
          ],
          [
           "Line 6 East"
          ],
          [
           "Line 4"
          ],
          [
           "Line 4 North Extension"
          ],
          [
           "Line 11 (to Disney)"
          ],
          [
           "Line 16"
          ],
          [
           "Line 2 Western Extension"
          ],
          [
           "Line 15 Phase 1"
          ],
          [
           "Line 6"
          ],
          [
           "Line 1 Phase 4 (Jinghe)"
          ],
          [
           "Line 9 (Konggang)"
          ],
          [
           "Line 6 Branch (EXPO)"
          ],
          [
           "Line 2 Phase 2"
          ],
          [
           "Line 5 Phase 1"
          ],
          [
           "Line 6"
          ],
          [
           "Line 13B"
          ],
          [
           "Line 5 North Extension"
          ],
          [
           "Line 8 Northern Extension"
          ],
          [
           "Line 8 Phase 3 (Pujiang Line)"
          ],
          [
           "Line 1 Southern Extension"
          ],
          [
           "Capital Airport Express"
          ],
          [
           "M1"
          ],
          [
           "Line 2 Phase 1"
          ],
          [
           "Line 1 Phase 1"
          ],
          [
           "Line 1 Phase 1"
          ],
          [
           "Line 1 Phase 2"
          ],
          [
           "Line 1 Phase 3"
          ],
          [
           "Line 1 Feeder Phase 1"
          ],
          [
           "Line 2 Phase 3"
          ],
          [
           "Line 3 Phase 1"
          ],
          [
           "Line 3 feeder"
          ],
          [
           "Blue"
          ],
          [
           "Red"
          ],
          [
           "Orange"
          ],
          [
           "Yellow"
          ],
          [
           "Green"
          ],
          [
           "Purple"
          ],
          [
           "Jeddah Metro"
          ],
          [
           "Dammam Metro (a-Sharqiya)"
          ],
          [
           "Doha Metro"
          ],
          [
           "Phase 1 (Red & Blue)"
          ],
          [
           "Phase 2"
          ],
          [
           "Phase 1 - Red Line"
          ],
          [
           "Phase 2 - Green Line"
          ],
          [
           "Phase 3 (Red Line Extension/Route 2020)"
          ],
          [
           "Line 1"
          ],
          [
           "Line 2"
          ],
          [
           "Line 3 Phase 1"
          ],
          [
           "Line 4 (4 Phases)"
          ],
          [
           "Line 6"
          ],
          [
           "Kuwait Metro"
          ],
          [
           "Line 15"
          ],
          [
           "Line 14"
          ],
          [
           "Line 16"
          ],
          [
           "Line 7"
          ],
          [
           "Line 8 Phase 2"
          ],
          [
           "Line 13 Phase 1"
          ],
          [
           "Line 1 Phase 1"
          ],
          [
           "Line 4 Phase 1"
          ],
          [
           "Line 8 Phase 1"
          ],
          [
           "Line 9 Phase 1"
          ],
          [
           "Line 10 Phase 2"
          ],
          [
           "M3 Phase 2"
          ],
          [
           "M8"
          ],
          [
           "M5 Phase 2-M13"
          ],
          [
           "M12 "
          ],
          [
           "M11 Phase 1"
          ],
          [
           "M11 Phase 2"
          ],
          [
           "Sergeli Line"
          ],
          [
           "Yunusabad Line extension"
          ],
          [
           "Lainz Tunnel"
          ],
          [
           "Line 4"
          ],
          [
           "SkyRail Bahia"
          ],
          [
           "Line 17"
          ],
          [
           "Green Line stage 1"
          ],
          [
           "Millennium Line Phase 1"
          ],
          [
           "Canada Line"
          ],
          [
           "Evergreen Line"
          ],
          [
           "U5-East"
          ],
          [
           "Line B"
          ],
          [
           "Tung Chung Line extension"
          ],
          [
           "West Island Line"
          ],
          [
           "Airport Railway"
          ],
          [
           "Quarry Bay Congestion Relief Works (Kwung Tung Extension)"
          ],
          [
           "Tseung Kwan O Extension"
          ],
          [
           "Penny's Bay Rail Link (Disneyland Resort Line)"
          ],
          [
           "South Island Line (East)"
          ],
          [
           "Kwun Tong Line extension"
          ],
          [
           "Tuen Mun South Extension"
          ],
          [
           "Sha Tin-Central Link"
          ],
          [
           "Modified Initial System"
          ],
          [
           "Tsuen Wan Extension"
          ],
          [
           "Island Line"
          ],
          [
           "Eastern Harbour Crossing"
          ],
          [
           "Noida Metro"
          ],
          [
           "Phase 1"
          ],
          [
           "Line 1"
          ],
          [
           "Metro"
          ],
          [
           "Line 1 - city center"
          ],
          [
           "Line 1 airport extension"
          ],
          [
           "Line 6 (Mostra-Municipio)"
          ],
          [
           "Line 2 -phase 1-2"
          ],
          [
           "Hanshin Namba Line"
          ],
          [
           "Metro Line 1"
          ],
          [
           "Metro Line 2"
          ],
          [
           "West Link"
          ],
          [
           "System to 2012, ex-Neihu"
          ],
          [
           "Neihu Line"
          ],
          [
           "Xinyi Line"
          ],
          [
           "Xinyi Line East Extension"
          ],
          [
           "HART"
          ],
          [
           "Crenshaw/LAX Line"
          ],
          [
           "Metrorail extension to MIA"
          ],
          [
           "West Seattle and Ballard"
          ],
          [
           "Silver Line Phase 1"
          ],
          [
           "Silver Line Phase 2"
          ],
          [
           "First stage"
          ],
          [
           "M6"
          ],
          [
           "M3 Phase 3"
          ],
          [
           "M7 Phase 3"
          ],
          [
           "M9"
          ],
          [
           "M1A-M1B (LR)"
          ],
          [
           "Second Trunk Line"
          ],
          [
           "M1B"
          ],
          [
           "M4 P4-M10"
          ],
          [
           "Cross-City Line"
          ],
          [
           "RER D Gare de Lyon-Les Halles"
          ],
          [
           "Keelung MRT"
          ],
          [
           "Line C to Letnany"
          ],
          [
           "Line D"
          ],
          [
           "U3 to Moosach"
          ],
          [
           "U5 to Pasing"
          ],
          [
           "Galatea-Stesicoro"
          ],
          [
           "Borgo-Nesima"
          ],
          [
           "Nesima-Monte Po"
          ],
          [
           "Stesicoro-Aeroporto"
          ],
          [
           "Monte-Po- MisterbiancoCentro"
          ],
          [
           "Misterbianco Centro-Paterno'"
          ],
          [
           "Principe - De Ferrari"
          ],
          [
           "De Ferrari - Brignole"
          ],
          [
           "Brin-Canepari + Brignole Martinez"
          ],
          [
           "M5 (Bignami Moza)"
          ],
          [
           "M1 (Bisceglie - Baggio)"
          ],
          [
           "M1 (Sesto FS - Monza Bettola)"
          ],
          [
           "M2 (Famagosta-Assago)"
          ],
          [
           "M3 (Maciachini-Comasina)"
          ],
          [
           "M1 (Molino Dorino-Rho MilanoFiera)"
          ],
          [
           "Line 1 (Piscinola - Dante)"
          ],
          [
           "MCNE (Piscinola- Aversa)"
          ],
          [
           "Line 1/MCNE (Piscinola-Secondigliano)"
          ],
          [
           "Valley Line Southeast"
          ],
          [
           "Line 1 Phase 1"
          ],
          [
           "Line 2 Phase 1"
          ],
          [
           "Guangfo Line"
          ],
          [
           "Line 11"
          ],
          [
           "Line 1"
          ],
          [
           "Line 2 Phase 2 North and South Ext"
          ],
          [
           "Line 1 Phase 4"
          ],
          [
           "Line 2 Phase 1"
          ],
          [
           "Line 3 Phase 2"
          ],
          [
           "Line 4 Phase 1"
          ],
          [
           "Line 5 Phase 1"
          ],
          [
           "Line 1 Phase 1"
          ],
          [
           "Line 2 Goyang Extension Project"
          ],
          [
           "Line 2"
          ],
          [
           "Hujia Regional Railway (Zhejiang section)"
          ],
          [
           "Line 1 and 2"
          ],
          [
           "F2 Line"
          ],
          [
           "Hangshao Line"
          ],
          [
           "Line 6 Phase 1"
          ],
          [
           "Line 4"
          ],
          [
           "Line 1 and 2"
          ],
          [
           "S3 Phase 1"
          ],
          [
           "Line S1"
          ],
          [
           "Line 4 Phase 1"
          ],
          [
           "Line 2 Phase 1"
          ],
          [
           "Line 1 South"
          ],
          [
           "Wuxi-Yixing Intercity"
          ],
          [
           "Line 1 Phase 1"
          ],
          [
           "Line 3 Phase 1"
          ],
          [
           "Line 1"
          ],
          [
           "Line 2 Phase 2"
          ],
          [
           "Line 3 Phase 1"
          ],
          [
           "Line 2 Phase 1"
          ],
          [
           "Line 4 Phase 1"
          ],
          [
           "Line 4"
          ],
          [
           "Line 1 Phase 3"
          ],
          [
           "Line 1 South Extension"
          ],
          [
           "F1 Express Line"
          ],
          [
           "Line 2 East Extension"
          ],
          [
           "Line 1 Phase 1"
          ],
          [
           "Line 2"
          ],
          [
           "Line 3 Phase 1"
          ],
          [
           "Line 2"
          ],
          [
           "Line 4 Phase 1"
          ],
          [
           "Line 2"
          ],
          [
           "Ningbo-Fenghua Line"
          ],
          [
           "Line 3 Southern Extension"
          ],
          [
           "Line 4"
          ],
          [
           "2013-2020 Program"
          ],
          [
           "Line 5 Phase 1"
          ],
          [
           "Line 3 Phase 2"
          ],
          [
           "Line 3 Phase 1"
          ],
          [
           "Line 11"
          ],
          [
           "Qingdao-Pingdu Intercity Rail"
          ],
          [
           "Line 8 Branch"
          ],
          [
           "Line 8"
          ],
          [
           "Line 6 Phase 2 South"
          ],
          [
           "Line 15"
          ],
          [
           "Line 1 + Line 7 Phase 1"
          ],
          [
           "Line 2"
          ],
          [
           "Line 9"
          ],
          [
           "Line 3"
          ],
          [
           "Line 2 Phase 2 East Section"
          ],
          [
           "Line 5"
          ],
          [
           "Line 4 Phase 1"
          ],
          [
           "Line 2"
          ],
          [
           "Line 1"
          ],
          [
           "Line 1 North Extension"
          ],
          [
           "Phase 1 Expansion (Line 1 and 2)"
          ],
          [
           "Wuming Line"
          ],
          [
           "Airport Line"
          ],
          [
           "Line 1"
          ],
          [
           "Line 2"
          ],
          [
           "Sinbundang Phase 3 Section 1"
          ],
          [
           "Sinbundang Phase 3 Section 2"
          ],
          [
           "Sinbundang Phase 3 Section 3"
          ],
          [
           "Sillim Light Metro"
          ],
          [
           "Ui Light Metro"
          ],
          [
           "GTX A"
          ],
          [
           "Jinjeop Line"
          ],
          [
           "Sin Ansan Line"
          ],
          [
           "Line 5 Hanam Line"
          ],
          [
           "Line 7 Extension 2"
          ],
          [
           "Line 9 Phase 4"
          ],
          [
           "Line 1"
          ],
          [
           "Line 2"
          ],
          [
           "Line 4 Phase 1"
          ],
          [
           "Line 1 Phase 2"
          ],
          [
           "Line 3 Phase 2"
          ],
          [
           "First"
          ],
          [
           "Jinzhong-Taiyuan Intercity"
          ],
          [
           "Line 3"
          ],
          [
           "Line S2 South Segment"
          ],
          [
           "Line S2 West Segment"
          ],
          [
           "Line S2"
          ],
          [
           "Line S1"
          ],
          [
           "First Phase Program (Lines 1, 2 and 3)"
          ],
          [
           "Line 1"
          ],
          [
           "Line 2"
          ],
          [
           "Line 3"
          ],
          [
           "Line 2 Phase 1"
          ],
          [
           "Line 1 Phase 1"
          ],
          [
           "Zhengxu Regional Rail (Xucheng Section)"
          ],
          [
           "Zhengxu Regional Rail (Zhengzhou Section)"
          ],
          [
           "Line 3 Phase 1"
          ],
          [
           "Yanfang Branch"
          ],
          [
           "Line 6 Phase 2"
          ],
          [
           "Line 9"
          ],
          [
           "Line M101"
          ],
          [
           "New Beihu Line"
          ],
          [
           "Line 2 Western Extension"
          ],
          [
           "Line 2"
          ],
          [
           "Line 1 South Extension"
          ],
          [
           "First"
          ],
          [
           "Line 2 Phase 2"
          ],
          [
           "Line 2 West Extension Phase 2"
          ],
          [
           "Line S3"
          ],
          [
           "Line S5"
          ],
          [
           "Line 10 Phase 1"
          ],
          [
           "Line 4 Phase 2"
          ],
          [
           "Line 18 Phase 1 and 2"
          ],
          [
           "Line 5 Phase 1 and 2 (redesign)"
          ],
          [
           "Line 17 Phase 1"
          ],
          [
           "Line 3 Phase 2"
          ],
          [
           "Line 3 Phase 3 (redesign)"
          ],
          [
           "Line 7"
          ],
          [
           "Line 1 Phase 3"
          ],
          [
           "Bishan-Tongliang Line"
          ],
          [
           "Jiangjin Line South Extension"
          ],
          [
           "Jiangjin Line"
          ],
          [
           "Line 17 (redesign) Phase 1"
          ],
          [
           "Line 18 Phase 2"
          ],
          [
           "Line 6 East"
          ],
          [
           "Line 27"
          ],
          [
           "Line 15 Phase 2"
          ],
          [
           "Line 15 Phase 1"
          ],
          [
           "Line 24 Phase 1"
          ],
          [
           "Line 1 Phase 2"
          ],
          [
           "Line 1 Phase 1"
          ],
          [
           "Line 3"
          ],
          [
           "Line 2"
          ],
          [
           "Line 4 West extension"
          ],
          [
           "Line 6 East Extension"
          ],
          [
           "Line 14 Phase 1"
          ],
          [
           "Line 14 Branch"
          ],
          [
           "Line 4 South Extension"
          ],
          [
           "Line 21"
          ],
          [
           "Line 3 Phase 1"
          ],
          [
           "Line 6 Phase 1"
          ],
          [
           "Line 6 Phase 3"
          ],
          [
           "Line 9"
          ],
          [
           "Line 7"
          ],
          [
           "Line 2 and 8 Extension"
          ],
          [
           "Line 8 Eastern Extension"
          ],
          [
           "Line 18 North"
          ],
          [
           "Line 11"
          ],
          [
           "Nansha-Zhuhai (Zhongshan) intercity or Line 18"
          ],
          [
           "Line 22 Northern Extension"
          ],
          [
           "Line 28"
          ],
          [
           "Line 2 Phase 1"
          ],
          [
           "Hangzhou-Haining Line"
          ],
          [
           "Hanglin Line (Hangzhou Section)"
          ],
          [
           "Hanglin Line (Lin'an Section)"
          ],
          [
           "Line 2 Phase 1 Xiaoshan section"
          ],
          [
           "K1 Airport Line"
          ],
          [
           "Line 3 North Extension"
          ],
          [
           "Hangfu Line"
          ],
          [
           "Line 10 Phase 2"
          ],
          [
           "Line 5 Phase 2 West"
          ],
          [
           "Line 2 Phase 1 (redesign)"
          ],
          [
           "Line 2 Phase 2"
          ],
          [
           "Line 6 Phase 1"
          ],
          [
           "Line 5 Phase 1"
          ],
          [
           "Line 4 Phase 1"
          ],
          [
           "Line 6 East Extension"
          ],
          [
           "Hefei-Lu'an Regional Express Line"
          ],
          [
           "Line 1 South"
          ],
          [
           "Line 2 Western Extension"
          ],
          [
           "Line 3 Phase 1"
          ],
          [
           "Line 4 Phase 1"
          ],
          [
           "Line S2 Nanjing-Ma'anshan Regional Rail (Anhui section)"
          ],
          [
           "Line S8 Phase 2"
          ],
          [
           "Line S8 Phase 2"
          ],
          [
           "Line S4 Nanjing-Chuzhou Phase 1 (Chuzhou Section)"
          ],
          [
           "Line S4 Nanjing-Chuzhou Phase 2 (Chuzhou Section)"
          ],
          [
           "Line S4 Nanjing-Chuzhou Phase 2 (Nanjing Section)"
          ],
          [
           "Line S3 Nanjing-He County"
          ],
          [
           "Line S5 Nanjing-Yangzhou"
          ],
          [
           "Line S2 Nanjing-Ma'anshan Regional Rail (Nanjing section)"
          ],
          [
           "Line 4 Phase 1"
          ],
          [
           "Line 2 Phase 1"
          ],
          [
           "Line S6"
          ],
          [
           "Line 1 Phase 1"
          ],
          [
           "Line 2 Phase 1"
          ],
          [
           "Line 12 West Extension"
          ],
          [
           "Line 18"
          ],
          [
           "Line 1 and 2 Phase 1"
          ],
          [
           "Line 9 Phase 1"
          ],
          [
           "Line 10 Phase 1"
          ],
          [
           "Shenhui Dapeng Branch ICR"
          ],
          [
           "Guangzhou-Dongguan-Shenzhen Regional Rail South Extension"
          ],
          [
           "Shenhui Mainline ICR"
          ],
          [
           "Line 10"
          ],
          [
           "Line 3 Phase 3 North Ext"
          ],
          [
           "Line 3 Phase 3 North Ext (Phase 4)"
          ],
          [
           "Line 5 West Extension"
          ],
          [
           "Phase 1 Expansion (Line 1 and 4)"
          ],
          [
           "Line 5"
          ],
          [
           "Line 2"
          ],
          [
           "Line 13 Phase 1"
          ],
          [
           "Line 11 Phase 3 Hanchang Section"
          ],
          [
           "Line 11 Phase 3 Hanyang Section"
          ],
          [
           "Line 3 Phase 1"
          ],
          [
           "Line 1"
          ],
          [
           "Line 2"
          ],
          [
           "Line 5 Phase 1"
          ],
          [
           "Airport Line"
          ],
          [
           "Line 5 Phase 2"
          ],
          [
           "Line 3"
          ],
          [
           "Line 9"
          ],
          [
           "Line 6 Phase 1 and 2"
          ],
          [
           "Line 4"
          ],
          [
           "Line 5 Phase 1"
          ],
          [
           "Line 1 Phase 1"
          ],
          [
           "Line 1 Phase 2"
          ],
          [
           "Line 2 Phase 1"
          ],
          [
           "Quanzhou-Xiamen-Zhangzhou Regional Rail R1 (Zhangzhou Section)"
          ],
          [
           "Line 4 (Houxi to Xiang'an Airport)"
          ],
          [
           "Quanzhou-Xiamen-Zhangzhou Regional Rail R1 (Xiamen Section)"
          ],
          [
           "Line 3 Phase 1"
          ],
          [
           "Line 2 Phase 1"
          ],
          [
           "Line 1 Phase 1"
          ],
          [
           "Line 9"
          ],
          [
           "Quanzhou-Xiamen-Zhangzhou Regional Rail R1 (Quanzhou Section)"
          ],
          [
           "Line 4"
          ],
          [
           "Expo Line Surrey-Langley extension"
          ],
          [
           "Line 1"
          ],
          [
           "Line 2a, 2b"
          ],
          [
           "U3 extension to Gebersdorf"
          ],
          [
           "Circle Line Stages 1-5"
          ],
          [
           "Extension to Rathaus Steglitz"
          ],
          [
           "Extension to Rathaus Spandau"
          ],
          [
           "S-Bahn Stammstrecke"
          ],
          [
           "Orange Line"
          ],
          [
           "Center City Commuter Connection"
          ],
          [
           "Cluj-Napoca Line"
          ]
         ],
         "hovertemplate": "cost_km_2021=%{x}<br>length=%{y}<br>phase=%{customdata[0]}<br>cluster_id=%{marker.color}<extra></extra>",
         "legendgroup": "",
         "marker": {
          "color": [
           0,
           5,
           2,
           5,
           5,
           5,
           5,
           5,
           2,
           5,
           5,
           5,
           5,
           5,
           2,
           2,
           5,
           0,
           0,
           0,
           0,
           0,
           0,
           5,
           0,
           0,
           0,
           0,
           0,
           0,
           0,
           0,
           4,
           2,
           5,
           2,
           2,
           2,
           2,
           2,
           2,
           2,
           2,
           2,
           2,
           2,
           2,
           5,
           0,
           null,
           2,
           2,
           2,
           4,
           2,
           0,
           0,
           2,
           2,
           4,
           2,
           2,
           2,
           2,
           5,
           2,
           2,
           2,
           2,
           2,
           2,
           2,
           2,
           5,
           5,
           5,
           2,
           4,
           0,
           4,
           4,
           4,
           4,
           4,
           4,
           4,
           4,
           4,
           0,
           4,
           0,
           0,
           0,
           0,
           2,
           2,
           2,
           0,
           1,
           2,
           2,
           5,
           0,
           0,
           0,
           4,
           0,
           4,
           4,
           5,
           4,
           5,
           4,
           2,
           2,
           2,
           4,
           4,
           4,
           4,
           0,
           0,
           0,
           4,
           4,
           2,
           2,
           2,
           2,
           2,
           0,
           2,
           2,
           2,
           2,
           5,
           2,
           1,
           1,
           1,
           3,
           1,
           5,
           2,
           2,
           2,
           2,
           2,
           2,
           2,
           null,
           null,
           5,
           2,
           2,
           2,
           2,
           2,
           2,
           2,
           2,
           2,
           2,
           2,
           2,
           5,
           5,
           5,
           4,
           2,
           2,
           2,
           4,
           4,
           4,
           4,
           4,
           4,
           4,
           5,
           4,
           4,
           5,
           5,
           2,
           2,
           2,
           2,
           5,
           2,
           5,
           2,
           2,
           2,
           5,
           2,
           2,
           0,
           null,
           null,
           4,
           4,
           4,
           4,
           4,
           4,
           4,
           4,
           4,
           4,
           4,
           4,
           null,
           0,
           0,
           0,
           null,
           null,
           null,
           null,
           null,
           null,
           null,
           null,
           null,
           null,
           null,
           2,
           2,
           0,
           2,
           2,
           2,
           2,
           2,
           0,
           4,
           4,
           0,
           0,
           0,
           0,
           0,
           0,
           4,
           0,
           4,
           0,
           0,
           0,
           4,
           0,
           0,
           4,
           0,
           5,
           4,
           0,
           0,
           0,
           4,
           4,
           0,
           4,
           4,
           0,
           0,
           0,
           4,
           0,
           0,
           0,
           0,
           4,
           0,
           4,
           0,
           0,
           4,
           0,
           0,
           0,
           0,
           0,
           5,
           0,
           0,
           0,
           4,
           4,
           4,
           0,
           0,
           4,
           0,
           0,
           0,
           0,
           0,
           0,
           0,
           0,
           0,
           0,
           4,
           0,
           0,
           0,
           0,
           0,
           0,
           0,
           0,
           0,
           0,
           0,
           0,
           0,
           0,
           0,
           0,
           0,
           0,
           0,
           0,
           0,
           0,
           0,
           0,
           0,
           0,
           0,
           0,
           0,
           0,
           0,
           0,
           0,
           0,
           0,
           0,
           4,
           0,
           0,
           0,
           0,
           0,
           0,
           0,
           0,
           0,
           0,
           0,
           0,
           0,
           0,
           0,
           0,
           0,
           0,
           0,
           0,
           0,
           0,
           0,
           0,
           0,
           0,
           0,
           0,
           0,
           0,
           0,
           0,
           0,
           0,
           0,
           0,
           0,
           0,
           0,
           0,
           0,
           0,
           0,
           0,
           0,
           0,
           0,
           0,
           0,
           0,
           0,
           0,
           0,
           4,
           0,
           0,
           0,
           0,
           0,
           0,
           0,
           0,
           0,
           0,
           0,
           0,
           0,
           0,
           0,
           0,
           0,
           0,
           0,
           0,
           0,
           0,
           0,
           0,
           4,
           0,
           0,
           0,
           4,
           0,
           0,
           0,
           0,
           0,
           4,
           0,
           0,
           0,
           0,
           0,
           0,
           0,
           0,
           0,
           0,
           4,
           4,
           4,
           0,
           0,
           0,
           4,
           4,
           0,
           0,
           0,
           4,
           4,
           4,
           0,
           4,
           0,
           4,
           0,
           0,
           0,
           0,
           4,
           0,
           0,
           0,
           0,
           0,
           null,
           null,
           null,
           null,
           null,
           null,
           null,
           null,
           null,
           null,
           null,
           2,
           2,
           2,
           4,
           5,
           5,
           5,
           5,
           null,
           0,
           0,
           4,
           0,
           0,
           0,
           0,
           0,
           0,
           0,
           4,
           0,
           0,
           0,
           0,
           0,
           0,
           4,
           0,
           2,
           0,
           4,
           4,
           2,
           2,
           2,
           2,
           2,
           2,
           1,
           1,
           2,
           5,
           5,
           2,
           5,
           5,
           5,
           5,
           1,
           5,
           5,
           2,
           4,
           4,
           4,
           2,
           5,
           2,
           2,
           2,
           2,
           0,
           0,
           2,
           null,
           null,
           null,
           null,
           2,
           2,
           2,
           5,
           2,
           2,
           4,
           0,
           0,
           0,
           0,
           4,
           5,
           0,
           0,
           0,
           2,
           null,
           2,
           5,
           2,
           2,
           2,
           2,
           2,
           2,
           2,
           2,
           2,
           2,
           4,
           2,
           2,
           2,
           4,
           2,
           2,
           2,
           2,
           2,
           2,
           0,
           0,
           0,
           0,
           4,
           0,
           0,
           0,
           0,
           0,
           0,
           0,
           2,
           2,
           4,
           4,
           0,
           4,
           0,
           0,
           4,
           4,
           4,
           0,
           0,
           0,
           0,
           0,
           0,
           0,
           4,
           0,
           0,
           0,
           0,
           4,
           0,
           4,
           0,
           0,
           0,
           0,
           0,
           0,
           0,
           4,
           4,
           0,
           4,
           0,
           0,
           0,
           4,
           4,
           0,
           0,
           0,
           0,
           0,
           0,
           0,
           0,
           0,
           0,
           0,
           0,
           0,
           0,
           0,
           4,
           0,
           0,
           0,
           2,
           2,
           2,
           2,
           2,
           4,
           2,
           2,
           2,
           2,
           2,
           0,
           0,
           0,
           0,
           0,
           0,
           4,
           0,
           4,
           4,
           4,
           4,
           0,
           0,
           0,
           0,
           0,
           0,
           4,
           0,
           0,
           4,
           0,
           0,
           0,
           4,
           0,
           0,
           0,
           0,
           0,
           0,
           4,
           4,
           0,
           0,
           4,
           4,
           0,
           0,
           0,
           0,
           4,
           4,
           0,
           4,
           0,
           0,
           0,
           0,
           0,
           0,
           0,
           0,
           0,
           0,
           0,
           0,
           0,
           4,
           0,
           0,
           4,
           0,
           0,
           0,
           0,
           0,
           0,
           0,
           0,
           0,
           0,
           0,
           0,
           0,
           4,
           4,
           4,
           0,
           0,
           5,
           0,
           0,
           0,
           0,
           0,
           0,
           0,
           0,
           0,
           4,
           0,
           0,
           0,
           0,
           4,
           0,
           4,
           4,
           0,
           4,
           4,
           4,
           4,
           0,
           0,
           0,
           0,
           0,
           0,
           0,
           0,
           0,
           0,
           0,
           0,
           0,
           0,
           4,
           0,
           0,
           0,
           0,
           0,
           0,
           5,
           0,
           0,
           4,
           4,
           0,
           4,
           4,
           0,
           0,
           0,
           0,
           0,
           0,
           0,
           0,
           0,
           4,
           0,
           0,
           0,
           0,
           0,
           4,
           0,
           2,
           0,
           0,
           2,
           2,
           2,
           2,
           2,
           2,
           2,
           0
          ],
          "coloraxis": "coloraxis",
          "symbol": "circle"
         },
         "mode": "markers",
         "name": "",
         "orientation": "v",
         "showlegend": false,
         "type": "scatter",
         "x": [
          73.3789181504299,
          450.0422193684261,
          350.5758473641858,
          639.1602599075909,
          492.4293551074669,
          665.5398643714443,
          524.7498460962854,
          703.2766496161893,
          406.3637995595636,
          857.1428571428571,
          571.4285714285714,
          479.6007722250321,
          611.2589196971295,
          707.961454797593,
          315.3339136524947,
          157.42897832146565,
          947.9166666666669,
          167.5961770388898,
          55.73479544020907,
          231.0357999779873,
          61.386225747083415,
          149.27574035504122,
          120.48387096774194,
          596.6979242957972,
          219.77942390297312,
          214.99478113960987,
          209.23899872880216,
          304.4579863039019,
          324.2158743572218,
          203.67317619902755,
          342.5412508801827,
          322.57896514476664,
          152.68496631989416,
          293.90031526784924,
          601.1530665566693,
          145.14034544362826,
          149.51931953948085,
          145.99865617954566,
          136.10742974603093,
          131.1631763547525,
          241.20236194132383,
          65.95690213546038,
          175.59087375195463,
          231.6816249526056,
          204.3567396708505,
          333.7828452638766,
          80.61508253894445,
          609.3840261912533,
          315.8787045529589,
          306.3707763077724,
          134.5334872618073,
          177.2681080516042,
          153.80425384401758,
          276.93716081430705,
          263.37109623964307,
          409.694690571525,
          244.94706473999025,
          132.3127842378714,
          139.99087592230904,
          171.68028379075838,
          436.2979924416599,
          248.42244283572543,
          230.20321614631104,
          256.3481797529558,
          447.34762029289857,
          310.63580246913585,
          354.6677415160477,
          265.9090909090909,
          257.8248747481883,
          101.80575804905044,
          331.609756097561,
          356.5,
          168.78680621815198,
          964.804,
          697.9879996947192,
          696.3274558181196,
          261.3952334284987,
          91.79532232420324,
          475.8461415682941,
          178.50431322362644,
          230.04249587536856,
          221.6496041500957,
          154.469408181027,
          166.3292078328732,
          216.7307462153044,
          194.8818497873236,
          237.583855686482,
          215.1259689919125,
          286.70384288371093,
          117.98732382242204,
          134.875,
          143.29497736140593,
          174.17324383546057,
          169.75697872470627,
          160.35108652025912,
          91.47104931661715,
          134.72705226534782,
          112.01718309859156,
          1370.1249999999998,
          173.05251736111114,
          406.1996165143603,
          528.9009719566603,
          198.79032258064515,
          155.62012324190096,
          361.9823875540688,
          106.4338235002974,
          301.1405885056764,
          225.37141400130545,
          204.4771993248237,
          693.73851590106,
          180.39457335549764,
          604.5454545454545,
          209.0705128205128,
          116.89736375224672,
          189.7310714493143,
          317.77777777777777,
          236.92740520722143,
          144.3915003651746,
          190.04644246353325,
          239.2927777777778,
          232.635207355864,
          205.40133075044216,
          235.83115752828547,
          59.50456580996885,
          80.50557971014494,
          140.4,
          66.73333333333333,
          94.0952380952381,
          110.62397114582454,
          97.6823595854712,
          188.2831601545537,
          123.20891203703708,
          236.06266255437663,
          244.8250976017848,
          166.4666352771104,
          445.6032838799147,
          419.2188730592982,
          1863.993653006567,
          2052.791876250236,
          2672.692307692308,
          4491.344502714996,
          1792.4528301886794,
          1015.81691327345,
          330.6061248210009,
          345.2125273308537,
          199.56330269900087,
          110.72959746346844,
          139.7153691520468,
          322.91864185043454,
          256.0289004535761,
          212.0794614779092,
          145.38378306869782,
          922.3739260952505,
          137.37725271942216,
          200.9635552296392,
          270.80359622462913,
          142.50254242010533,
          139.5505853191804,
          153.0437443848413,
          157.31898765925237,
          201.368304203843,
          185.3451354389008,
          74.0545922770324,
          82.34441773504275,
          124.37621366079216,
          532.9857044193658,
          539.0871794871795,
          673.2734693877551,
          211.009784911714,
          89.04644097222224,
          193.1435781849005,
          214.50530927974475,
          246.34185199146376,
          194.5658616561044,
          277.4015578492167,
          246.78278415491133,
          185.67393726105385,
          141.1574977921335,
          154.66848800088442,
          530.9448467966574,
          138.41772151898735,
          314.8387004533012,
          535.221238938053,
          588.9438202247192,
          304.72028929385857,
          64.95662752811869,
          125.04398779034744,
          298.1748264642727,
          656.4829073769266,
          370.1706644096488,
          535.7142857142858,
          161.4885187007874,
          382.1477835177022,
          114.12357174728776,
          458.0892148653791,
          311.89995375134896,
          395.8954499476319,
          278.14116267403705,
          124.0475349451517,
          178.68450268126844,
          191.85540905362075,
          204.3899501764939,
          262.5483664355045,
          152.51151354569262,
          228.6430068541732,
          140.44524114342494,
          158.16307885174274,
          147.3983629181186,
          73.81210613150138,
          274.0968974056032,
          214.5870883726858,
          273.4617325483599,
          136.70756250669965,
          205.19482536927976,
          300,
          425.6571428571429,
          247.231094020734,
          81.92732545300763,
          344.906156865618,
          178.5613207031554,
          234.70250359712227,
          118.23148961110284,
          391.722905027933,
          401.5935059032096,
          500.8732693938445,
          237.74439024390247,
          269.7235753740497,
          162.93166704889572,
          152.3758612334802,
          232.3,
          90.14512001542845,
          426.90939092091344,
          196.59962074426687,
          145.87495398773007,
          179.83333333333331,
          335.7873744900394,
          329.91652155590543,
          433.9281894052341,
          314.5858926919519,
          165.97647831988908,
          128.5337997942155,
          90.23890595496216,
          115.59025355524524,
          287.8165013494176,
          54.17559546830442,
          119.95798811853793,
          171.9716522107045,
          64.38617328516143,
          56.75182061704631,
          148.25690660211308,
          30.75914797008548,
          266.2842390757264,
          251.5545361859,
          96.0031730146159,
          217.26611462969305,
          493.7000708500395,
          69.0775154303633,
          288.61461342270155,
          141.99897860647133,
          109.26105820671556,
          222.8468781959874,
          106.8541983042268,
          279.22535842293905,
          112.4734669724092,
          153.31286371420447,
          236.6534553473477,
          117.95205376912672,
          147.84315358138315,
          245.46006873024413,
          268.31668397939234,
          194.31058184729665,
          271.1752795892561,
          285.76077917214616,
          163.28923093114102,
          179.8915322685651,
          97.85741838622582,
          168.48587786259543,
          199.8307873603352,
          117.96728787618252,
          158.32957410101935,
          288.6322933153562,
          269.9957763975155,
          345.32131011608624,
          277.7701787464352,
          488.591264987304,
          317.7027283511269,
          200.15079039702525,
          226.0024947970475,
          124.0891887157586,
          124.39692333716306,
          141.70850707829325,
          167.42860144914698,
          202.47359862001403,
          132.47589975551625,
          182.36656,
          204.87991044946764,
          366.44142758978313,
          340.48918805614915,
          248.9601087537885,
          327.2939029012992,
          327.2830993395596,
          309.3705463342647,
          298.3530634250236,
          251.9190800628264,
          296.6938946300452,
          258.71624991730505,
          295.7404835475936,
          292.06192541041366,
          259.2850573284066,
          315.63412395617155,
          286.6999950214542,
          260.23976409358824,
          255.67839549368188,
          249.2872556932261,
          236.27053742802303,
          240.07755757883035,
          265.52671780819713,
          263.53450955403093,
          249.56277395638332,
          252.5717261298871,
          249.26400784050168,
          230.56334622823985,
          252.8472488196795,
          213.8091443850268,
          223.57088607594932,
          203.82618997889787,
          343.3672518696308,
          222.9288571481354,
          298.93272171253824,
          247.15345100105367,
          213.1710301104889,
          221.78507835164635,
          187.40115789473683,
          232.2070072656589,
          210.559,
          188.4030007501876,
          216.23779416274647,
          206.7357639093036,
          193.84767556874385,
          351.4362414846137,
          213.09762747532423,
          205.1741478705352,
          214.14190880629056,
          186.2205639733265,
          223.3775107527106,
          196.8040863656873,
          276.19180390894013,
          210.8308780079924,
          174.72385370068184,
          237.6648044692737,
          200.13375816785972,
          257.8375884932736,
          226.2270001611541,
          225.4328297126367,
          199.088323044286,
          214.55569586775067,
          224.7050091918992,
          194.55630729104752,
          205.54654411102103,
          221.21913196099857,
          216.5783301327997,
          188.7096533551511,
          198.876393144428,
          197.9291019541208,
          196.7597054223208,
          177.57861486486487,
          194.5775063965597,
          184.6369420530024,
          182.92172716354045,
          173.5971177071482,
          205.97071814785056,
          193.21511318580988,
          190.61397016057376,
          198.96222476147085,
          294.58003367147586,
          180.38611209830503,
          242.72918275915336,
          185.38355655733247,
          193.9460885224181,
          179.57050314632224,
          201.8538094298284,
          179.14973338059076,
          168.15868263473055,
          271.467659457478,
          239.32626441027745,
          199.40879500709727,
          177.12476635590937,
          174.05622924465197,
          194.98519313002183,
          190.01586723263347,
          205.4213962411952,
          187.62934461612056,
          170.4329243407449,
          222.4101227345717,
          194.2303978617568,
          193.70763899767195,
          159.49421270046832,
          291.174809999335,
          260.94392026672745,
          200.7374528301887,
          175.35466683138,
          168.30894600959826,
          182.6045434406312,
          186.78460869262625,
          217.02512022689243,
          165.6207033563241,
          165.10780067784077,
          135.99391655672824,
          155.10314553990608,
          170.74580839453523,
          201.88664882360268,
          174.98788670747103,
          146.4281672921193,
          208.99480905574148,
          135.43965107057892,
          199.8854802076224,
          151.94446642620775,
          156.81643486693594,
          218.1935105621267,
          169.04916833000664,
          167.45059294270033,
          176.61732856750015,
          144.20202533948907,
          155.32831643972887,
          153.91078902450144,
          181.60940637821548,
          221.4061960549635,
          204.2306254899077,
          162.59358226663014,
          216.1518192834428,
          147.61880079263975,
          136.63001526168503,
          150.60777266839705,
          165.49597370313413,
          156.12693498452012,
          135.06405650500176,
          153.46868953386104,
          177.2987854184428,
          146.76000949607717,
          133.51573704724453,
          174.30844090950498,
          126.56252309599512,
          158.3133331895776,
          128.70832528897012,
          136.37508840889797,
          162.98688463487372,
          203.1970818884472,
          129.27667157418557,
          114.63274797918224,
          145.99291602319974,
          183.8321338179411,
          159.13870813712407,
          138.46094809014207,
          99.02199737385908,
          101.99021163802354,
          173.66443933059216,
          140.09332381324415,
          104.18153479556258,
          10.812639310067729,
          191.2,
          223.0666666666667,
          192.99973357461943,
          166.7186085795009,
          140.12903444706393,
          180.2866928326412,
          172.70020840716728,
          211.7503940044669,
          161.88820128667015,
          181.7640332772252,
          365.513376807963,
          240.9843286317188,
          260.17532912692104,
          162.349509403719,
          364.31755496148565,
          235.77072536805176,
          122.20228347322738,
          645.3891624169938,
          844.240671855958,
          83.93936822749644,
          128.19763775836086,
          299.6903225806452,
          408.6055555555556,
          414.7225428147235,
          131.86910311299616,
          611.7416096448355,
          881.1945594899825,
          722.9610891072598,
          652.746953872933,
          198.92624347496823,
          284.35684308331594,
          363.81250327654,
          114.82403235617116,
          282.5958520497786,
          188.1495699862894,
          223.6574506466845,
          210.52802949700995,
          244.39110948016173,
          205.93923194208864,
          241.03423520947064,
          139.63157212533864,
          118.97042266910198,
          141.19602337605363,
          117.36271425465466,
          185.50878915799268,
          95.81465792057328,
          98.90036986449572,
          110.55350653703098,
          232.1929255875673,
          176.1417730734767,
          441.7887984692455,
          68.01287553648068,
          438.4072888783168,
          231,
          76.86015443069006,
          119.3943617832835,
          121.63301287417131,
          392.2413793103448,
          130.46869337083822,
          1977.534070534054,
          1334.7824318870123,
          323.1261121733588,
          437.6987254901961,
          1187.1066666666668,
          177.98184782608698,
          506.3255437698804,
          580.7648476559392,
          931.3211130425244,
          944.628637690063,
          1479.5349812484135,
          758.3871529126214,
          934.2792259373496,
          245.01545465401108,
          76.12701229000186,
          200.6428626986072,
          170.78105964267456,
          85.50803720480707,
          584.1962816503734,
          256.67668790606166,
          374.897854462092,
          264.6855123146218,
          360.7839912280703,
          249.54545454545453,
          335.5,
          353.6527498753129,
          620.1099276968233,
          396.6068430107527,
          520.6588534884394,
          452.42445933418605,
          383.45205803701214,
          169.44985087000438,
          161.22748520022614,
          680.0412107270314,
          191.0760439733401,
          184.24309181897303,
          103.2730815347722,
          86.43527222754719,
          114.74058968925016,
          167.3917649183005,
          99.70611490999282,
          114.7883183568678,
          755.5925438833747,
          279.9646719074187,
          84.89513969653534,
          196.90407594731292,
          236.3624184782609,
          176.375,
          302.4218750000001,
          539.504761904762,
          172.96870132721895,
          351.00000000000006,
          68.6387481242633,
          51.47254887800543,
          76.74317650853786,
          89.10783291185462,
          76.76190476190477,
          48.83478260869565,
          166.0463190661479,
          218.9278927799556,
          54.6,
          128.96825396825398,
          156.00000000000003,
          111.85811677288083,
          26.30383811230585,
          123.48351254480288,
          84.36006705487912,
          289.97856237329603,
          103.9675153851356,
          191.40767147944203,
          116.79899359432174,
          162.63057510880043,
          179.50965133906013,
          180.7585860112801,
          171.10824175824175,
          70.94788013757646,
          175.85712334572278,
          190.7373414749762,
          170.6143554006969,
          198.300186451212,
          209.10363810041048,
          174.50315571936173,
          199.7627160493827,
          119.85048668824074,
          116.6842068325181,
          121.5047320673486,
          147.75507179249655,
          142.25162002160562,
          158.93333133712423,
          159.77456397047047,
          176.400678397129,
          128.6931747211896,
          93.85178055822904,
          113.23411184210526,
          179.42631147540982,
          220.5091211578608,
          126.34654741022172,
          125.20413333333332,
          191.58563406776608,
          180.32239668492088,
          161.67354591635046,
          124.36136170212764,
          154.5182314962637,
          163.1147345816225,
          190.65710964049364,
          210.84607064879845,
          154.57155984465606,
          149.7398300746714,
          152.7838141025641,
          188.3531077116221,
          223.79322541677067,
          186.1038420968316,
          148.98442280945758,
          149.74443528441878,
          236.62779156327645,
          194.603545783927,
          86.29728666659952,
          102.45567152535872,
          136.68539638386648,
          169.027594191057,
          170.40845575062772,
          197.6701657458572,
          224.210273037932,
          85.46818645904828,
          86.59149445541344,
          146.09510638297934,
          124.949511400652,
          143.26194945848437,
          151.1442207792214,
          159.3731865932973,
          296.41826291445176,
          180.93866506313967,
          260.9591114209194,
          182.00562429696365,
          190.249847094802,
          208.8551647013969,
          200.8341085271326,
          207.55583758980367,
          145.61356271725742,
          172.20338483474902,
          74.12593984962436,
          88.57675438596527,
          172.2379415559342,
          181.4561837452063,
          122.3198090692124,
          119.03064066852366,
          115.47257876312716,
          110.92621296067055,
          93.0030664495044,
          28.014440433213,
          101.3921095643524,
          88.59060402684563,
          140.83829070733444,
          176.51214953271028,
          187.5512195121952,
          192.3991462127877,
          224.17314814814907,
          116.229473684211,
          172.5055120833254,
          191.19484197657405,
          200.6015525959352,
          110.54273852592831,
          203.60563563452672,
          74.84683333333363,
          81.28034042553226,
          111.02865761689338,
          96.86341603053476,
          174.80091385273374,
          195.7810522936375,
          175.69858608142178,
          176.65103825136686,
          180.8992764142404,
          194.6198330065781,
          69.89582593250472,
          142.97501067577377,
          203.9659191002056,
          187.20319802015,
          153.6518022777844,
          291.46082574284503,
          235.90469842105364,
          92.66990503042828,
          166.9972431677669,
          169.01383465696404,
          203.5216014041187,
          160.1217763416207,
          172.34379233261777,
          210.84617583988648,
          79.68519379844993,
          91.54915254237326,
          133.79902358253287,
          126.7685890747006,
          151.4406958887072,
          169.52379981442175,
          156.81289211935797,
          123.82388623259357,
          146.07485539011972,
          184.87476878196065,
          118.28236424231774,
          57.89288008578914,
          194.59019375249875,
          61.1117388073121,
          206.58768970380905,
          224.49330819981245,
          159.41656716417975,
          159.61484098939994,
          165.10673780487875,
          169.07105602891886,
          194.28550264550347,
          140.77670401496545,
          197.81329660876497,
          153.59620677857046,
          129.67426818654613,
          232.48779816513857,
          193.13460218275057,
          102.5469961465286,
          106.54022639257477,
          185.22046707171216,
          139.497337043718,
          246.39691959245303,
          222.5571114969136,
          162.79307787340775,
          169.56213763781713,
          173.92260436307728,
          224.51497375310325,
          220.09244444444536,
          221.7291970802929,
          259.79453116420103,
          153.93790063018963,
          208.52356223911147,
          222.86686521182045,
          168.50365942029055,
          67.51824408468272,
          82.31972251833817,
          83.1918693753788,
          228.71760513537453,
          174.6313984400903,
          578.7194352865894,
          135.19746469287108,
          188.4030007501883,
          153.57444414119288,
          154.04427177722252,
          213.2151374762126,
          158.09200519384223,
          184.656481900338,
          219.07693667715503,
          172.33221277689128,
          87.99628233443835,
          236.53111405684848,
          168.71141732283536,
          176.90868612966125,
          160.59633265045707,
          55.0943252091672,
          68.01541666666695,
          76.03055309734545,
          90.58687572242602,
          79.54668674698829,
          144.76547346147183,
          84.43915094339694,
          119.39773023255913,
          132.55932075471807,
          170.43440827262782,
          235.9507719432555,
          188.91654315357584,
          187.8013459687261,
          207.72376131954016,
          243.55895953757428,
          314.4601499542437,
          218.9171001000356,
          174.4055965847686,
          168.72255000945907,
          143.2786802030469,
          187.72937293729527,
          210.5664135653257,
          249.33178985820456,
          204.99916092872823,
          288.6322933153562,
          354.73416286274187,
          301.92703873576767,
          160.62272108475557,
          194.81059894811392,
          280.9179463518509,
          477.342750000004,
          423.790454545458,
          233.7839150166276,
          71.26847330995898,
          88.51318607764465,
          229.29885826771843,
          109.36236705232896,
          120.74489955332014,
          142.95621632588626,
          140.41017902141084,
          183.1703818065124,
          172.98166699992777,
          183.000232369312,
          168.9160020887136,
          171.8869531605875,
          193.95352727056328,
          119.5960029016808,
          122.63827601607964,
          141.53281250000117,
          188.31137344515625,
          184.733529382434,
          183.43309607173492,
          219.1944701357484,
          97.37037037037118,
          167.072100859949,
          196.5075,
          143.45973942557475,
          172.50555209050182,
          91.61904761904762,
          341.6280728811526,
          205.30272,
          217.15564081632647,
          217.218,
          71.98684434242966,
          374.2053063274189,
          211.7142857142857
         ],
         "xaxis": "x",
         "y": [
          7.5,
          5.7,
          8.6,
          7.8,
          15.5,
          7.4,
          9.7,
          5.8,
          5.1,
          4.2,
          4.2,
          6.3,
          3.1,
          2.7,
          7.6,
          12.5,
          9.6,
          5.1,
          3,
          17,
          1.3,
          12,
          3.1,
          6.5,
          3.1,
          3.4,
          4,
          6.9,
          66.7,
          2.5,
          5,
          6.4,
          11.6,
          6.1,
          7.4,
          27,
          13.2,
          1.9,
          3.4,
          13.5,
          7,
          18,
          4.1,
          11.5,
          3.3,
          7.4,
          17,
          3.2,
          24.5,
          13.3,
          6.1,
          6.5,
          15.2,
          200,
          7.8,
          12.5,
          11.5,
          17.3,
          12.8,
          21.5,
          3.6,
          4.7,
          2.8,
          7.6,
          2.7,
          1.8,
          2.2,
          4.4,
          15.5,
          1.6,
          8.2,
          30,
          36,
          9,
          41.9,
          43,
          19,
          20.2,
          33.5,
          18.6,
          23.5,
          32.3,
          2.7,
          24.9,
          14.5,
          16.5,
          13.5,
          9.2,
          12.8,
          20.8,
          12.8,
          7.6,
          9.5,
          4.8,
          8,
          23.7,
          3.9,
          71,
          4,
          1.7,
          4.9,
          16,
          24.8,
          37,
          12,
          33,
          13.7,
          21,
          26.7,
          28.3,
          22.8,
          11,
          15.6,
          4.2,
          4.7,
          9,
          13,
          160.6,
          61.7,
          42.3,
          12,
          31,
          27,
          56,
          75,
          2,
          6,
          10.5,
          4.6,
          3,
          22.9,
          7.5,
          9.2,
          5.5,
          5.2,
          4.8,
          3.4,
          1.6,
          2.7,
          2.6,
          2.8,
          5.3,
          21,
          1.8,
          8,
          1.5,
          1.3,
          1.9,
          1.5,
          6.3,
          24,
          38.6,
          3.5,
          3.9,
          1.3,
          2.6,
          1.9,
          4.5,
          4.4,
          0.7,
          2.5,
          47.8,
          5.9,
          18.2,
          11.3,
          21.3,
          31.2,
          19.6,
          15.7,
          1,
          1.8,
          2.5,
          27.1,
          12.8,
          19,
          26.9,
          22.1,
          34.5,
          30.4,
          35.9,
          15.8,
          19.7,
          11.3,
          8.9,
          2.4,
          20.3,
          8.9,
          8.9,
          4.1,
          27.8,
          5.6,
          16,
          3,
          3.8,
          2.7,
          10,
          1.6,
          15.9,
          1.5,
          9.6,
          58.3,
          73.9,
          42.3,
          5.5,
          6.3,
          38.2,
          40,
          72,
          31,
          45.1,
          9.1,
          118.9,
          8.8,
          3.7,
          20,
          3.5,
          14.29,
          14,
          15.4,
          51,
          27.8,
          11.5,
          17.9,
          43,
          15.4,
          8.2,
          16.7,
          8.5,
          12,
          20,
          1.1,
          4,
          3.6,
          0.8,
          2.7,
          35,
          51,
          52.2,
          23.5,
          16.1,
          21.7,
          4.4,
          19.7,
          13.6,
          63,
          23.75,
          11.6,
          5.35,
          2.25,
          9.22,
          39,
          28.2,
          1.83,
          40.85,
          16.1,
          16.3,
          2.72,
          6.155,
          30.8,
          8.53,
          24.975,
          15.365,
          22.032,
          17.206,
          19.628,
          34.388,
          9.978,
          14.44,
          30.687,
          14.5,
          5.372,
          13.828,
          36.221,
          46.008,
          22.886,
          6,
          26.2,
          22.912,
          37.626,
          6.13,
          9.35,
          8.05,
          19.296,
          4.47,
          4.26,
          8.43,
          48,
          21.72,
          10.234,
          18.25,
          5.7,
          14.5,
          11.25,
          13.97,
          27.5,
          42.1,
          8.777,
          4.2,
          22.436,
          37.4,
          29.2,
          33.5,
          19.41,
          40,
          3.4,
          14.29,
          20,
          22.4,
          49.7,
          49.8,
          5,
          21.22,
          26.53,
          59.9,
          10.42,
          7.83,
          22.6,
          27.6,
          37.6,
          17.2,
          17.8,
          41.36,
          16.6,
          37.4,
          31.6,
          50.34,
          30.4,
          26.5,
          6.54,
          15.184,
          17.6,
          21.6,
          28.5,
          44.5,
          10,
          13.33,
          11.6,
          28.85,
          20.22,
          23.22,
          31,
          78.6,
          9.7,
          8.366,
          15.5,
          27.7,
          19.677,
          8.43,
          33.59,
          8.95,
          30.2,
          19.567,
          32.1,
          5.6,
          6.5,
          35.49,
          24.2,
          24.78,
          23.7,
          38.2,
          23.9,
          20,
          10.05,
          17.1,
          21.8,
          29.6,
          62.5,
          36,
          27.6,
          24.98,
          27.7,
          43.135,
          40.22,
          52.9,
          7.594,
          44.09,
          32.365,
          37.2,
          2.5,
          28.96,
          40.5,
          68.6,
          17.034,
          24.64,
          22.7,
          14.2,
          22.5,
          15,
          27,
          22.6,
          36,
          12.8,
          5.5,
          24.58,
          4,
          43.7,
          44,
          3.5,
          4.528,
          10.6,
          35.6,
          24.86,
          45,
          28.737,
          33.5,
          36.2,
          19,
          30.32,
          21.3,
          14.72,
          5.2,
          1.6,
          50.63,
          42.87,
          6.305,
          25.1,
          38.4,
          9.6,
          21.8,
          15.03,
          52.8,
          4,
          9.1,
          3.2,
          28.5,
          4.5,
          27.6,
          50.93,
          9.93,
          26.45,
          69.6,
          13.99,
          6.6,
          10.77,
          32.3,
          19.8,
          34.11,
          15.77,
          4.1,
          12.15,
          43.5,
          14.26,
          9.15,
          33,
          8.5,
          41.4,
          33.09,
          3.97,
          28.2,
          12.1,
          9.2,
          40,
          25.61,
          32.2,
          3.65,
          6.328,
          6.689,
          7.3,
          28.1,
          32.5,
          9.6,
          25.9,
          57.46,
          10.9,
          51.5,
          25.56,
          17.5,
          50.14,
          1.8,
          38,
          25.3,
          40.7,
          29.6,
          12.9,
          29.9,
          161.1,
          50,
          124,
          28.6,
          72.7,
          35,
          22.5,
          15,
          44,
          22,
          4.3,
          19,
          21,
          160,
          42.3,
          38.15,
          58.96,
          30.2,
          8.023,
          27.03,
          34.3,
          15.4,
          29.1,
          22.2,
          26.7,
          8.9,
          14.3,
          17.8,
          13,
          37.5,
          32,
          6.94,
          2.9,
          12.8,
          16,
          23.3,
          7.7,
          20,
          19.9,
          18.4,
          10.9,
          5.8,
          14,
          1.8,
          3,
          34,
          2.1,
          4,
          3.5,
          7,
          2.6,
          2.4,
          17,
          15.6,
          10.5,
          12.5,
          4.6,
          29.7,
          12.1,
          22.9,
          13.7,
          4.3,
          3.5,
          3.3,
          9.4,
          3.8,
          22,
          20,
          8,
          93.90000000000002,
          14.8,
          6.5,
          1.4,
          32,
          13.7,
          3.9,
          19,
          18.8,
          18.3,
          13.9,
          3.3,
          6.2,
          18.5,
          13.4,
          26.6,
          7.2,
          9.7,
          14,
          5.25,
          2.5,
          16,
          4.6,
          10.5,
          1.7,
          3.8,
          1.9,
          3.1,
          1.7,
          6.4,
          2.1,
          11.5,
          2.5,
          1.5,
          1.5,
          12.6,
          3.3,
          1.9,
          4.8,
          3.9,
          2.1,
          13.7,
          10.6,
          3.3,
          13.1,
          34.237,
          19.79,
          32.16,
          36.4,
          29.27,
          14.1,
          2.6,
          28.7,
          32.18,
          32.2,
          36.1,
          14.4,
          18.5,
          29.1,
          35.01,
          32.385,
          23.8,
          20.3,
          15.76,
          24.4,
          40.35,
          31.17,
          30.4,
          24.4,
          26.3,
          5.187,
          30,
          29.4,
          28.5,
          20.82,
          23.5,
          69.5,
          32.41,
          55.91,
          24.484,
          13.2,
          4.924,
          62.4,
          16.88,
          24.6,
          27.3,
          21.57,
          36.39,
          40.3,
          18.216,
          21.59,
          12.7,
          35.95,
          100.1,
          27.91,
          9.05,
          16.73,
          58.35,
          60,
          18.8,
          61.4,
          13.85,
          30.8,
          59.97,
          25,
          16.63,
          25,
          8.89,
          32.7,
          20.556,
          19.35,
          27.615,
          16.973,
          50.6,
          53.2,
          22.8,
          39.4,
          20.85,
          4.19,
          3.59,
          2.571,
          7.8,
          11.4,
          83.1,
          14.9,
          44.7,
          7.7,
          10.7,
          4.1,
          31.3,
          10.8,
          34.2,
          12.7,
          8.1,
          59.6,
          19.86,
          30.523,
          6,
          11.75,
          66.3,
          52.4,
          67,
          21.967,
          24.15,
          18.3,
          18.27,
          25.2,
          33.78,
          31.27,
          25.487,
          6.015,
          12.4,
          16.5,
          19,
          13.4,
          5.3,
          22.8,
          8,
          45.92,
          21.926,
          13.99,
          38.7,
          59,
          10.9,
          21.3,
          58.6,
          49,
          26.14,
          15,
          12.6,
          38.6,
          13,
          37.353,
          4.6,
          28.22,
          14.18,
          10.61,
          6.7,
          51.789,
          32.8,
          38.73,
          18.9,
          15.5,
          16.5,
          39.1,
          19.15,
          10.9,
          5.29,
          54.4,
          21.6,
          12.5,
          61.6,
          35.86,
          24.3,
          17.6,
          18.3,
          17.6,
          28.55,
          18,
          41.1,
          44.2,
          79,
          39,
          107,
          27.6,
          48.18,
          14.26,
          20.72,
          18.2,
          59.1316,
          4.7,
          23.508,
          13.33,
          4.95,
          30.5,
          11.281,
          26.955,
          51.6,
          20.8,
          10,
          63.1,
          4.54,
          12.7,
          19.5,
          26.8,
          27.49,
          24,
          45.2,
          32.95,
          13.28,
          5.671,
          42.4,
          53.75,
          26.5,
          43.9,
          21.63,
          26.313,
          32.1,
          21.2,
          17.3,
          36.85,
          55.07,
          29.2,
          49.9,
          39.4,
          15.15,
          58.738,
          29.54,
          9.4,
          9.35,
          2.88,
          21.446,
          44.1,
          26.557,
          21.2,
          4,
          2.2,
          27.9,
          30.517,
          14.94,
          25.4,
          29.28,
          19.87,
          38.4,
          25.296,
          39.8,
          33.3,
          25.7,
          25.36,
          6.1,
          26.76,
          45.8,
          44.78,
          51.2,
          18.6,
          25.2,
          31.5,
          44.2,
          70.2,
          30.1,
          16,
          14.5,
          16.5,
          2.1,
          35.5,
          1.5,
          4.9,
          11.4,
          14.4,
          2.9,
          21
         ],
         "yaxis": "y"
        }
       ],
       "layout": {
        "autosize": true,
        "coloraxis": {
         "colorbar": {
          "title": {
           "text": "cluster_id"
          }
         },
         "colorscale": [
          [
           0,
           "#0d0887"
          ],
          [
           0.1111111111111111,
           "#46039f"
          ],
          [
           0.2222222222222222,
           "#7201a8"
          ],
          [
           0.3333333333333333,
           "#9c179e"
          ],
          [
           0.4444444444444444,
           "#bd3786"
          ],
          [
           0.5555555555555556,
           "#d8576b"
          ],
          [
           0.6666666666666666,
           "#ed7953"
          ],
          [
           0.7777777777777778,
           "#fb9f3a"
          ],
          [
           0.8888888888888888,
           "#fdca26"
          ],
          [
           1,
           "#f0f921"
          ]
         ]
        },
        "legend": {
         "tracegroupgap": 0
        },
        "margin": {
         "t": 60
        },
        "template": {
         "data": {
          "bar": [
           {
            "error_x": {
             "color": "#2a3f5f"
            },
            "error_y": {
             "color": "#2a3f5f"
            },
            "marker": {
             "line": {
              "color": "#E5ECF6",
              "width": 0.5
             },
             "pattern": {
              "fillmode": "overlay",
              "size": 10,
              "solidity": 0.2
             }
            },
            "type": "bar"
           }
          ],
          "barpolar": [
           {
            "marker": {
             "line": {
              "color": "#E5ECF6",
              "width": 0.5
             },
             "pattern": {
              "fillmode": "overlay",
              "size": 10,
              "solidity": 0.2
             }
            },
            "type": "barpolar"
           }
          ],
          "carpet": [
           {
            "aaxis": {
             "endlinecolor": "#2a3f5f",
             "gridcolor": "white",
             "linecolor": "white",
             "minorgridcolor": "white",
             "startlinecolor": "#2a3f5f"
            },
            "baxis": {
             "endlinecolor": "#2a3f5f",
             "gridcolor": "white",
             "linecolor": "white",
             "minorgridcolor": "white",
             "startlinecolor": "#2a3f5f"
            },
            "type": "carpet"
           }
          ],
          "choropleth": [
           {
            "colorbar": {
             "outlinewidth": 0,
             "ticks": ""
            },
            "type": "choropleth"
           }
          ],
          "contour": [
           {
            "colorbar": {
             "outlinewidth": 0,
             "ticks": ""
            },
            "colorscale": [
             [
              0,
              "#0d0887"
             ],
             [
              0.1111111111111111,
              "#46039f"
             ],
             [
              0.2222222222222222,
              "#7201a8"
             ],
             [
              0.3333333333333333,
              "#9c179e"
             ],
             [
              0.4444444444444444,
              "#bd3786"
             ],
             [
              0.5555555555555556,
              "#d8576b"
             ],
             [
              0.6666666666666666,
              "#ed7953"
             ],
             [
              0.7777777777777778,
              "#fb9f3a"
             ],
             [
              0.8888888888888888,
              "#fdca26"
             ],
             [
              1,
              "#f0f921"
             ]
            ],
            "type": "contour"
           }
          ],
          "contourcarpet": [
           {
            "colorbar": {
             "outlinewidth": 0,
             "ticks": ""
            },
            "type": "contourcarpet"
           }
          ],
          "heatmap": [
           {
            "colorbar": {
             "outlinewidth": 0,
             "ticks": ""
            },
            "colorscale": [
             [
              0,
              "#0d0887"
             ],
             [
              0.1111111111111111,
              "#46039f"
             ],
             [
              0.2222222222222222,
              "#7201a8"
             ],
             [
              0.3333333333333333,
              "#9c179e"
             ],
             [
              0.4444444444444444,
              "#bd3786"
             ],
             [
              0.5555555555555556,
              "#d8576b"
             ],
             [
              0.6666666666666666,
              "#ed7953"
             ],
             [
              0.7777777777777778,
              "#fb9f3a"
             ],
             [
              0.8888888888888888,
              "#fdca26"
             ],
             [
              1,
              "#f0f921"
             ]
            ],
            "type": "heatmap"
           }
          ],
          "heatmapgl": [
           {
            "colorbar": {
             "outlinewidth": 0,
             "ticks": ""
            },
            "colorscale": [
             [
              0,
              "#0d0887"
             ],
             [
              0.1111111111111111,
              "#46039f"
             ],
             [
              0.2222222222222222,
              "#7201a8"
             ],
             [
              0.3333333333333333,
              "#9c179e"
             ],
             [
              0.4444444444444444,
              "#bd3786"
             ],
             [
              0.5555555555555556,
              "#d8576b"
             ],
             [
              0.6666666666666666,
              "#ed7953"
             ],
             [
              0.7777777777777778,
              "#fb9f3a"
             ],
             [
              0.8888888888888888,
              "#fdca26"
             ],
             [
              1,
              "#f0f921"
             ]
            ],
            "type": "heatmapgl"
           }
          ],
          "histogram": [
           {
            "marker": {
             "pattern": {
              "fillmode": "overlay",
              "size": 10,
              "solidity": 0.2
             }
            },
            "type": "histogram"
           }
          ],
          "histogram2d": [
           {
            "colorbar": {
             "outlinewidth": 0,
             "ticks": ""
            },
            "colorscale": [
             [
              0,
              "#0d0887"
             ],
             [
              0.1111111111111111,
              "#46039f"
             ],
             [
              0.2222222222222222,
              "#7201a8"
             ],
             [
              0.3333333333333333,
              "#9c179e"
             ],
             [
              0.4444444444444444,
              "#bd3786"
             ],
             [
              0.5555555555555556,
              "#d8576b"
             ],
             [
              0.6666666666666666,
              "#ed7953"
             ],
             [
              0.7777777777777778,
              "#fb9f3a"
             ],
             [
              0.8888888888888888,
              "#fdca26"
             ],
             [
              1,
              "#f0f921"
             ]
            ],
            "type": "histogram2d"
           }
          ],
          "histogram2dcontour": [
           {
            "colorbar": {
             "outlinewidth": 0,
             "ticks": ""
            },
            "colorscale": [
             [
              0,
              "#0d0887"
             ],
             [
              0.1111111111111111,
              "#46039f"
             ],
             [
              0.2222222222222222,
              "#7201a8"
             ],
             [
              0.3333333333333333,
              "#9c179e"
             ],
             [
              0.4444444444444444,
              "#bd3786"
             ],
             [
              0.5555555555555556,
              "#d8576b"
             ],
             [
              0.6666666666666666,
              "#ed7953"
             ],
             [
              0.7777777777777778,
              "#fb9f3a"
             ],
             [
              0.8888888888888888,
              "#fdca26"
             ],
             [
              1,
              "#f0f921"
             ]
            ],
            "type": "histogram2dcontour"
           }
          ],
          "mesh3d": [
           {
            "colorbar": {
             "outlinewidth": 0,
             "ticks": ""
            },
            "type": "mesh3d"
           }
          ],
          "parcoords": [
           {
            "line": {
             "colorbar": {
              "outlinewidth": 0,
              "ticks": ""
             }
            },
            "type": "parcoords"
           }
          ],
          "pie": [
           {
            "automargin": true,
            "type": "pie"
           }
          ],
          "scatter": [
           {
            "fillpattern": {
             "fillmode": "overlay",
             "size": 10,
             "solidity": 0.2
            },
            "type": "scatter"
           }
          ],
          "scatter3d": [
           {
            "line": {
             "colorbar": {
              "outlinewidth": 0,
              "ticks": ""
             }
            },
            "marker": {
             "colorbar": {
              "outlinewidth": 0,
              "ticks": ""
             }
            },
            "type": "scatter3d"
           }
          ],
          "scattercarpet": [
           {
            "marker": {
             "colorbar": {
              "outlinewidth": 0,
              "ticks": ""
             }
            },
            "type": "scattercarpet"
           }
          ],
          "scattergeo": [
           {
            "marker": {
             "colorbar": {
              "outlinewidth": 0,
              "ticks": ""
             }
            },
            "type": "scattergeo"
           }
          ],
          "scattergl": [
           {
            "marker": {
             "colorbar": {
              "outlinewidth": 0,
              "ticks": ""
             }
            },
            "type": "scattergl"
           }
          ],
          "scattermapbox": [
           {
            "marker": {
             "colorbar": {
              "outlinewidth": 0,
              "ticks": ""
             }
            },
            "type": "scattermapbox"
           }
          ],
          "scatterpolar": [
           {
            "marker": {
             "colorbar": {
              "outlinewidth": 0,
              "ticks": ""
             }
            },
            "type": "scatterpolar"
           }
          ],
          "scatterpolargl": [
           {
            "marker": {
             "colorbar": {
              "outlinewidth": 0,
              "ticks": ""
             }
            },
            "type": "scatterpolargl"
           }
          ],
          "scatterternary": [
           {
            "marker": {
             "colorbar": {
              "outlinewidth": 0,
              "ticks": ""
             }
            },
            "type": "scatterternary"
           }
          ],
          "surface": [
           {
            "colorbar": {
             "outlinewidth": 0,
             "ticks": ""
            },
            "colorscale": [
             [
              0,
              "#0d0887"
             ],
             [
              0.1111111111111111,
              "#46039f"
             ],
             [
              0.2222222222222222,
              "#7201a8"
             ],
             [
              0.3333333333333333,
              "#9c179e"
             ],
             [
              0.4444444444444444,
              "#bd3786"
             ],
             [
              0.5555555555555556,
              "#d8576b"
             ],
             [
              0.6666666666666666,
              "#ed7953"
             ],
             [
              0.7777777777777778,
              "#fb9f3a"
             ],
             [
              0.8888888888888888,
              "#fdca26"
             ],
             [
              1,
              "#f0f921"
             ]
            ],
            "type": "surface"
           }
          ],
          "table": [
           {
            "cells": {
             "fill": {
              "color": "#EBF0F8"
             },
             "line": {
              "color": "white"
             }
            },
            "header": {
             "fill": {
              "color": "#C8D4E3"
             },
             "line": {
              "color": "white"
             }
            },
            "type": "table"
           }
          ]
         },
         "layout": {
          "annotationdefaults": {
           "arrowcolor": "#2a3f5f",
           "arrowhead": 0,
           "arrowwidth": 1
          },
          "autotypenumbers": "strict",
          "coloraxis": {
           "colorbar": {
            "outlinewidth": 0,
            "ticks": ""
           }
          },
          "colorscale": {
           "diverging": [
            [
             0,
             "#8e0152"
            ],
            [
             0.1,
             "#c51b7d"
            ],
            [
             0.2,
             "#de77ae"
            ],
            [
             0.3,
             "#f1b6da"
            ],
            [
             0.4,
             "#fde0ef"
            ],
            [
             0.5,
             "#f7f7f7"
            ],
            [
             0.6,
             "#e6f5d0"
            ],
            [
             0.7,
             "#b8e186"
            ],
            [
             0.8,
             "#7fbc41"
            ],
            [
             0.9,
             "#4d9221"
            ],
            [
             1,
             "#276419"
            ]
           ],
           "sequential": [
            [
             0,
             "#0d0887"
            ],
            [
             0.1111111111111111,
             "#46039f"
            ],
            [
             0.2222222222222222,
             "#7201a8"
            ],
            [
             0.3333333333333333,
             "#9c179e"
            ],
            [
             0.4444444444444444,
             "#bd3786"
            ],
            [
             0.5555555555555556,
             "#d8576b"
            ],
            [
             0.6666666666666666,
             "#ed7953"
            ],
            [
             0.7777777777777778,
             "#fb9f3a"
            ],
            [
             0.8888888888888888,
             "#fdca26"
            ],
            [
             1,
             "#f0f921"
            ]
           ],
           "sequentialminus": [
            [
             0,
             "#0d0887"
            ],
            [
             0.1111111111111111,
             "#46039f"
            ],
            [
             0.2222222222222222,
             "#7201a8"
            ],
            [
             0.3333333333333333,
             "#9c179e"
            ],
            [
             0.4444444444444444,
             "#bd3786"
            ],
            [
             0.5555555555555556,
             "#d8576b"
            ],
            [
             0.6666666666666666,
             "#ed7953"
            ],
            [
             0.7777777777777778,
             "#fb9f3a"
            ],
            [
             0.8888888888888888,
             "#fdca26"
            ],
            [
             1,
             "#f0f921"
            ]
           ]
          },
          "colorway": [
           "#636efa",
           "#EF553B",
           "#00cc96",
           "#ab63fa",
           "#FFA15A",
           "#19d3f3",
           "#FF6692",
           "#B6E880",
           "#FF97FF",
           "#FECB52"
          ],
          "font": {
           "color": "#2a3f5f"
          },
          "geo": {
           "bgcolor": "white",
           "lakecolor": "white",
           "landcolor": "#E5ECF6",
           "showlakes": true,
           "showland": true,
           "subunitcolor": "white"
          },
          "hoverlabel": {
           "align": "left"
          },
          "hovermode": "closest",
          "mapbox": {
           "style": "light"
          },
          "paper_bgcolor": "white",
          "plot_bgcolor": "#E5ECF6",
          "polar": {
           "angularaxis": {
            "gridcolor": "white",
            "linecolor": "white",
            "ticks": ""
           },
           "bgcolor": "#E5ECF6",
           "radialaxis": {
            "gridcolor": "white",
            "linecolor": "white",
            "ticks": ""
           }
          },
          "scene": {
           "xaxis": {
            "backgroundcolor": "#E5ECF6",
            "gridcolor": "white",
            "gridwidth": 2,
            "linecolor": "white",
            "showbackground": true,
            "ticks": "",
            "zerolinecolor": "white"
           },
           "yaxis": {
            "backgroundcolor": "#E5ECF6",
            "gridcolor": "white",
            "gridwidth": 2,
            "linecolor": "white",
            "showbackground": true,
            "ticks": "",
            "zerolinecolor": "white"
           },
           "zaxis": {
            "backgroundcolor": "#E5ECF6",
            "gridcolor": "white",
            "gridwidth": 2,
            "linecolor": "white",
            "showbackground": true,
            "ticks": "",
            "zerolinecolor": "white"
           }
          },
          "shapedefaults": {
           "line": {
            "color": "#2a3f5f"
           }
          },
          "ternary": {
           "aaxis": {
            "gridcolor": "white",
            "linecolor": "white",
            "ticks": ""
           },
           "baxis": {
            "gridcolor": "white",
            "linecolor": "white",
            "ticks": ""
           },
           "bgcolor": "#E5ECF6",
           "caxis": {
            "gridcolor": "white",
            "linecolor": "white",
            "ticks": ""
           }
          },
          "title": {
           "x": 0.05
          },
          "xaxis": {
           "automargin": true,
           "gridcolor": "white",
           "linecolor": "white",
           "ticks": "",
           "title": {
            "standoff": 15
           },
           "zerolinecolor": "white",
           "zerolinewidth": 2
          },
          "yaxis": {
           "automargin": true,
           "gridcolor": "white",
           "linecolor": "white",
           "ticks": "",
           "title": {
            "standoff": 15
           },
           "zerolinecolor": "white",
           "zerolinewidth": 2
          }
         }
        },
        "xaxis": {
         "anchor": "y",
         "autorange": true,
         "domain": [
          0,
          1
         ],
         "range": [
          -259.4538624562102,
          4761.611004481274
         ],
         "title": {
          "text": "cost_km_2021"
         },
         "type": "linear"
        },
        "yaxis": {
         "anchor": "x",
         "autorange": true,
         "domain": [
          0,
          1
         ],
         "range": [
          -14.731364829396329,
          215.43136482939633
         ],
         "title": {
          "text": "length"
         },
         "type": "linear"
        }
       }
      },
      "image/png": "[encoded data removed]",
      "text/html": [
       "<div>                            <div id=\"2ead9e6c-2edd-43e9-859e-dfc8ad1009b4\" class=\"plotly-graph-div\" style=\"height:525px; width:100%;\"></div>            <script type=\"text/javascript\">                require([\"plotly\"], function(Plotly) {                    window.PLOTLYENV=window.PLOTLYENV || {};                                    if (document.getElementById(\"2ead9e6c-2edd-43e9-859e-dfc8ad1009b4\")) {                    Plotly.newPlot(                        \"2ead9e6c-2edd-43e9-859e-dfc8ad1009b4\",                        [{\"customdata\":[[\"M4 Phase 3\"],[\"Broadway\"],[\"Vaughan\"],[\"Scarborough\"],[\"Ontario\"],[\"Yonge to Richmond Hill\"],[\"Amsterdam North South\"],[\"Blue Line extension\"],[\"U-Link\"],[\"Purple Phase 3\"],[\"Purple Phase 2\"],[\"Purple Phase 1\"],[\"Regional Connector\"],[\"Central Subway\"],[\"Green Line Extension\"],[\"Confederation\"],[\"BART to San Jose\"],[\"Line 1 northern\"],[\"Line 1 southern\"],[\"Line 2\"],[\"Line 2 extension\"],[\"Line 3\"],[\"Line 3 extension (Third Stage)\"],[\"Line 2\"],[\"Line 2 extension to Trocka\"],[\"Line 2 extension to KJ\"],[\"Line 2 extension to Br\\u00f3dno\"],[\"Line 5\"],[\"Line 11\"],[\"Line 2 extension\"],[\"Line 3 extension\"],[\"Line 5 extension\"],[\"Line 1 extension\"],[\"Line A extension\"],[\"Line 4\"],[\"Line 3\"],[\"Line 1 phases 1-3\"],[\"Line 1 south (phase 4)\"],[\"Line 1 west (phase 5)\"],[\"West Metro phase 1\"],[\"West Metro phase 2\"],[\"Ring Rail Line\"],[\"Arenastaden\"],[\"Nacka/S\\u00f6derort\"],[\"Barkarby\"],[\"Citybanan\"],[\"Citytunneln\"],[\"Northern Line Extension\"],[\"Line 12\"],[\"Wanda Line Phase 2\"],[\"M5 phase 1\"],[\"M5 phase 2\"],[\"Line 4\"],[\"Grand Paris Express\"],[\"Passante Railway (tunnel section only)\"],[\"Line 3\"],[\"Line 2\"],[\"Sinbundang\"],[\"Sinbundang Phase 2\"],[\"Line 3\"],[\"City Tunnel\"],[\"Line B1 extension\"],[\"Line C - section T6a\"],[\"Line C - section T4-5\"],[\"Line C - section T3\"],[\"U55\"],[\"U5-U55 connection\"],[\"Line 3\"],[\"City Circle Line\"],[\"L\\u00f8ren Line\"],[\"Fornebu Line\"],[\"Metro City & SW\"],[\"Metro NW\"],[\"Metro Tunnel\"],[\"Downtown MRT Line\"],[\"Thomson MRT Line\"],[\"Eglinton Crosstown\"],[\"Monorail\"],[\"Line 3\"],[\"Line 2A\"],[\"Line 2B\"],[\"Line 4\"],[\"Line 4A\"],[\"Line 5\"],[\"Line 6\"],[\"Line 7\"],[\"Line 7A + 9\"],[\"Line 10\"],[\"Line 11\"],[\"Line 12\"],[\"Line 4\"],[\"Line 3 to Piraeus\"],[\"Main line\"],[\"Kalamaria Extension\"],[\"Line 1 extension\"],[\"Gimpo Urban Railway\"],[\"Line 7 extension\"],[\"2020s program\"],[\"Circle Line Stage 6\"],[\"Line 12 to Aubervilliers\"],[\"Line 1 extension\"],[\"Jubilee line extension\"],[\"Line 7\"],[\"Project 63\"],[\"Line 5 extension\"],[\"Lines 1-2\"],[\"Line 1\"],[\"Line 2\"],[\"Line 3\"],[\"Line 9\"],[\"Line 7\"],[\"Line 5\"],[\"Line 4\"],[\"Line 2 extension\"],[\"Line 1 extension\"],[\"U2/U5 cross\"],[\"Metro\"],[\"Phase 3\"],[\"Phase 4 first half\"],[\"Phase 4 second half\"],[\"Line 3 extension to SW\"],[\"Line 6\"],[\"Line 7\"],[\"1995-98 program\"],[\"1999-2003 program\"],[\"Circular line\"],[\"Pink line, yellow line\"],[\"Eje Transversal\"],[\"Line 2 extension\"],[\"Line 9 extension\"],[\"Metro\"],[\"Chamartin-Atocha tunnel\"],[\"Line 14\"],[\"Sheppard\"],[\"Laval extension\"],[\"Kombil\\u00f6sung\"],[\"Wehrhahn Line\"],[\"7 extension\"],[\"Second Avenue Phase 1\"],[\"Second Avenue Phase 2\"],[\"East Side Access\"],[\"Gateway\"],[\"Crossrail\"],[\"Line 4 to Bagneux\"],[\"RER E extension\"],[\"Line 4 to Montrouge\"],[\"Line 8 to Pointe-du-Lac\"],[\"Line 13 to Courtilles\"],[\"Line 12 to Front Populaire\"],[\"Line 11\"],[\"Red Line\"],[\"Green Line\"],[\"City Rail Link\"],[\"U4 to HafenCity U\"],[\"U4 to Elbbr\\u00fccken\"],[\"U4 to Dannerallee\"],[\"L3 to Trinitat Nova\"],[\"Terrassa tunnel\"],[\"Sabadell tunnel\"],[\"L2 to Badalona\"],[\"L5 to Vall d'Hebron\"],[\"L9/10\"],[\"Line 3\"],[\"Line 1\"],[\"Lines 1-2\"],[\"Line 6\"],[\"Line 1\"],[\"Line 5\"],[\"MRT first phase\"],[\"Line A to Vaulx\"],[\"Line B to Oullins\"],[\"Line B to Hospital-Sud\"],[\"Orange Line\"],[\"Sukhumvit Line to Kheka\"],[\"Sukhumvit Line to Khu Khot\"],[\"Blue Line extension\"],[\"Brown Line\"],[\"Pink Line\"],[\"Yellow Line\"],[\"Orange Line\"],[\"Red Line\"],[\"Line 1\"],[\"Line 2 first phase\"],[\"Line 5 first phase\"],[\"Tokaido branch relocation\"],[\"Higashi Line\"],[\"Monorail extension\"],[\"Fukutoshin Line\"],[\"Minatomirai Line\"],[\"Oedo Line ring\"],[\"Haneda express line\"],[\"Tama Monorail first phase\"],[\"Monorail to Tokyo Station\"],[\"Tokyo-Ueno Line\"],[\"Sotetsu Shin-Yokohama JR Line\"],[\"Sotetsu Shin-Yokohama Tokyu Line\"],[\"Nanakuma Line extension\"],[\"Line 6 phase 1\"],[\"Zentralbahn\"],[\"Durchmesserlinie\"],[\"Tsukuba Express\"],[\"Phase 2\"],[\"Phase 1\"],[\"Phase 1\"],[\"Phase 2\"],[\"Phase 1\"],[\"Phase 1\"],[\"Phase 1\"],[\"Airport express\"],[\"Phase 1\"],[\"Phase 1 extension\"],[\"Phase 2\"],[\"CEVA\"],[\"M3 to Vynohradar\"],[\"M4\"],[\"M3 extension\"],[\"Sanying Line\"],[\"Danhai LRT\"],[\"Circular Line first section\"],[\"Airport MRT\"],[\"Taoyuan MRT Green Line\"],[\"Taoyuan MRT Brown Line\"],[\"Taoyuan Underground\"],[\"Red and Orange Lines\"],[\"Urban Railway Underground\"],[\"Underground Project\"],[\"Green Line\"],[\"Forrestfield-Airport Link\"],[\"Yurikamome\"],[\"RER\"],[\"U3 extension to Grossreuth\"],[\"North-South Stadtbahn\"],[\"U8 to Wittenau\"],[\"U2 to Pankow\"],[\"U-Bahn Europaviertel\"],[\"Line 2\"],[\"Kajang Line\"],[\"Putrajaya Line (MRT 2)\"],[\"M2\"],[\"M3 Phase 1\"],[\"M4 Phase 1\"],[\"M4 Phase 2\"],[\"M5 Phase 1\"],[\"BC1\"],[\"CR3\"],[\"M7 Phase1-2\"],[\"M1 (Phase 1)\"],[\"M1  (Phase 2)\"],[\"M1 (Phase 3)\"],[\"M4\"],[\"Bursaray\"],[\"Line 4\"],[\"Capital Airport Express west extenion\"],[\"Line 13\"],[\"Line 1 (Shanghai Railway Station to Jinjiang Park)\"],[\"Line 2 Phase 1\"],[\"Line 2 Eastern Extension 1\"],[\"Line 2 Western Extension 1\"],[\"Line 2 Eastern Extension 2\"],[\"Line 2 Western Extension 2\"],[\"Line 3\"],[\"Line 3 Northern Extension\"],[\"Line 4 Phase 1\"],[\"Line 5 Phase 1\"],[\"Line 5 Southern Extension\"],[\"Line 7 Phase 1\"],[\"Line 7 Northern Extension\"],[\"Line 8 Phase 2\"],[\"Line 9 Phase 1\"],[\"Line 9 Phase 2\"],[\"Line 9 Phase 3\"],[\"Line 9 Phase 3 Eastern Extension\"],[\"Line 10 Phase 1\"],[\"Line 11 Phase 1\"],[\"Line 11 Phase 2\"],[\"Line 11 Huaqiao\"],[\"Line 4 Phase 1\"],[\"Line 6 Phase 1\"],[\"Line 6 Phase 1\"],[\"Line 6 (feeder)\"],[\"Line 3 Phase 4\"],[\"Line 12 Phase 2\"],[\"Line 13 Northern Extension\"],[\"Line 13 Southern Extension\"],[\"Line 8 Phase 3\"],[\"Line 20 Phase 1\"],[\"Line 1 Phase 1\"],[\"Line 1 Phase 1\"],[\"Line 1 Phase 1\"],[\"Line 1 Phase 2\"],[\"Line 1 Phase 3 Hankou North\"],[\"Line 2 Eastern Extension\"],[\"Line 3 Southern Extension\"],[\"Line 4 Southern Extension\"],[\"Line 6 Phase 1\"],[\"Line 1 Phase 1 and Line 2 Phase 1\"],[\"Line 28\"],[\"Line 11 West\"],[\"Line 13\"],[\"Line 3 Phase 1+2\"],[\"Line 12\"],[\"Line 13 Phase 2\"],[\"Line 10\"],[\"Line 12\"],[\"Line 8 Phase 4\"],[\"Line 18 Phase 3\"],[\"M8 Phase 1\"],[\"Line 19 Phase 1\"],[\"Line 17\"],[\"Line 16\"],[\"Line 25 Phase 2 (Fangshan Northern Extension)\"],[\"M10 Phase 1\"],[\"M7 Phase 1\"],[\"Line 12 (Ring)\"],[\"Line 2 Eastern Extension\"],[\"Line 8 Phase 2\"],[\"M11 Phase 1\"],[\"Line 16\"],[\"Line 12\"],[\"Line 7 Phase 2 (Eastern Extension)\"],[\"Line 9 Phase 1\"],[\"Jiamin Line\"],[\"Line 27 Phase 2 (Changping Southern Extension)\"],[\"Line 5\"],[\"B1 Phase 1\"],[\"Line 14\"],[\"Line 6 Phase 1\"],[\"Line 6 Central\"],[\"Line 1 Northern Extension\"],[\"Line 10 Phase 1\"],[\"Line 8 Phase 2\"],[\"Line 7 Phase 1\"],[\"Line 3\"],[\"Line 6\"],[\"Line 4 Phase 2\"],[\"Line 10 Phase 2\"],[\"Line 14 Phase 2\"],[\"Line 13 Phase 1\"],[\"Line 5 Phase 1\"],[\"Line 8 Phase 1\"],[\"Line 22\"],[\"Line 22\"],[\"Line 5 Eastern Extension\"],[\"Line 6 Phase 2\"],[\"Line 2 Phase 2\"],[\"Line 5 Phase 1\"],[\"Line 9 Line 5\"],[\"Line 5 South Extension\"],[\"Line 5\"],[\"Line 5 Northern Extension\"],[\"Line 13A\"],[\"Line 5 Phase 1\"],[\"Line 11 East\"],[\"Line 2 Western Extension\"],[\"Line 2 Eastern Extension\"],[\"Line 7\"],[\"Line 4 Phase 1\"],[\"Line 30 Phase 1\"],[\"Line 7 Phase 1\"],[\"Line 4 Phase 1\"],[\"Line 4 Phase 2\"],[\"Line 8 Northern Extension\"],[\"Line 6 West\"],[\"Line 8 Phase 1\"],[\"Line 7 Phase 2\"],[\"Line 7\"],[\"Line 18\"],[\"Line 6 Phase 1\"],[\"Line 17 Phase 2\"],[\"Line 4 Phase 1\"],[\"Line 3 Phase1\"],[\"Line 3 Phase 1\"],[\"Line 5 Phase 1\"],[\"Line 3 Phase 1\"],[\"Line 1 Northwestern Extension\"],[\"Line 10\"],[\"Line 6\"],[\"Line 3 Phase 1\"],[\"Line S8 Southern Extension\"],[\"Line 5A\"],[\"Line 6\"],[\"Airport Contact Line\"],[\"Line 12 Phase 1\"],[\"Line 10 North and East\"],[\"Line 5 Phase 1\"],[\"Line 7 South\"],[\"Line 7 Phase 1\"],[\"Line 1 Eastern Extension\"],[\"Line 11 Phase 1\"],[\"Line 3 Phase 2\"],[\"Line 4 Phase 1\"],[\"Line 2 Phase 2\"],[\"Line 10 Phase 3\"],[\"Line 1 Phase 1+2\"],[\"Line 4 Western Extension\"],[\"Z4 Phase 1\"],[\"Daxing Airport Express Phase 1\"],[\"Daxing Airport Express Phase 2\"],[\"Line 8 Phase 1 for Olympics\"],[\"Line 1 Phase 3\"],[\"Line 3 Phase 1\"],[\"Line 27 Phase 1\"],[\"Line 7\"],[\"Line 1 Phase 1\"],[\"Line 4 Phase 1\"],[\"Line 6\"],[\"Line 15 Phase 1\"],[\"S2 Phase 1 North\"],[\"Line 10 Phase 1\"],[\"Line 2 West Extension\"],[\"Line 1 Feeder\"],[\"Line 2 Phase 3\"],[\"Line 8 Phase 1\"],[\"Line 19 Phase 2\"],[\"Line 3 Phase 2\"],[\"Line 2 Phase 1\"],[\"Line 3 Phase 1\"],[\"Line 3 Eastern Extension\"],[\"Daxing Line\"],[\"Line 16 Phase 1\"],[\"Z2 Phase 1\"],[\"Line 3 Phase 2\"],[\"Line 2 Eastern Extension\"],[\"Line 5 Phase 2\"],[\"S1 Phase 1\"],[\"Line 2 West Extension Phase 1\"],[\"Line 5\"],[\"Ring Line\"],[\"Line 1 North Extension Phase 1\"],[\"Line 5\"],[\"Line 4\"],[\"Line 6 Branch (EXPO) Phase 2\"],[\"Line 3 Phase 3\"],[\"Line 9 Phase 2\"],[\"Line 9 Phase 1\"],[\"Line 2 Northern Extension\"],[\"Line 10 Phase 1\"],[\"Line 4 Phase 1\"],[\"Line 1 Eastern Extension\"],[\"Line 6 East\"],[\"Line 4\"],[\"Line 4 North Extension\"],[\"Line 11 (to Disney)\"],[\"Line 16\"],[\"Line 2 Western Extension\"],[\"Line 15 Phase 1\"],[\"Line 6\"],[\"Line 1 Phase 4 (Jinghe)\"],[\"Line 9 (Konggang)\"],[\"Line 6 Branch (EXPO)\"],[\"Line 2 Phase 2\"],[\"Line 5 Phase 1\"],[\"Line 6\"],[\"Line 13B\"],[\"Line 5 North Extension\"],[\"Line 8 Northern Extension\"],[\"Line 8 Phase 3 (Pujiang Line)\"],[\"Line 1 Southern Extension\"],[\"Capital Airport Express\"],[\"M1\"],[\"Line 2 Phase 1\"],[\"Line 1 Phase 1\"],[\"Line 1 Phase 1\"],[\"Line 1 Phase 2\"],[\"Line 1 Phase 3\"],[\"Line 1 Feeder Phase 1\"],[\"Line 2 Phase 3\"],[\"Line 3 Phase 1\"],[\"Line 3 feeder\"],[\"Blue\"],[\"Red\"],[\"Orange\"],[\"Yellow\"],[\"Green\"],[\"Purple\"],[\"Jeddah Metro\"],[\"Dammam Metro (a-Sharqiya)\"],[\"Doha Metro\"],[\"Phase 1 (Red & Blue)\"],[\"Phase 2\"],[\"Phase 1 - Red Line\"],[\"Phase 2 - Green Line\"],[\"Phase 3 (Red Line Extension/Route 2020)\"],[\"Line 1\"],[\"Line 2\"],[\"Line 3 Phase 1\"],[\"Line 4 (4 Phases)\"],[\"Line 6\"],[\"Kuwait Metro\"],[\"Line 15\"],[\"Line 14\"],[\"Line 16\"],[\"Line 7\"],[\"Line 8 Phase 2\"],[\"Line 13 Phase 1\"],[\"Line 1 Phase 1\"],[\"Line 4 Phase 1\"],[\"Line 8 Phase 1\"],[\"Line 9 Phase 1\"],[\"Line 10 Phase 2\"],[\"M3 Phase 2\"],[\"M8\"],[\"M5 Phase 2-M13\"],[\"M12 \"],[\"M11 Phase 1\"],[\"M11 Phase 2\"],[\"Sergeli Line\"],[\"Yunusabad Line extension\"],[\"Lainz Tunnel\"],[\"Line 4\"],[\"SkyRail Bahia\"],[\"Line 17\"],[\"Green Line stage 1\"],[\"Millennium Line Phase 1\"],[\"Canada Line\"],[\"Evergreen Line\"],[\"U5-East\"],[\"Line B\"],[\"Tung Chung Line extension\"],[\"West Island Line\"],[\"Airport Railway\"],[\"Quarry Bay Congestion Relief Works (Kwung Tung Extension)\"],[\"Tseung Kwan O Extension\"],[\"Penny's Bay Rail Link (Disneyland Resort Line)\"],[\"South Island Line (East)\"],[\"Kwun Tong Line extension\"],[\"Tuen Mun South Extension\"],[\"Sha Tin-Central Link\"],[\"Modified Initial System\"],[\"Tsuen Wan Extension\"],[\"Island Line\"],[\"Eastern Harbour Crossing\"],[\"Noida Metro\"],[\"Phase 1\"],[\"Line 1\"],[\"Metro\"],[\"Line 1 - city center\"],[\"Line 1 airport extension\"],[\"Line 6 (Mostra-Municipio)\"],[\"Line 2 -phase 1-2\"],[\"Hanshin Namba Line\"],[\"Metro Line 1\"],[\"Metro Line 2\"],[\"West Link\"],[\"System to 2012, ex-Neihu\"],[\"Neihu Line\"],[\"Xinyi Line\"],[\"Xinyi Line East Extension\"],[\"HART\"],[\"Crenshaw/LAX Line\"],[\"Metrorail extension to MIA\"],[\"West Seattle and Ballard\"],[\"Silver Line Phase 1\"],[\"Silver Line Phase 2\"],[\"First stage\"],[\"M6\"],[\"M3 Phase 3\"],[\"M7 Phase 3\"],[\"M9\"],[\"M1A-M1B (LR)\"],[\"Second Trunk Line\"],[\"M1B\"],[\"M4 P4-M10\"],[\"Cross-City Line\"],[\"RER D Gare de Lyon-Les Halles\"],[\"Keelung MRT\"],[\"Line C to Letnany\"],[\"Line D\"],[\"U3 to Moosach\"],[\"U5 to Pasing\"],[\"Galatea-Stesicoro\"],[\"Borgo-Nesima\"],[\"Nesima-Monte Po\"],[\"Stesicoro-Aeroporto\"],[\"Monte-Po- MisterbiancoCentro\"],[\"Misterbianco Centro-Paterno'\"],[\"Principe - De Ferrari\"],[\"De Ferrari - Brignole\"],[\"Brin-Canepari + Brignole Martinez\"],[\"M5 (Bignami Moza)\"],[\"M1 (Bisceglie - Baggio)\"],[\"M1 (Sesto FS - Monza Bettola)\"],[\"M2 (Famagosta-Assago)\"],[\"M3 (Maciachini-Comasina)\"],[\"M1 (Molino Dorino-Rho MilanoFiera)\"],[\"Line 1 (Piscinola - Dante)\"],[\"MCNE (Piscinola- Aversa)\"],[\"Line 1/MCNE (Piscinola-Secondigliano)\"],[\"Valley Line Southeast\"],[\"Line 1 Phase 1\"],[\"Line 2 Phase 1\"],[\"Guangfo Line\"],[\"Line 11\"],[\"Line 1\"],[\"Line 2 Phase 2 North and South Ext\"],[\"Line 1 Phase 4\"],[\"Line 2 Phase 1\"],[\"Line 3 Phase 2\"],[\"Line 4 Phase 1\"],[\"Line 5 Phase 1\"],[\"Line 1 Phase 1\"],[\"Line 2 Goyang Extension Project\"],[\"Line 2\"],[\"Hujia Regional Railway (Zhejiang section)\"],[\"Line 1 and 2\"],[\"F2 Line\"],[\"Hangshao Line\"],[\"Line 6 Phase 1\"],[\"Line 4\"],[\"Line 1 and 2\"],[\"S3 Phase 1\"],[\"Line S1\"],[\"Line 4 Phase 1\"],[\"Line 2 Phase 1\"],[\"Line 1 South\"],[\"Wuxi-Yixing Intercity\"],[\"Line 1 Phase 1\"],[\"Line 3 Phase 1\"],[\"Line 1\"],[\"Line 2 Phase 2\"],[\"Line 3 Phase 1\"],[\"Line 2 Phase 1\"],[\"Line 4 Phase 1\"],[\"Line 4\"],[\"Line 1 Phase 3\"],[\"Line 1 South Extension\"],[\"F1 Express Line\"],[\"Line 2 East Extension\"],[\"Line 1 Phase 1\"],[\"Line 2\"],[\"Line 3 Phase 1\"],[\"Line 2\"],[\"Line 4 Phase 1\"],[\"Line 2\"],[\"Ningbo-Fenghua Line\"],[\"Line 3 Southern Extension\"],[\"Line 4\"],[\"2013-2020 Program\"],[\"Line 5 Phase 1\"],[\"Line 3 Phase 2\"],[\"Line 3 Phase 1\"],[\"Line 11\"],[\"Qingdao-Pingdu Intercity Rail\"],[\"Line 8 Branch\"],[\"Line 8\"],[\"Line 6 Phase 2 South\"],[\"Line 15\"],[\"Line 1 + Line 7 Phase 1\"],[\"Line 2\"],[\"Line 9\"],[\"Line 3\"],[\"Line 2 Phase 2 East Section\"],[\"Line 5\"],[\"Line 4 Phase 1\"],[\"Line 2\"],[\"Line 1\"],[\"Line 1 North Extension\"],[\"Phase 1 Expansion (Line 1 and 2)\"],[\"Wuming Line\"],[\"Airport Line\"],[\"Line 1\"],[\"Line 2\"],[\"Sinbundang Phase 3 Section 1\"],[\"Sinbundang Phase 3 Section 2\"],[\"Sinbundang Phase 3 Section 3\"],[\"Sillim Light Metro\"],[\"Ui Light Metro\"],[\"GTX A\"],[\"Jinjeop Line\"],[\"Sin Ansan Line\"],[\"Line 5 Hanam Line\"],[\"Line 7 Extension 2\"],[\"Line 9 Phase 4\"],[\"Line 1\"],[\"Line 2\"],[\"Line 4 Phase 1\"],[\"Line 1 Phase 2\"],[\"Line 3 Phase 2\"],[\"First\"],[\"Jinzhong-Taiyuan Intercity\"],[\"Line 3\"],[\"Line S2 South Segment\"],[\"Line S2 West Segment\"],[\"Line S2\"],[\"Line S1\"],[\"First Phase Program (Lines 1, 2 and 3)\"],[\"Line 1\"],[\"Line 2\"],[\"Line 3\"],[\"Line 2 Phase 1\"],[\"Line 1 Phase 1\"],[\"Zhengxu Regional Rail (Xucheng Section)\"],[\"Zhengxu Regional Rail (Zhengzhou Section)\"],[\"Line 3 Phase 1\"],[\"Yanfang Branch\"],[\"Line 6 Phase 2\"],[\"Line 9\"],[\"Line M101\"],[\"New Beihu Line\"],[\"Line 2 Western Extension\"],[\"Line 2\"],[\"Line 1 South Extension\"],[\"First\"],[\"Line 2 Phase 2\"],[\"Line 2 West Extension Phase 2\"],[\"Line S3\"],[\"Line S5\"],[\"Line 10 Phase 1\"],[\"Line 4 Phase 2\"],[\"Line 18 Phase 1 and 2\"],[\"Line 5 Phase 1 and 2 (redesign)\"],[\"Line 17 Phase 1\"],[\"Line 3 Phase 2\"],[\"Line 3 Phase 3 (redesign)\"],[\"Line 7\"],[\"Line 1 Phase 3\"],[\"Bishan-Tongliang Line\"],[\"Jiangjin Line South Extension\"],[\"Jiangjin Line\"],[\"Line 17 (redesign) Phase 1\"],[\"Line 18 Phase 2\"],[\"Line 6 East\"],[\"Line 27\"],[\"Line 15 Phase 2\"],[\"Line 15 Phase 1\"],[\"Line 24 Phase 1\"],[\"Line 1 Phase 2\"],[\"Line 1 Phase 1\"],[\"Line 3\"],[\"Line 2\"],[\"Line 4 West extension\"],[\"Line 6 East Extension\"],[\"Line 14 Phase 1\"],[\"Line 14 Branch\"],[\"Line 4 South Extension\"],[\"Line 21\"],[\"Line 3 Phase 1\"],[\"Line 6 Phase 1\"],[\"Line 6 Phase 3\"],[\"Line 9\"],[\"Line 7\"],[\"Line 2 and 8 Extension\"],[\"Line 8 Eastern Extension\"],[\"Line 18 North\"],[\"Line 11\"],[\"Nansha-Zhuhai (Zhongshan) intercity or Line 18\"],[\"Line 22 Northern Extension\"],[\"Line 28\"],[\"Line 2 Phase 1\"],[\"Hangzhou-Haining Line\"],[\"Hanglin Line (Hangzhou Section)\"],[\"Hanglin Line (Lin'an Section)\"],[\"Line 2 Phase 1 Xiaoshan section\"],[\"K1 Airport Line\"],[\"Line 3 North Extension\"],[\"Hangfu Line\"],[\"Line 10 Phase 2\"],[\"Line 5 Phase 2 West\"],[\"Line 2 Phase 1 (redesign)\"],[\"Line 2 Phase 2\"],[\"Line 6 Phase 1\"],[\"Line 5 Phase 1\"],[\"Line 4 Phase 1\"],[\"Line 6 East Extension\"],[\"Hefei-Lu'an Regional Express Line\"],[\"Line 1 South\"],[\"Line 2 Western Extension\"],[\"Line 3 Phase 1\"],[\"Line 4 Phase 1\"],[\"Line S2 Nanjing-Ma'anshan Regional Rail (Anhui section)\"],[\"Line S8 Phase 2\"],[\"Line S8 Phase 2\"],[\"Line S4 Nanjing-Chuzhou Phase 1 (Chuzhou Section)\"],[\"Line S4 Nanjing-Chuzhou Phase 2 (Chuzhou Section)\"],[\"Line S4 Nanjing-Chuzhou Phase 2 (Nanjing Section)\"],[\"Line S3 Nanjing-He County\"],[\"Line S5 Nanjing-Yangzhou\"],[\"Line S2 Nanjing-Ma'anshan Regional Rail (Nanjing section)\"],[\"Line 4 Phase 1\"],[\"Line 2 Phase 1\"],[\"Line S6\"],[\"Line 1 Phase 1\"],[\"Line 2 Phase 1\"],[\"Line 12 West Extension\"],[\"Line 18\"],[\"Line 1 and 2 Phase 1\"],[\"Line 9 Phase 1\"],[\"Line 10 Phase 1\"],[\"Shenhui Dapeng Branch ICR\"],[\"Guangzhou-Dongguan-Shenzhen Regional Rail South Extension\"],[\"Shenhui Mainline ICR\"],[\"Line 10\"],[\"Line 3 Phase 3 North Ext\"],[\"Line 3 Phase 3 North Ext (Phase 4)\"],[\"Line 5 West Extension\"],[\"Phase 1 Expansion (Line 1 and 4)\"],[\"Line 5\"],[\"Line 2\"],[\"Line 13 Phase 1\"],[\"Line 11 Phase 3 Hanchang Section\"],[\"Line 11 Phase 3 Hanyang Section\"],[\"Line 3 Phase 1\"],[\"Line 1\"],[\"Line 2\"],[\"Line 5 Phase 1\"],[\"Airport Line\"],[\"Line 5 Phase 2\"],[\"Line 3\"],[\"Line 9\"],[\"Line 6 Phase 1 and 2\"],[\"Line 4\"],[\"Line 5 Phase 1\"],[\"Line 1 Phase 1\"],[\"Line 1 Phase 2\"],[\"Line 2 Phase 1\"],[\"Quanzhou-Xiamen-Zhangzhou Regional Rail R1 (Zhangzhou Section)\"],[\"Line 4 (Houxi to Xiang'an Airport)\"],[\"Quanzhou-Xiamen-Zhangzhou Regional Rail R1 (Xiamen Section)\"],[\"Line 3 Phase 1\"],[\"Line 2 Phase 1\"],[\"Line 1 Phase 1\"],[\"Line 9\"],[\"Quanzhou-Xiamen-Zhangzhou Regional Rail R1 (Quanzhou Section)\"],[\"Line 4\"],[\"Expo Line Surrey-Langley extension\"],[\"Line 1\"],[\"Line 2a, 2b\"],[\"U3 extension to Gebersdorf\"],[\"Circle Line Stages 1-5\"],[\"Extension to Rathaus Steglitz\"],[\"Extension to Rathaus Spandau\"],[\"S-Bahn Stammstrecke\"],[\"Orange Line\"],[\"Center City Commuter Connection\"],[\"Cluj-Napoca Line\"]],\"hovertemplate\":\"cost_km_2021=%{x}<br>length=%{y}<br>phase=%{customdata[0]}<br>cluster_id=%{marker.color}<extra></extra>\",\"legendgroup\":\"\",\"marker\":{\"color\":[0.0,5.0,2.0,5.0,5.0,5.0,5.0,5.0,2.0,5.0,5.0,5.0,5.0,5.0,2.0,2.0,5.0,0.0,0.0,0.0,0.0,0.0,0.0,5.0,0.0,0.0,0.0,0.0,0.0,0.0,0.0,0.0,4.0,2.0,5.0,2.0,2.0,2.0,2.0,2.0,2.0,2.0,2.0,2.0,2.0,2.0,2.0,5.0,0.0,null,2.0,2.0,2.0,4.0,2.0,0.0,0.0,2.0,2.0,4.0,2.0,2.0,2.0,2.0,5.0,2.0,2.0,2.0,2.0,2.0,2.0,2.0,2.0,5.0,5.0,5.0,2.0,4.0,0.0,4.0,4.0,4.0,4.0,4.0,4.0,4.0,4.0,4.0,0.0,4.0,0.0,0.0,0.0,0.0,2.0,2.0,2.0,0.0,1.0,2.0,2.0,5.0,0.0,0.0,0.0,4.0,0.0,4.0,4.0,5.0,4.0,5.0,4.0,2.0,2.0,2.0,4.0,4.0,4.0,4.0,0.0,0.0,0.0,4.0,4.0,2.0,2.0,2.0,2.0,2.0,0.0,2.0,2.0,2.0,2.0,5.0,2.0,1.0,1.0,1.0,3.0,1.0,5.0,2.0,2.0,2.0,2.0,2.0,2.0,2.0,null,null,5.0,2.0,2.0,2.0,2.0,2.0,2.0,2.0,2.0,2.0,2.0,2.0,2.0,5.0,5.0,5.0,4.0,2.0,2.0,2.0,4.0,4.0,4.0,4.0,4.0,4.0,4.0,5.0,4.0,4.0,5.0,5.0,2.0,2.0,2.0,2.0,5.0,2.0,5.0,2.0,2.0,2.0,5.0,2.0,2.0,0.0,null,null,4.0,4.0,4.0,4.0,4.0,4.0,4.0,4.0,4.0,4.0,4.0,4.0,null,0.0,0.0,0.0,null,null,null,null,null,null,null,null,null,null,null,2.0,2.0,0.0,2.0,2.0,2.0,2.0,2.0,0.0,4.0,4.0,0.0,0.0,0.0,0.0,0.0,0.0,4.0,0.0,4.0,0.0,0.0,0.0,4.0,0.0,0.0,4.0,0.0,5.0,4.0,0.0,0.0,0.0,4.0,4.0,0.0,4.0,4.0,0.0,0.0,0.0,4.0,0.0,0.0,0.0,0.0,4.0,0.0,4.0,0.0,0.0,4.0,0.0,0.0,0.0,0.0,0.0,5.0,0.0,0.0,0.0,4.0,4.0,4.0,0.0,0.0,4.0,0.0,0.0,0.0,0.0,0.0,0.0,0.0,0.0,0.0,0.0,4.0,0.0,0.0,0.0,0.0,0.0,0.0,0.0,0.0,0.0,0.0,0.0,0.0,0.0,0.0,0.0,0.0,0.0,0.0,0.0,0.0,0.0,0.0,0.0,0.0,0.0,0.0,0.0,0.0,0.0,0.0,0.0,0.0,0.0,0.0,0.0,0.0,4.0,0.0,0.0,0.0,0.0,0.0,0.0,0.0,0.0,0.0,0.0,0.0,0.0,0.0,0.0,0.0,0.0,0.0,0.0,0.0,0.0,0.0,0.0,0.0,0.0,0.0,0.0,0.0,0.0,0.0,0.0,0.0,0.0,0.0,0.0,0.0,0.0,0.0,0.0,0.0,0.0,0.0,0.0,0.0,0.0,0.0,0.0,0.0,0.0,0.0,0.0,0.0,0.0,0.0,4.0,0.0,0.0,0.0,0.0,0.0,0.0,0.0,0.0,0.0,0.0,0.0,0.0,0.0,0.0,0.0,0.0,0.0,0.0,0.0,0.0,0.0,0.0,0.0,0.0,4.0,0.0,0.0,0.0,4.0,0.0,0.0,0.0,0.0,0.0,4.0,0.0,0.0,0.0,0.0,0.0,0.0,0.0,0.0,0.0,0.0,4.0,4.0,4.0,0.0,0.0,0.0,4.0,4.0,0.0,0.0,0.0,4.0,4.0,4.0,0.0,4.0,0.0,4.0,0.0,0.0,0.0,0.0,4.0,0.0,0.0,0.0,0.0,0.0,null,null,null,null,null,null,null,null,null,null,null,2.0,2.0,2.0,4.0,5.0,5.0,5.0,5.0,null,0.0,0.0,4.0,0.0,0.0,0.0,0.0,0.0,0.0,0.0,4.0,0.0,0.0,0.0,0.0,0.0,0.0,4.0,0.0,2.0,0.0,4.0,4.0,2.0,2.0,2.0,2.0,2.0,2.0,1.0,1.0,2.0,5.0,5.0,2.0,5.0,5.0,5.0,5.0,1.0,5.0,5.0,2.0,4.0,4.0,4.0,2.0,5.0,2.0,2.0,2.0,2.0,0.0,0.0,2.0,null,null,null,null,2.0,2.0,2.0,5.0,2.0,2.0,4.0,0.0,0.0,0.0,0.0,4.0,5.0,0.0,0.0,0.0,2.0,null,2.0,5.0,2.0,2.0,2.0,2.0,2.0,2.0,2.0,2.0,2.0,2.0,4.0,2.0,2.0,2.0,4.0,2.0,2.0,2.0,2.0,2.0,2.0,0.0,0.0,0.0,0.0,4.0,0.0,0.0,0.0,0.0,0.0,0.0,0.0,2.0,2.0,4.0,4.0,0.0,4.0,0.0,0.0,4.0,4.0,4.0,0.0,0.0,0.0,0.0,0.0,0.0,0.0,4.0,0.0,0.0,0.0,0.0,4.0,0.0,4.0,0.0,0.0,0.0,0.0,0.0,0.0,0.0,4.0,4.0,0.0,4.0,0.0,0.0,0.0,4.0,4.0,0.0,0.0,0.0,0.0,0.0,0.0,0.0,0.0,0.0,0.0,0.0,0.0,0.0,0.0,0.0,4.0,0.0,0.0,0.0,2.0,2.0,2.0,2.0,2.0,4.0,2.0,2.0,2.0,2.0,2.0,0.0,0.0,0.0,0.0,0.0,0.0,4.0,0.0,4.0,4.0,4.0,4.0,0.0,0.0,0.0,0.0,0.0,0.0,4.0,0.0,0.0,4.0,0.0,0.0,0.0,4.0,0.0,0.0,0.0,0.0,0.0,0.0,4.0,4.0,0.0,0.0,4.0,4.0,0.0,0.0,0.0,0.0,4.0,4.0,0.0,4.0,0.0,0.0,0.0,0.0,0.0,0.0,0.0,0.0,0.0,0.0,0.0,0.0,0.0,4.0,0.0,0.0,4.0,0.0,0.0,0.0,0.0,0.0,0.0,0.0,0.0,0.0,0.0,0.0,0.0,0.0,4.0,4.0,4.0,0.0,0.0,5.0,0.0,0.0,0.0,0.0,0.0,0.0,0.0,0.0,0.0,4.0,0.0,0.0,0.0,0.0,4.0,0.0,4.0,4.0,0.0,4.0,4.0,4.0,4.0,0.0,0.0,0.0,0.0,0.0,0.0,0.0,0.0,0.0,0.0,0.0,0.0,0.0,0.0,4.0,0.0,0.0,0.0,0.0,0.0,0.0,5.0,0.0,0.0,4.0,4.0,0.0,4.0,4.0,0.0,0.0,0.0,0.0,0.0,0.0,0.0,0.0,0.0,4.0,0.0,0.0,0.0,0.0,0.0,4.0,0.0,2.0,0.0,0.0,2.0,2.0,2.0,2.0,2.0,2.0,2.0,0.0],\"coloraxis\":\"coloraxis\",\"symbol\":\"circle\"},\"mode\":\"markers\",\"name\":\"\",\"orientation\":\"v\",\"showlegend\":false,\"x\":[73.3789181504299,450.0422193684261,350.5758473641858,639.1602599075909,492.4293551074669,665.5398643714443,524.7498460962854,703.2766496161893,406.3637995595636,857.1428571428571,571.4285714285714,479.6007722250321,611.2589196971295,707.961454797593,315.3339136524947,157.42897832146565,947.9166666666669,167.5961770388898,55.73479544020907,231.0357999779873,61.386225747083415,149.27574035504122,120.48387096774194,596.6979242957972,219.77942390297312,214.99478113960987,209.23899872880216,304.4579863039019,324.2158743572218,203.67317619902755,342.5412508801827,322.57896514476664,152.68496631989416,293.90031526784924,601.1530665566693,145.14034544362826,149.51931953948085,145.99865617954566,136.10742974603093,131.1631763547525,241.20236194132383,65.95690213546038,175.59087375195463,231.6816249526056,204.3567396708505,333.7828452638766,80.61508253894445,609.3840261912533,315.8787045529589,306.3707763077724,134.5334872618073,177.2681080516042,153.80425384401758,276.93716081430705,263.37109623964307,409.694690571525,244.94706473999025,132.3127842378714,139.99087592230904,171.68028379075838,436.2979924416599,248.42244283572543,230.20321614631104,256.3481797529558,447.34762029289857,310.63580246913585,354.6677415160477,265.9090909090909,257.8248747481883,101.80575804905044,331.609756097561,356.5,168.78680621815198,964.804,697.9879996947192,696.3274558181196,261.3952334284987,91.79532232420324,475.8461415682941,178.50431322362644,230.04249587536856,221.6496041500957,154.469408181027,166.3292078328732,216.7307462153044,194.8818497873236,237.583855686482,215.1259689919125,286.70384288371093,117.98732382242204,134.875,143.29497736140593,174.17324383546057,169.75697872470627,160.35108652025912,91.47104931661715,134.72705226534782,112.01718309859156,1370.1249999999998,173.05251736111114,406.1996165143603,528.9009719566603,198.79032258064515,155.62012324190096,361.9823875540688,106.4338235002974,301.1405885056764,225.37141400130545,204.4771993248237,693.73851590106,180.39457335549764,604.5454545454545,209.0705128205128,116.89736375224672,189.7310714493143,317.77777777777777,236.92740520722143,144.3915003651746,190.04644246353325,239.2927777777778,232.635207355864,205.40133075044216,235.83115752828547,59.50456580996885,80.50557971014494,140.4,66.73333333333333,94.0952380952381,110.62397114582454,97.6823595854712,188.2831601545537,123.20891203703708,236.06266255437663,244.8250976017848,166.4666352771104,445.6032838799147,419.2188730592982,1863.993653006567,2052.791876250236,2672.692307692308,4491.344502714996,1792.4528301886794,1015.81691327345,330.6061248210009,345.2125273308537,199.56330269900087,110.72959746346844,139.7153691520468,322.91864185043454,256.0289004535761,212.0794614779092,145.38378306869782,922.3739260952505,137.37725271942216,200.9635552296392,270.80359622462913,142.50254242010533,139.5505853191804,153.0437443848413,157.31898765925237,201.368304203843,185.3451354389008,74.0545922770324,82.34441773504275,124.37621366079216,532.9857044193658,539.0871794871795,673.2734693877551,211.009784911714,89.04644097222224,193.1435781849005,214.50530927974475,246.34185199146376,194.5658616561044,277.4015578492167,246.78278415491133,185.67393726105385,141.1574977921335,154.66848800088442,530.9448467966574,138.41772151898735,314.8387004533012,535.221238938053,588.9438202247192,304.72028929385857,64.95662752811869,125.04398779034744,298.1748264642727,656.4829073769266,370.1706644096488,535.7142857142858,161.4885187007874,382.1477835177022,114.12357174728776,458.0892148653791,311.89995375134896,395.8954499476319,278.14116267403705,124.0475349451517,178.68450268126844,191.85540905362075,204.3899501764939,262.5483664355045,152.51151354569262,228.6430068541732,140.44524114342494,158.16307885174274,147.3983629181186,73.81210613150138,274.0968974056032,214.5870883726858,273.4617325483599,136.70756250669965,205.19482536927976,300.0,425.6571428571429,247.231094020734,81.92732545300763,344.906156865618,178.5613207031554,234.70250359712227,118.23148961110284,391.722905027933,401.5935059032096,500.8732693938445,237.74439024390247,269.7235753740497,162.93166704889572,152.3758612334802,232.3,90.14512001542845,426.90939092091344,196.59962074426687,145.87495398773007,179.83333333333331,335.7873744900394,329.91652155590543,433.9281894052341,314.5858926919519,165.97647831988908,128.5337997942155,90.23890595496216,115.59025355524524,287.8165013494176,54.17559546830442,119.95798811853793,171.9716522107045,64.38617328516143,56.75182061704631,148.25690660211308,30.75914797008548,266.2842390757264,251.5545361859,96.0031730146159,217.26611462969305,493.7000708500395,69.0775154303633,288.61461342270155,141.99897860647133,109.26105820671556,222.8468781959874,106.8541983042268,279.22535842293905,112.4734669724092,153.31286371420447,236.6534553473477,117.95205376912672,147.84315358138315,245.46006873024413,268.31668397939234,194.31058184729665,271.1752795892561,285.76077917214616,163.28923093114102,179.8915322685651,97.85741838622582,168.48587786259543,199.8307873603352,117.96728787618252,158.32957410101935,288.6322933153562,269.9957763975155,345.32131011608624,277.7701787464352,488.591264987304,317.7027283511269,200.15079039702525,226.0024947970475,124.0891887157586,124.39692333716306,141.70850707829325,167.42860144914698,202.47359862001403,132.47589975551625,182.36656,204.87991044946764,366.44142758978313,340.48918805614915,248.9601087537885,327.2939029012992,327.2830993395596,309.3705463342647,298.3530634250236,251.9190800628264,296.6938946300452,258.71624991730505,295.7404835475936,292.06192541041366,259.2850573284066,315.63412395617155,286.6999950214542,260.23976409358824,255.67839549368188,249.2872556932261,236.27053742802303,240.07755757883035,265.52671780819713,263.53450955403093,249.56277395638332,252.5717261298871,249.26400784050168,230.56334622823985,252.8472488196795,213.8091443850268,223.57088607594932,203.82618997889787,343.3672518696308,222.9288571481354,298.93272171253824,247.15345100105367,213.1710301104889,221.78507835164635,187.40115789473683,232.2070072656589,210.559,188.4030007501876,216.23779416274647,206.7357639093036,193.84767556874385,351.4362414846137,213.09762747532423,205.1741478705352,214.14190880629056,186.2205639733265,223.3775107527106,196.8040863656873,276.19180390894013,210.8308780079924,174.72385370068184,237.6648044692737,200.13375816785972,257.8375884932736,226.2270001611541,225.4328297126367,199.088323044286,214.55569586775067,224.7050091918992,194.55630729104752,205.54654411102103,221.21913196099857,216.5783301327997,188.7096533551511,198.876393144428,197.9291019541208,196.7597054223208,177.57861486486487,194.5775063965597,184.6369420530024,182.92172716354045,173.5971177071482,205.97071814785056,193.21511318580988,190.61397016057376,198.96222476147085,294.58003367147586,180.38611209830503,242.72918275915336,185.38355655733247,193.9460885224181,179.57050314632224,201.8538094298284,179.14973338059076,168.15868263473055,271.467659457478,239.32626441027745,199.40879500709727,177.12476635590937,174.05622924465197,194.98519313002183,190.01586723263347,205.4213962411952,187.62934461612056,170.4329243407449,222.4101227345717,194.2303978617568,193.70763899767195,159.49421270046832,291.174809999335,260.94392026672745,200.7374528301887,175.35466683138,168.30894600959826,182.6045434406312,186.78460869262625,217.02512022689243,165.6207033563241,165.10780067784077,135.99391655672824,155.10314553990608,170.74580839453523,201.88664882360268,174.98788670747103,146.4281672921193,208.99480905574148,135.43965107057892,199.8854802076224,151.94446642620775,156.81643486693594,218.1935105621267,169.04916833000664,167.45059294270033,176.61732856750015,144.20202533948907,155.32831643972887,153.91078902450144,181.60940637821548,221.4061960549635,204.2306254899077,162.59358226663014,216.1518192834428,147.61880079263975,136.63001526168503,150.60777266839705,165.49597370313413,156.12693498452012,135.06405650500176,153.46868953386104,177.2987854184428,146.76000949607717,133.51573704724453,174.30844090950498,126.56252309599512,158.3133331895776,128.70832528897012,136.37508840889797,162.98688463487372,203.1970818884472,129.27667157418557,114.63274797918224,145.99291602319974,183.8321338179411,159.13870813712407,138.46094809014207,99.02199737385908,101.99021163802354,173.66443933059216,140.09332381324415,104.18153479556258,10.812639310067729,191.2,223.0666666666667,192.99973357461943,166.7186085795009,140.12903444706393,180.2866928326412,172.70020840716728,211.7503940044669,161.88820128667015,181.7640332772252,365.513376807963,240.9843286317188,260.17532912692104,162.349509403719,364.31755496148565,235.77072536805176,122.20228347322738,645.3891624169938,844.240671855958,83.93936822749644,128.19763775836086,299.6903225806452,408.6055555555556,414.7225428147235,131.86910311299616,611.7416096448355,881.1945594899825,722.9610891072598,652.746953872933,198.92624347496823,284.35684308331594,363.81250327654,114.82403235617116,282.5958520497786,188.1495699862894,223.6574506466845,210.52802949700995,244.39110948016173,205.93923194208864,241.03423520947064,139.63157212533864,118.97042266910198,141.19602337605363,117.36271425465466,185.50878915799268,95.81465792057328,98.90036986449572,110.55350653703098,232.1929255875673,176.1417730734767,441.7887984692455,68.01287553648068,438.4072888783168,231.0,76.86015443069006,119.3943617832835,121.63301287417131,392.2413793103448,130.46869337083822,1977.534070534054,1334.7824318870123,323.1261121733588,437.6987254901961,1187.1066666666668,177.98184782608698,506.3255437698804,580.7648476559392,931.3211130425244,944.628637690063,1479.5349812484135,758.3871529126214,934.2792259373496,245.01545465401108,76.12701229000186,200.6428626986072,170.78105964267456,85.50803720480707,584.1962816503734,256.67668790606166,374.897854462092,264.6855123146218,360.7839912280703,249.54545454545453,335.5,353.6527498753129,620.1099276968233,396.6068430107527,520.6588534884394,452.42445933418605,383.45205803701214,169.44985087000438,161.22748520022614,680.0412107270314,191.0760439733401,184.24309181897303,103.2730815347722,86.43527222754719,114.74058968925016,167.3917649183005,99.70611490999282,114.7883183568678,755.5925438833747,279.9646719074187,84.89513969653534,196.90407594731292,236.3624184782609,176.375,302.4218750000001,539.504761904762,172.96870132721895,351.00000000000006,68.6387481242633,51.47254887800543,76.74317650853786,89.10783291185462,76.76190476190477,48.83478260869565,166.0463190661479,218.9278927799556,54.6,128.96825396825398,156.00000000000003,111.85811677288083,26.30383811230585,123.48351254480288,84.36006705487912,289.97856237329603,103.9675153851356,191.40767147944203,116.79899359432174,162.63057510880043,179.50965133906013,180.7585860112801,171.10824175824175,70.94788013757646,175.85712334572278,190.7373414749762,170.6143554006969,198.300186451212,209.10363810041048,174.50315571936173,199.7627160493827,119.85048668824074,116.6842068325181,121.5047320673486,147.75507179249655,142.25162002160562,158.93333133712423,159.77456397047047,176.400678397129,128.6931747211896,93.85178055822904,113.23411184210526,179.42631147540982,220.5091211578608,126.34654741022172,125.20413333333332,191.58563406776608,180.32239668492088,161.67354591635046,124.36136170212764,154.5182314962637,163.1147345816225,190.65710964049364,210.84607064879845,154.57155984465606,149.7398300746714,152.7838141025641,188.3531077116221,223.79322541677067,186.1038420968316,148.98442280945758,149.74443528441878,236.62779156327645,194.603545783927,86.29728666659952,102.45567152535872,136.68539638386648,169.027594191057,170.40845575062772,197.6701657458572,224.210273037932,85.46818645904828,86.59149445541344,146.09510638297934,124.949511400652,143.26194945848437,151.1442207792214,159.3731865932973,296.41826291445176,180.93866506313967,260.9591114209194,182.00562429696365,190.249847094802,208.8551647013969,200.8341085271326,207.55583758980367,145.61356271725742,172.20338483474902,74.12593984962436,88.57675438596527,172.2379415559342,181.4561837452063,122.3198090692124,119.03064066852366,115.47257876312716,110.92621296067055,93.0030664495044,28.014440433213,101.3921095643524,88.59060402684563,140.83829070733444,176.51214953271028,187.5512195121952,192.3991462127877,224.17314814814907,116.229473684211,172.5055120833254,191.19484197657405,200.6015525959352,110.54273852592831,203.60563563452672,74.84683333333363,81.28034042553226,111.02865761689338,96.86341603053476,174.80091385273374,195.7810522936375,175.69858608142178,176.65103825136686,180.8992764142404,194.6198330065781,69.89582593250472,142.97501067577377,203.9659191002056,187.20319802015,153.6518022777844,291.46082574284503,235.90469842105364,92.66990503042828,166.9972431677669,169.01383465696404,203.5216014041187,160.1217763416207,172.34379233261777,210.84617583988648,79.68519379844993,91.54915254237326,133.79902358253287,126.7685890747006,151.4406958887072,169.52379981442175,156.81289211935797,123.82388623259357,146.07485539011972,184.87476878196065,118.28236424231774,57.89288008578914,194.59019375249875,61.1117388073121,206.58768970380905,224.49330819981245,159.41656716417975,159.61484098939994,165.10673780487875,169.07105602891886,194.28550264550347,140.77670401496545,197.81329660876497,153.59620677857046,129.67426818654613,232.48779816513857,193.13460218275057,102.5469961465286,106.54022639257477,185.22046707171216,139.497337043718,246.39691959245303,222.5571114969136,162.79307787340775,169.56213763781713,173.92260436307728,224.51497375310325,220.09244444444536,221.7291970802929,259.79453116420103,153.93790063018963,208.52356223911147,222.86686521182045,168.50365942029055,67.51824408468272,82.31972251833817,83.1918693753788,228.71760513537453,174.6313984400903,578.7194352865894,135.19746469287108,188.4030007501883,153.57444414119288,154.04427177722252,213.2151374762126,158.09200519384223,184.656481900338,219.07693667715503,172.33221277689128,87.99628233443835,236.53111405684848,168.71141732283536,176.90868612966125,160.59633265045707,55.0943252091672,68.01541666666695,76.03055309734545,90.58687572242602,79.54668674698829,144.76547346147183,84.43915094339694,119.39773023255913,132.55932075471807,170.43440827262782,235.9507719432555,188.91654315357584,187.8013459687261,207.72376131954016,243.55895953757428,314.4601499542437,218.9171001000356,174.4055965847686,168.72255000945907,143.2786802030469,187.72937293729527,210.5664135653257,249.33178985820456,204.99916092872823,288.6322933153562,354.73416286274187,301.92703873576767,160.62272108475557,194.81059894811392,280.9179463518509,477.342750000004,423.790454545458,233.7839150166276,71.26847330995898,88.51318607764465,229.29885826771843,109.36236705232896,120.74489955332014,142.95621632588626,140.41017902141084,183.1703818065124,172.98166699992777,183.000232369312,168.9160020887136,171.8869531605875,193.95352727056328,119.5960029016808,122.63827601607964,141.53281250000117,188.31137344515625,184.733529382434,183.43309607173492,219.1944701357484,97.37037037037118,167.072100859949,196.5075,143.45973942557475,172.50555209050182,91.61904761904762,341.6280728811526,205.30272,217.15564081632647,217.218,71.98684434242966,374.2053063274189,211.7142857142857],\"xaxis\":\"x\",\"y\":[7.5,5.7,8.6,7.8,15.5,7.4,9.7,5.8,5.1,4.2,4.2,6.3,3.1,2.7,7.6,12.5,9.6,5.1,3.0,17.0,1.3,12.0,3.1,6.5,3.1,3.4,4.0,6.9,66.7,2.5,5.0,6.4,11.6,6.1,7.4,27.0,13.2,1.9,3.4,13.5,7.0,18.0,4.1,11.5,3.3,7.4,17.0,3.2,24.5,13.3,6.1,6.5,15.2,200.0,7.8,12.5,11.5,17.3,12.8,21.5,3.6,4.7,2.8,7.6,2.7,1.8,2.2,4.4,15.5,1.6,8.2,30.0,36.0,9.0,41.9,43.0,19.0,20.2,33.5,18.6,23.5,32.3,2.7,24.9,14.5,16.5,13.5,9.2,12.8,20.8,12.8,7.6,9.5,4.8,8.0,23.7,3.9,71.0,4.0,1.7,4.9,16.0,24.8,37.0,12.0,33.0,13.7,21.0,26.7,28.3,22.8,11.0,15.6,4.2,4.7,9.0,13.0,160.6,61.7,42.3,12.0,31.0,27.0,56.0,75.0,2.0,6.0,10.5,4.6,3.0,22.9,7.5,9.2,5.5,5.2,4.8,3.4,1.6,2.7,2.6,2.8,5.3,21.0,1.8,8.0,1.5,1.3,1.9,1.5,6.3,24.0,38.6,3.5,3.9,1.3,2.6,1.9,4.5,4.4,0.7,2.5,47.8,5.9,18.2,11.3,21.3,31.2,19.6,15.7,1.0,1.8,2.5,27.1,12.8,19.0,26.9,22.1,34.5,30.4,35.9,15.8,19.7,11.3,8.9,2.4,20.3,8.9,8.9,4.1,27.8,5.6,16.0,3.0,3.8,2.7,10.0,1.6,15.9,1.5,9.6,58.3,73.9,42.3,5.5,6.3,38.2,40.0,72.0,31.0,45.1,9.1,118.9,8.8,3.7,20.0,3.5,14.29,14.0,15.4,51.0,27.8,11.5,17.9,43.0,15.4,8.2,16.7,8.5,12.0,20.0,1.1,4.0,3.6,0.8,2.7,35.0,51.0,52.2,23.5,16.1,21.7,4.4,19.7,13.6,63.0,23.75,11.6,5.35,2.25,9.22,39.0,28.2,1.83,40.85,16.1,16.3,2.72,6.155,30.8,8.53,24.975,15.365,22.032,17.206,19.628,34.388,9.978,14.44,30.687,14.5,5.372,13.828,36.221,46.008,22.886,6.0,26.2,22.912,37.626,6.13,9.35,8.05,19.296,4.47,4.26,8.43,48.0,21.72,10.234,18.25,5.7,14.5,11.25,13.97,27.5,42.1,8.777,4.2,22.436,37.4,29.2,33.5,19.41,40.0,3.4,14.29,20.0,22.4,49.7,49.8,5.0,21.22,26.53,59.9,10.42,7.83,22.6,27.6,37.6,17.2,17.8,41.36,16.6,37.4,31.6,50.34,30.4,26.5,6.54,15.184,17.6,21.6,28.5,44.5,10.0,13.33,11.6,28.85,20.22,23.22,31.0,78.6,9.7,8.366,15.5,27.7,19.677,8.43,33.59,8.95,30.2,19.567,32.1,5.6,6.5,35.49,24.2,24.78,23.7,38.2,23.9,20.0,10.05,17.1,21.8,29.6,62.5,36.0,27.6,24.98,27.7,43.135,40.22,52.9,7.594,44.09,32.365,37.2,2.5,28.96,40.5,68.6,17.034,24.64,22.7,14.2,22.5,15.0,27.0,22.6,36.0,12.8,5.5,24.58,4.0,43.7,44.0,3.5,4.528,10.6,35.6,24.86,45.0,28.737,33.5,36.2,19.0,30.32,21.3,14.72,5.2,1.6,50.63,42.87,6.305,25.1,38.4,9.6,21.8,15.03,52.8,4.0,9.1,3.2,28.5,4.5,27.6,50.93,9.93,26.45,69.6,13.99,6.6,10.77,32.3,19.8,34.11,15.77,4.1,12.15,43.5,14.26,9.15,33.0,8.5,41.4,33.09,3.97,28.2,12.1,9.2,40.0,25.61,32.2,3.65,6.328,6.689,7.3,28.1,32.5,9.6,25.9,57.46,10.9,51.5,25.56,17.5,50.14,1.8,38.0,25.3,40.7,29.6,12.9,29.9,161.1,50.0,124.0,28.6,72.7,35.0,22.5,15.0,44.0,22.0,4.3,19.0,21.0,160.0,42.3,38.15,58.96,30.2,8.023,27.03,34.3,15.4,29.1,22.2,26.7,8.9,14.3,17.8,13.0,37.5,32.0,6.94,2.9,12.8,16.0,23.3,7.7,20.0,19.9,18.4,10.9,5.8,14.0,1.8,3.0,34.0,2.1,4.0,3.5,7.0,2.6,2.4,17.0,15.6,10.5,12.5,4.6,29.7,12.1,22.9,13.7,4.3,3.5,3.3,9.4,3.8,22.0,20.0,8.0,93.90000000000002,14.8,6.5,1.4,32.0,13.7,3.9,19.0,18.8,18.3,13.9,3.3,6.2,18.5,13.4,26.6,7.2,9.7,14.0,5.25,2.5,16.0,4.6,10.5,1.7,3.8,1.9,3.1,1.7,6.4,2.1,11.5,2.5,1.5,1.5,12.6,3.3,1.9,4.8,3.9,2.1,13.7,10.6,3.3,13.1,34.237,19.79,32.16,36.4,29.27,14.1,2.6,28.7,32.18,32.2,36.1,14.4,18.5,29.1,35.01,32.385,23.8,20.3,15.76,24.4,40.35,31.17,30.4,24.4,26.3,5.187,30.0,29.4,28.5,20.82,23.5,69.5,32.41,55.91,24.484,13.2,4.924,62.4,16.88,24.6,27.3,21.57,36.39,40.3,18.216,21.59,12.7,35.95,100.1,27.91,9.05,16.73,58.35,60.0,18.8,61.4,13.85,30.8,59.97,25.0,16.63,25.0,8.89,32.7,20.556,19.35,27.615,16.973,50.6,53.2,22.8,39.4,20.85,4.19,3.59,2.571,7.8,11.4,83.1,14.9,44.7,7.7,10.7,4.1,31.3,10.8,34.2,12.7,8.1,59.6,19.86,30.523,6.0,11.75,66.3,52.4,67.0,21.967,24.15,18.3,18.27,25.2,33.78,31.27,25.487,6.015,12.4,16.5,19.0,13.4,5.3,22.8,8.0,45.92,21.926,13.99,38.7,59.0,10.9,21.3,58.6,49.0,26.14,15.0,12.6,38.6,13.0,37.353,4.6,28.22,14.18,10.61,6.7,51.789,32.8,38.73,18.9,15.5,16.5,39.1,19.15,10.9,5.29,54.4,21.6,12.5,61.6,35.86,24.3,17.6,18.3,17.6,28.55,18.0,41.1,44.2,79.0,39.0,107.0,27.6,48.18,14.26,20.72,18.2,59.1316,4.7,23.508,13.33,4.95,30.5,11.281,26.955,51.6,20.8,10.0,63.1,4.54,12.7,19.5,26.8,27.49,24.0,45.2,32.95,13.28,5.671,42.4,53.75,26.5,43.9,21.63,26.313,32.1,21.2,17.3,36.85,55.07,29.2,49.9,39.4,15.15,58.738,29.54,9.4,9.35,2.88,21.446,44.1,26.557,21.2,4.0,2.2,27.9,30.517,14.94,25.4,29.28,19.87,38.4,25.296,39.8,33.3,25.7,25.36,6.1,26.76,45.8,44.78,51.2,18.6,25.2,31.5,44.2,70.2,30.1,16.0,14.5,16.5,2.1,35.5,1.5,4.9,11.4,14.4,2.9,21.0],\"yaxis\":\"y\",\"type\":\"scatter\"}],                        {\"template\":{\"data\":{\"histogram2dcontour\":[{\"type\":\"histogram2dcontour\",\"colorbar\":{\"outlinewidth\":0,\"ticks\":\"\"},\"colorscale\":[[0.0,\"#0d0887\"],[0.1111111111111111,\"#46039f\"],[0.2222222222222222,\"#7201a8\"],[0.3333333333333333,\"#9c179e\"],[0.4444444444444444,\"#bd3786\"],[0.5555555555555556,\"#d8576b\"],[0.6666666666666666,\"#ed7953\"],[0.7777777777777778,\"#fb9f3a\"],[0.8888888888888888,\"#fdca26\"],[1.0,\"#f0f921\"]]}],\"choropleth\":[{\"type\":\"choropleth\",\"colorbar\":{\"outlinewidth\":0,\"ticks\":\"\"}}],\"histogram2d\":[{\"type\":\"histogram2d\",\"colorbar\":{\"outlinewidth\":0,\"ticks\":\"\"},\"colorscale\":[[0.0,\"#0d0887\"],[0.1111111111111111,\"#46039f\"],[0.2222222222222222,\"#7201a8\"],[0.3333333333333333,\"#9c179e\"],[0.4444444444444444,\"#bd3786\"],[0.5555555555555556,\"#d8576b\"],[0.6666666666666666,\"#ed7953\"],[0.7777777777777778,\"#fb9f3a\"],[0.8888888888888888,\"#fdca26\"],[1.0,\"#f0f921\"]]}],\"heatmap\":[{\"type\":\"heatmap\",\"colorbar\":{\"outlinewidth\":0,\"ticks\":\"\"},\"colorscale\":[[0.0,\"#0d0887\"],[0.1111111111111111,\"#46039f\"],[0.2222222222222222,\"#7201a8\"],[0.3333333333333333,\"#9c179e\"],[0.4444444444444444,\"#bd3786\"],[0.5555555555555556,\"#d8576b\"],[0.6666666666666666,\"#ed7953\"],[0.7777777777777778,\"#fb9f3a\"],[0.8888888888888888,\"#fdca26\"],[1.0,\"#f0f921\"]]}],\"heatmapgl\":[{\"type\":\"heatmapgl\",\"colorbar\":{\"outlinewidth\":0,\"ticks\":\"\"},\"colorscale\":[[0.0,\"#0d0887\"],[0.1111111111111111,\"#46039f\"],[0.2222222222222222,\"#7201a8\"],[0.3333333333333333,\"#9c179e\"],[0.4444444444444444,\"#bd3786\"],[0.5555555555555556,\"#d8576b\"],[0.6666666666666666,\"#ed7953\"],[0.7777777777777778,\"#fb9f3a\"],[0.8888888888888888,\"#fdca26\"],[1.0,\"#f0f921\"]]}],\"contourcarpet\":[{\"type\":\"contourcarpet\",\"colorbar\":{\"outlinewidth\":0,\"ticks\":\"\"}}],\"contour\":[{\"type\":\"contour\",\"colorbar\":{\"outlinewidth\":0,\"ticks\":\"\"},\"colorscale\":[[0.0,\"#0d0887\"],[0.1111111111111111,\"#46039f\"],[0.2222222222222222,\"#7201a8\"],[0.3333333333333333,\"#9c179e\"],[0.4444444444444444,\"#bd3786\"],[0.5555555555555556,\"#d8576b\"],[0.6666666666666666,\"#ed7953\"],[0.7777777777777778,\"#fb9f3a\"],[0.8888888888888888,\"#fdca26\"],[1.0,\"#f0f921\"]]}],\"surface\":[{\"type\":\"surface\",\"colorbar\":{\"outlinewidth\":0,\"ticks\":\"\"},\"colorscale\":[[0.0,\"#0d0887\"],[0.1111111111111111,\"#46039f\"],[0.2222222222222222,\"#7201a8\"],[0.3333333333333333,\"#9c179e\"],[0.4444444444444444,\"#bd3786\"],[0.5555555555555556,\"#d8576b\"],[0.6666666666666666,\"#ed7953\"],[0.7777777777777778,\"#fb9f3a\"],[0.8888888888888888,\"#fdca26\"],[1.0,\"#f0f921\"]]}],\"mesh3d\":[{\"type\":\"mesh3d\",\"colorbar\":{\"outlinewidth\":0,\"ticks\":\"\"}}],\"scatter\":[{\"fillpattern\":{\"fillmode\":\"overlay\",\"size\":10,\"solidity\":0.2},\"type\":\"scatter\"}],\"parcoords\":[{\"type\":\"parcoords\",\"line\":{\"colorbar\":{\"outlinewidth\":0,\"ticks\":\"\"}}}],\"scatterpolargl\":[{\"type\":\"scatterpolargl\",\"marker\":{\"colorbar\":{\"outlinewidth\":0,\"ticks\":\"\"}}}],\"bar\":[{\"error_x\":{\"color\":\"#2a3f5f\"},\"error_y\":{\"color\":\"#2a3f5f\"},\"marker\":{\"line\":{\"color\":\"#E5ECF6\",\"width\":0.5},\"pattern\":{\"fillmode\":\"overlay\",\"size\":10,\"solidity\":0.2}},\"type\":\"bar\"}],\"scattergeo\":[{\"type\":\"scattergeo\",\"marker\":{\"colorbar\":{\"outlinewidth\":0,\"ticks\":\"\"}}}],\"scatterpolar\":[{\"type\":\"scatterpolar\",\"marker\":{\"colorbar\":{\"outlinewidth\":0,\"ticks\":\"\"}}}],\"histogram\":[{\"marker\":{\"pattern\":{\"fillmode\":\"overlay\",\"size\":10,\"solidity\":0.2}},\"type\":\"histogram\"}],\"scattergl\":[{\"type\":\"scattergl\",\"marker\":{\"colorbar\":{\"outlinewidth\":0,\"ticks\":\"\"}}}],\"scatter3d\":[{\"type\":\"scatter3d\",\"line\":{\"colorbar\":{\"outlinewidth\":0,\"ticks\":\"\"}},\"marker\":{\"colorbar\":{\"outlinewidth\":0,\"ticks\":\"\"}}}],\"scattermapbox\":[{\"type\":\"scattermapbox\",\"marker\":{\"colorbar\":{\"outlinewidth\":0,\"ticks\":\"\"}}}],\"scatterternary\":[{\"type\":\"scatterternary\",\"marker\":{\"colorbar\":{\"outlinewidth\":0,\"ticks\":\"\"}}}],\"scattercarpet\":[{\"type\":\"scattercarpet\",\"marker\":{\"colorbar\":{\"outlinewidth\":0,\"ticks\":\"\"}}}],\"carpet\":[{\"aaxis\":{\"endlinecolor\":\"#2a3f5f\",\"gridcolor\":\"white\",\"linecolor\":\"white\",\"minorgridcolor\":\"white\",\"startlinecolor\":\"#2a3f5f\"},\"baxis\":{\"endlinecolor\":\"#2a3f5f\",\"gridcolor\":\"white\",\"linecolor\":\"white\",\"minorgridcolor\":\"white\",\"startlinecolor\":\"#2a3f5f\"},\"type\":\"carpet\"}],\"table\":[{\"cells\":{\"fill\":{\"color\":\"#EBF0F8\"},\"line\":{\"color\":\"white\"}},\"header\":{\"fill\":{\"color\":\"#C8D4E3\"},\"line\":{\"color\":\"white\"}},\"type\":\"table\"}],\"barpolar\":[{\"marker\":{\"line\":{\"color\":\"#E5ECF6\",\"width\":0.5},\"pattern\":{\"fillmode\":\"overlay\",\"size\":10,\"solidity\":0.2}},\"type\":\"barpolar\"}],\"pie\":[{\"automargin\":true,\"type\":\"pie\"}]},\"layout\":{\"autotypenumbers\":\"strict\",\"colorway\":[\"#636efa\",\"#EF553B\",\"#00cc96\",\"#ab63fa\",\"#FFA15A\",\"#19d3f3\",\"#FF6692\",\"#B6E880\",\"#FF97FF\",\"#FECB52\"],\"font\":{\"color\":\"#2a3f5f\"},\"hovermode\":\"closest\",\"hoverlabel\":{\"align\":\"left\"},\"paper_bgcolor\":\"white\",\"plot_bgcolor\":\"#E5ECF6\",\"polar\":{\"bgcolor\":\"#E5ECF6\",\"angularaxis\":{\"gridcolor\":\"white\",\"linecolor\":\"white\",\"ticks\":\"\"},\"radialaxis\":{\"gridcolor\":\"white\",\"linecolor\":\"white\",\"ticks\":\"\"}},\"ternary\":{\"bgcolor\":\"#E5ECF6\",\"aaxis\":{\"gridcolor\":\"white\",\"linecolor\":\"white\",\"ticks\":\"\"},\"baxis\":{\"gridcolor\":\"white\",\"linecolor\":\"white\",\"ticks\":\"\"},\"caxis\":{\"gridcolor\":\"white\",\"linecolor\":\"white\",\"ticks\":\"\"}},\"coloraxis\":{\"colorbar\":{\"outlinewidth\":0,\"ticks\":\"\"}},\"colorscale\":{\"sequential\":[[0.0,\"#0d0887\"],[0.1111111111111111,\"#46039f\"],[0.2222222222222222,\"#7201a8\"],[0.3333333333333333,\"#9c179e\"],[0.4444444444444444,\"#bd3786\"],[0.5555555555555556,\"#d8576b\"],[0.6666666666666666,\"#ed7953\"],[0.7777777777777778,\"#fb9f3a\"],[0.8888888888888888,\"#fdca26\"],[1.0,\"#f0f921\"]],\"sequentialminus\":[[0.0,\"#0d0887\"],[0.1111111111111111,\"#46039f\"],[0.2222222222222222,\"#7201a8\"],[0.3333333333333333,\"#9c179e\"],[0.4444444444444444,\"#bd3786\"],[0.5555555555555556,\"#d8576b\"],[0.6666666666666666,\"#ed7953\"],[0.7777777777777778,\"#fb9f3a\"],[0.8888888888888888,\"#fdca26\"],[1.0,\"#f0f921\"]],\"diverging\":[[0,\"#8e0152\"],[0.1,\"#c51b7d\"],[0.2,\"#de77ae\"],[0.3,\"#f1b6da\"],[0.4,\"#fde0ef\"],[0.5,\"#f7f7f7\"],[0.6,\"#e6f5d0\"],[0.7,\"#b8e186\"],[0.8,\"#7fbc41\"],[0.9,\"#4d9221\"],[1,\"#276419\"]]},\"xaxis\":{\"gridcolor\":\"white\",\"linecolor\":\"white\",\"ticks\":\"\",\"title\":{\"standoff\":15},\"zerolinecolor\":\"white\",\"automargin\":true,\"zerolinewidth\":2},\"yaxis\":{\"gridcolor\":\"white\",\"linecolor\":\"white\",\"ticks\":\"\",\"title\":{\"standoff\":15},\"zerolinecolor\":\"white\",\"automargin\":true,\"zerolinewidth\":2},\"scene\":{\"xaxis\":{\"backgroundcolor\":\"#E5ECF6\",\"gridcolor\":\"white\",\"linecolor\":\"white\",\"showbackground\":true,\"ticks\":\"\",\"zerolinecolor\":\"white\",\"gridwidth\":2},\"yaxis\":{\"backgroundcolor\":\"#E5ECF6\",\"gridcolor\":\"white\",\"linecolor\":\"white\",\"showbackground\":true,\"ticks\":\"\",\"zerolinecolor\":\"white\",\"gridwidth\":2},\"zaxis\":{\"backgroundcolor\":\"#E5ECF6\",\"gridcolor\":\"white\",\"linecolor\":\"white\",\"showbackground\":true,\"ticks\":\"\",\"zerolinecolor\":\"white\",\"gridwidth\":2}},\"shapedefaults\":{\"line\":{\"color\":\"#2a3f5f\"}},\"annotationdefaults\":{\"arrowcolor\":\"#2a3f5f\",\"arrowhead\":0,\"arrowwidth\":1},\"geo\":{\"bgcolor\":\"white\",\"landcolor\":\"#E5ECF6\",\"subunitcolor\":\"white\",\"showland\":true,\"showlakes\":true,\"lakecolor\":\"white\"},\"title\":{\"x\":0.05},\"mapbox\":{\"style\":\"light\"}}},\"xaxis\":{\"anchor\":\"y\",\"domain\":[0.0,1.0],\"title\":{\"text\":\"cost_km_2021\"}},\"yaxis\":{\"anchor\":\"x\",\"domain\":[0.0,1.0],\"title\":{\"text\":\"length\"}},\"coloraxis\":{\"colorbar\":{\"title\":{\"text\":\"cluster_id\"}},\"colorscale\":[[0.0,\"#0d0887\"],[0.1111111111111111,\"#46039f\"],[0.2222222222222222,\"#7201a8\"],[0.3333333333333333,\"#9c179e\"],[0.4444444444444444,\"#bd3786\"],[0.5555555555555556,\"#d8576b\"],[0.6666666666666666,\"#ed7953\"],[0.7777777777777778,\"#fb9f3a\"],[0.8888888888888888,\"#fdca26\"],[1.0,\"#f0f921\"]]},\"legend\":{\"tracegroupgap\":0},\"margin\":{\"t\":60}},                        {\"responsive\": true}                    ).then(function(){\n",
       "                            \n",
       "var gd = document.getElementById('2ead9e6c-2edd-43e9-859e-dfc8ad1009b4');\n",
       "var x = new MutationObserver(function (mutations, observer) {{\n",
       "        var display = window.getComputedStyle(gd).display;\n",
       "        if (!display || display === 'none') {{\n",
       "            console.log([gd, 'removed!']);\n",
       "            Plotly.purge(gd);\n",
       "            observer.disconnect();\n",
       "        }}\n",
       "}});\n",
       "\n",
       "// Listen for the removal of the full notebook cells\n",
       "var notebookContainer = gd.closest('#notebook-container');\n",
       "if (notebookContainer) {{\n",
       "    x.observe(notebookContainer, {childList: true});\n",
       "}}\n",
       "\n",
       "// Listen for the clearing of the current output cell\n",
       "var outputEl = gd.closest('.output');\n",
       "if (outputEl) {{\n",
       "    x.observe(outputEl, {childList: true});\n",
       "}}\n",
       "\n",
       "                        })                };                });            </script>        </div>"
      ]
     },
     "metadata": {},
     "output_type": "display_data"
    }
   ],
   "source": [
    "import plotly.express as px\n",
    "\n",
    "# Create a DataFrame for the data you want to plot\n",
    "data_to_plot = tc_1\n",
    "# Create the plot\n",
    "fig = px.scatter(data_to_plot, x='cost_km_2021', y='length', color='cluster_id', hover_data=['phase'])\n",
    "\n",
    "# Show the plot\n",
    "fig.show()"
   ]
  },
  {
   "cell_type": "code",
   "execution_count": 174,
   "id": "b30bdc74-6482-4904-b446-a0ddff743a6c",
   "metadata": {},
   "outputs": [
    {
     "data": {
      "text/html": [
       "<div>\n",
       "<style scoped>\n",
       "    .dataframe tbody tr th:only-of-type {\n",
       "        vertical-align: middle;\n",
       "    }\n",
       "\n",
       "    .dataframe tbody tr th {\n",
       "        vertical-align: top;\n",
       "    }\n",
       "\n",
       "    .dataframe thead th {\n",
       "        text-align: right;\n",
       "    }\n",
       "</style>\n",
       "<table border=\"1\" class=\"dataframe\">\n",
       "  <thead>\n",
       "    <tr style=\"text-align: right;\">\n",
       "      <th></th>\n",
       "      <th>Model 1</th>\n",
       "      <th>Model 2</th>\n",
       "    </tr>\n",
       "    <tr>\n",
       "      <th>cluster_id</th>\n",
       "      <th></th>\n",
       "      <th></th>\n",
       "    </tr>\n",
       "  </thead>\n",
       "  <tbody>\n",
       "    <tr>\n",
       "      <th>0.0</th>\n",
       "      <td>432</td>\n",
       "      <td>161</td>\n",
       "    </tr>\n",
       "    <tr>\n",
       "      <th>1.0</th>\n",
       "      <td>8</td>\n",
       "      <td>115</td>\n",
       "    </tr>\n",
       "    <tr>\n",
       "      <th>2.0</th>\n",
       "      <td>158</td>\n",
       "      <td>273</td>\n",
       "    </tr>\n",
       "    <tr>\n",
       "      <th>3.0</th>\n",
       "      <td>1</td>\n",
       "      <td>169</td>\n",
       "    </tr>\n",
       "    <tr>\n",
       "      <th>4.0</th>\n",
       "      <td>148</td>\n",
       "      <td>44</td>\n",
       "    </tr>\n",
       "    <tr>\n",
       "      <th>5.0</th>\n",
       "      <td>54</td>\n",
       "      <td>39</td>\n",
       "    </tr>\n",
       "  </tbody>\n",
       "</table>\n",
       "</div>"
      ],
      "text/plain": [
       "            Model 1  Model 2\n",
       "cluster_id                  \n",
       "0.0             432      161\n",
       "1.0               8      115\n",
       "2.0             158      273\n",
       "3.0               1      169\n",
       "4.0             148       44\n",
       "5.0              54       39"
      ]
     },
     "execution_count": 174,
     "metadata": {},
     "output_type": "execute_result"
    }
   ],
   "source": [
    "d"
   ]
  },
  {
   "cell_type": "code",
   "execution_count": 135,
   "id": "c134239b-e0cf-4085-bd36-ecbdbc594b3b",
   "metadata": {},
   "outputs": [
    {
     "data": {
      "text/html": [
       "<div>\n",
       "<style scoped>\n",
       "    .dataframe tbody tr th:only-of-type {\n",
       "        vertical-align: middle;\n",
       "    }\n",
       "\n",
       "    .dataframe tbody tr th {\n",
       "        vertical-align: top;\n",
       "    }\n",
       "\n",
       "    .dataframe thead th {\n",
       "        text-align: right;\n",
       "    }\n",
       "</style>\n",
       "<table border=\"1\" class=\"dataframe\">\n",
       "  <thead>\n",
       "    <tr style=\"text-align: right;\">\n",
       "      <th></th>\n",
       "      <th></th>\n",
       "      <th>tunnelper</th>\n",
       "      <th>length</th>\n",
       "      <th>cost_km_2021</th>\n",
       "      <th>rule_of_law</th>\n",
       "      <th>stations</th>\n",
       "      <th>Projects</th>\n",
       "    </tr>\n",
       "    <tr>\n",
       "      <th>cluster_id</th>\n",
       "      <th>Region</th>\n",
       "      <th></th>\n",
       "      <th></th>\n",
       "      <th></th>\n",
       "      <th></th>\n",
       "      <th></th>\n",
       "      <th></th>\n",
       "    </tr>\n",
       "  </thead>\n",
       "  <tbody>\n",
       "    <tr>\n",
       "      <th rowspan=\"5\" valign=\"top\">0.0</th>\n",
       "      <th>East Asia &amp; Pacific</th>\n",
       "      <td>0.94</td>\n",
       "      <td>20.44</td>\n",
       "      <td>211.83</td>\n",
       "      <td>0.47</td>\n",
       "      <td>14.22</td>\n",
       "      <td>324</td>\n",
       "    </tr>\n",
       "    <tr>\n",
       "      <th>Europe &amp; Central Asia</th>\n",
       "      <td>0.98</td>\n",
       "      <td>11.11</td>\n",
       "      <td>194.72</td>\n",
       "      <td>0.49</td>\n",
       "      <td>8.32</td>\n",
       "      <td>50</td>\n",
       "    </tr>\n",
       "    <tr>\n",
       "      <th>Latin America &amp; Caribbean</th>\n",
       "      <td>0.91</td>\n",
       "      <td>20.75</td>\n",
       "      <td>255.44</td>\n",
       "      <td>0.53</td>\n",
       "      <td>16.55</td>\n",
       "      <td>11</td>\n",
       "    </tr>\n",
       "    <tr>\n",
       "      <th>Middle East &amp; North Africa</th>\n",
       "      <td>0.87</td>\n",
       "      <td>19.05</td>\n",
       "      <td>488.46</td>\n",
       "      <td>0.38</td>\n",
       "      <td>18.50</td>\n",
       "      <td>6</td>\n",
       "    </tr>\n",
       "    <tr>\n",
       "      <th>South Asia</th>\n",
       "      <td>0.76</td>\n",
       "      <td>24.28</td>\n",
       "      <td>493.73</td>\n",
       "      <td>0.45</td>\n",
       "      <td>17.50</td>\n",
       "      <td>4</td>\n",
       "    </tr>\n",
       "    <tr>\n",
       "      <th rowspan=\"2\" valign=\"top\">1.0</th>\n",
       "      <th>East Asia &amp; Pacific</th>\n",
       "      <td>0.96</td>\n",
       "      <td>5.68</td>\n",
       "      <td>1469.82</td>\n",
       "      <td>0.76</td>\n",
       "      <td>5.40</td>\n",
       "      <td>5</td>\n",
       "    </tr>\n",
       "    <tr>\n",
       "      <th>North America</th>\n",
       "      <td>1.00</td>\n",
       "      <td>3.00</td>\n",
       "      <td>2574.66</td>\n",
       "      <td>0.69</td>\n",
       "      <td>1.60</td>\n",
       "      <td>5</td>\n",
       "    </tr>\n",
       "    <tr>\n",
       "      <th rowspan=\"3\" valign=\"top\">2.0</th>\n",
       "      <th>East Asia &amp; Pacific</th>\n",
       "      <td>0.96</td>\n",
       "      <td>12.55</td>\n",
       "      <td>359.90</td>\n",
       "      <td>0.76</td>\n",
       "      <td>8.50</td>\n",
       "      <td>39</td>\n",
       "    </tr>\n",
       "    <tr>\n",
       "      <th>Europe &amp; Central Asia</th>\n",
       "      <td>0.97</td>\n",
       "      <td>6.10</td>\n",
       "      <td>239.83</td>\n",
       "      <td>0.75</td>\n",
       "      <td>5.69</td>\n",
       "      <td>98</td>\n",
       "    </tr>\n",
       "    <tr>\n",
       "      <th>North America</th>\n",
       "      <td>0.94</td>\n",
       "      <td>6.22</td>\n",
       "      <td>541.76</td>\n",
       "      <td>0.74</td>\n",
       "      <td>4.38</td>\n",
       "      <td>16</td>\n",
       "    </tr>\n",
       "    <tr>\n",
       "      <th rowspan=\"5\" valign=\"top\">3.0</th>\n",
       "      <th>East Asia &amp; Pacific</th>\n",
       "      <td>0.19</td>\n",
       "      <td>22.65</td>\n",
       "      <td>136.73</td>\n",
       "      <td>0.48</td>\n",
       "      <td>10.62</td>\n",
       "      <td>74</td>\n",
       "    </tr>\n",
       "    <tr>\n",
       "      <th>Europe &amp; Central Asia</th>\n",
       "      <td>0.17</td>\n",
       "      <td>24.66</td>\n",
       "      <td>105.46</td>\n",
       "      <td>0.44</td>\n",
       "      <td>18.57</td>\n",
       "      <td>7</td>\n",
       "    </tr>\n",
       "    <tr>\n",
       "      <th>Latin America &amp; Caribbean</th>\n",
       "      <td>0.10</td>\n",
       "      <td>22.53</td>\n",
       "      <td>218.61</td>\n",
       "      <td>0.49</td>\n",
       "      <td>17.43</td>\n",
       "      <td>7</td>\n",
       "    </tr>\n",
       "    <tr>\n",
       "      <th>Middle East &amp; North Africa</th>\n",
       "      <td>0.29</td>\n",
       "      <td>33.00</td>\n",
       "      <td>371.81</td>\n",
       "      <td>0.35</td>\n",
       "      <td>27.50</td>\n",
       "      <td>2</td>\n",
       "    </tr>\n",
       "    <tr>\n",
       "      <th>South Asia</th>\n",
       "      <td>0.08</td>\n",
       "      <td>22.60</td>\n",
       "      <td>193.90</td>\n",
       "      <td>0.49</td>\n",
       "      <td>19.56</td>\n",
       "      <td>27</td>\n",
       "    </tr>\n",
       "    <tr>\n",
       "      <th rowspan=\"3\" valign=\"top\">4.0</th>\n",
       "      <th>East Asia &amp; Pacific</th>\n",
       "      <td>0.79</td>\n",
       "      <td>54.73</td>\n",
       "      <td>173.04</td>\n",
       "      <td>0.48</td>\n",
       "      <td>25.31</td>\n",
       "      <td>73</td>\n",
       "    </tr>\n",
       "    <tr>\n",
       "      <th>Europe &amp; Central Asia</th>\n",
       "      <td>0.81</td>\n",
       "      <td>99.42</td>\n",
       "      <td>185.29</td>\n",
       "      <td>0.66</td>\n",
       "      <td>43.75</td>\n",
       "      <td>4</td>\n",
       "    </tr>\n",
       "    <tr>\n",
       "      <th>South Asia</th>\n",
       "      <td>0.29</td>\n",
       "      <td>88.70</td>\n",
       "      <td>205.63</td>\n",
       "      <td>0.50</td>\n",
       "      <td>74.17</td>\n",
       "      <td>6</td>\n",
       "    </tr>\n",
       "    <tr>\n",
       "      <th rowspan=\"4\" valign=\"top\">5.0</th>\n",
       "      <th>East Asia &amp; Pacific</th>\n",
       "      <td>0.14</td>\n",
       "      <td>19.02</td>\n",
       "      <td>262.48</td>\n",
       "      <td>0.78</td>\n",
       "      <td>7.48</td>\n",
       "      <td>12</td>\n",
       "    </tr>\n",
       "    <tr>\n",
       "      <th>Europe &amp; Central Asia</th>\n",
       "      <td>0.32</td>\n",
       "      <td>9.17</td>\n",
       "      <td>108.55</td>\n",
       "      <td>0.76</td>\n",
       "      <td>5.25</td>\n",
       "      <td>12</td>\n",
       "    </tr>\n",
       "    <tr>\n",
       "      <th>Middle East &amp; North Africa</th>\n",
       "      <td>0.23</td>\n",
       "      <td>24.17</td>\n",
       "      <td>374.34</td>\n",
       "      <td>0.64</td>\n",
       "      <td>18.67</td>\n",
       "      <td>3</td>\n",
       "    </tr>\n",
       "    <tr>\n",
       "      <th>North America</th>\n",
       "      <td>0.15</td>\n",
       "      <td>16.09</td>\n",
       "      <td>214.86</td>\n",
       "      <td>0.74</td>\n",
       "      <td>11.06</td>\n",
       "      <td>16</td>\n",
       "    </tr>\n",
       "  </tbody>\n",
       "</table>\n",
       "</div>"
      ],
      "text/plain": [
       "                                       tunnelper  length  cost_km_2021  \\\n",
       "cluster_id Region                                                        \n",
       "0.0        East Asia & Pacific              0.94   20.44        211.83   \n",
       "           Europe & Central Asia            0.98   11.11        194.72   \n",
       "           Latin America & Caribbean        0.91   20.75        255.44   \n",
       "           Middle East & North Africa       0.87   19.05        488.46   \n",
       "           South Asia                       0.76   24.28        493.73   \n",
       "1.0        East Asia & Pacific              0.96    5.68       1469.82   \n",
       "           North America                    1.00    3.00       2574.66   \n",
       "2.0        East Asia & Pacific              0.96   12.55        359.90   \n",
       "           Europe & Central Asia            0.97    6.10        239.83   \n",
       "           North America                    0.94    6.22        541.76   \n",
       "3.0        East Asia & Pacific              0.19   22.65        136.73   \n",
       "           Europe & Central Asia            0.17   24.66        105.46   \n",
       "           Latin America & Caribbean        0.10   22.53        218.61   \n",
       "           Middle East & North Africa       0.29   33.00        371.81   \n",
       "           South Asia                       0.08   22.60        193.90   \n",
       "4.0        East Asia & Pacific              0.79   54.73        173.04   \n",
       "           Europe & Central Asia            0.81   99.42        185.29   \n",
       "           South Asia                       0.29   88.70        205.63   \n",
       "5.0        East Asia & Pacific              0.14   19.02        262.48   \n",
       "           Europe & Central Asia            0.32    9.17        108.55   \n",
       "           Middle East & North Africa       0.23   24.17        374.34   \n",
       "           North America                    0.15   16.09        214.86   \n",
       "\n",
       "                                       rule_of_law  stations  Projects  \n",
       "cluster_id Region                                                       \n",
       "0.0        East Asia & Pacific                0.47     14.22       324  \n",
       "           Europe & Central Asia              0.49      8.32        50  \n",
       "           Latin America & Caribbean          0.53     16.55        11  \n",
       "           Middle East & North Africa         0.38     18.50         6  \n",
       "           South Asia                         0.45     17.50         4  \n",
       "1.0        East Asia & Pacific                0.76      5.40         5  \n",
       "           North America                      0.69      1.60         5  \n",
       "2.0        East Asia & Pacific                0.76      8.50        39  \n",
       "           Europe & Central Asia              0.75      5.69        98  \n",
       "           North America                      0.74      4.38        16  \n",
       "3.0        East Asia & Pacific                0.48     10.62        74  \n",
       "           Europe & Central Asia              0.44     18.57         7  \n",
       "           Latin America & Caribbean          0.49     17.43         7  \n",
       "           Middle East & North Africa         0.35     27.50         2  \n",
       "           South Asia                         0.49     19.56        27  \n",
       "4.0        East Asia & Pacific                0.48     25.31        73  \n",
       "           Europe & Central Asia              0.66     43.75         4  \n",
       "           South Asia                         0.50     74.17         6  \n",
       "5.0        East Asia & Pacific                0.78      7.48        12  \n",
       "           Europe & Central Asia              0.76      5.25        12  \n",
       "           Middle East & North Africa         0.64     18.67         3  \n",
       "           North America                      0.74     11.06        16  "
      ]
     },
     "execution_count": 135,
     "metadata": {},
     "output_type": "execute_result"
    }
   ],
   "source": [
    "c1= pd.DataFrame(tc_1.groupby(['cluster_id','Region'])[['tunnelper','length','cost_km_2021','rule_of_law', 'stations']].mean().round(2))\n",
    "c1['Projects']= pd.DataFrame(tc_1.groupby(['cluster_id','Region']).size().astype(int))\n",
    "c1"
   ]
  },
  {
   "cell_type": "code",
   "execution_count": 64,
   "id": "66c2f137-ffd1-4dd2-934b-a8df80490f77",
   "metadata": {},
   "outputs": [
    {
     "data": {
      "text/html": [
       "<div>\n",
       "<style scoped>\n",
       "    .dataframe tbody tr th:only-of-type {\n",
       "        vertical-align: middle;\n",
       "    }\n",
       "\n",
       "    .dataframe tbody tr th {\n",
       "        vertical-align: top;\n",
       "    }\n",
       "\n",
       "    .dataframe thead th {\n",
       "        text-align: right;\n",
       "    }\n",
       "</style>\n",
       "<table border=\"1\" class=\"dataframe\">\n",
       "  <thead>\n",
       "    <tr style=\"text-align: right;\">\n",
       "      <th></th>\n",
       "      <th></th>\n",
       "      <th>tunnelper</th>\n",
       "      <th>length</th>\n",
       "      <th>2021</th>\n",
       "      <th>cost_km_2021</th>\n",
       "      <th>rule_of_law</th>\n",
       "      <th>Projects</th>\n",
       "    </tr>\n",
       "    <tr>\n",
       "      <th>cluster_id</th>\n",
       "      <th>Region</th>\n",
       "      <th></th>\n",
       "      <th></th>\n",
       "      <th></th>\n",
       "      <th></th>\n",
       "      <th></th>\n",
       "      <th></th>\n",
       "    </tr>\n",
       "  </thead>\n",
       "  <tbody>\n",
       "    <tr>\n",
       "      <th rowspan=\"5\" valign=\"top\">0.0</th>\n",
       "      <th>East Asia &amp; Pacific</th>\n",
       "      <td>0.187217</td>\n",
       "      <td>22.639397</td>\n",
       "      <td>11456.905767</td>\n",
       "      <td>136.895297</td>\n",
       "      <td>0.475205</td>\n",
       "      <td>73</td>\n",
       "    </tr>\n",
       "    <tr>\n",
       "      <th>Europe &amp; Central Asia</th>\n",
       "      <td>0.172580</td>\n",
       "      <td>24.662857</td>\n",
       "      <td>8984.674340</td>\n",
       "      <td>105.458038</td>\n",
       "      <td>0.435714</td>\n",
       "      <td>7</td>\n",
       "    </tr>\n",
       "    <tr>\n",
       "      <th>Latin America &amp; Caribbean</th>\n",
       "      <td>0.156250</td>\n",
       "      <td>21.425000</td>\n",
       "      <td>11206.947338</td>\n",
       "      <td>228.925272</td>\n",
       "      <td>0.490000</td>\n",
       "      <td>8</td>\n",
       "    </tr>\n",
       "    <tr>\n",
       "      <th>Middle East &amp; North Africa</th>\n",
       "      <td>0.377282</td>\n",
       "      <td>28.333333</td>\n",
       "      <td>3886.722498</td>\n",
       "      <td>488.857267</td>\n",
       "      <td>0.350000</td>\n",
       "      <td>3</td>\n",
       "    </tr>\n",
       "    <tr>\n",
       "      <th>South Asia</th>\n",
       "      <td>0.101010</td>\n",
       "      <td>24.601207</td>\n",
       "      <td>2228.005652</td>\n",
       "      <td>204.201481</td>\n",
       "      <td>0.489310</td>\n",
       "      <td>29</td>\n",
       "    </tr>\n",
       "    <tr>\n",
       "      <th>1.0</th>\n",
       "      <th>East Asia &amp; Pacific</th>\n",
       "      <td>0.933473</td>\n",
       "      <td>20.889202</td>\n",
       "      <td>12465.536357</td>\n",
       "      <td>210.903608</td>\n",
       "      <td>0.470211</td>\n",
       "      <td>332</td>\n",
       "    </tr>\n",
       "    <tr>\n",
       "      <th rowspan=\"3\" valign=\"top\">2.0</th>\n",
       "      <th>East Asia &amp; Pacific</th>\n",
       "      <td>0.959045</td>\n",
       "      <td>11.771614</td>\n",
       "      <td>45057.837690</td>\n",
       "      <td>486.027083</td>\n",
       "      <td>0.760682</td>\n",
       "      <td>44</td>\n",
       "    </tr>\n",
       "    <tr>\n",
       "      <th>Europe &amp; Central Asia</th>\n",
       "      <td>0.949029</td>\n",
       "      <td>6.305825</td>\n",
       "      <td>42876.397925</td>\n",
       "      <td>234.309122</td>\n",
       "      <td>0.747379</td>\n",
       "      <td>103</td>\n",
       "    </tr>\n",
       "    <tr>\n",
       "      <th>North America</th>\n",
       "      <td>0.969860</td>\n",
       "      <td>4.955000</td>\n",
       "      <td>63968.174666</td>\n",
       "      <td>1052.452005</td>\n",
       "      <td>0.728500</td>\n",
       "      <td>20</td>\n",
       "    </tr>\n",
       "    <tr>\n",
       "      <th rowspan=\"4\" valign=\"top\">3.0</th>\n",
       "      <th>East Asia &amp; Pacific</th>\n",
       "      <td>0.141275</td>\n",
       "      <td>19.016667</td>\n",
       "      <td>45747.772623</td>\n",
       "      <td>262.475637</td>\n",
       "      <td>0.780000</td>\n",
       "      <td>12</td>\n",
       "    </tr>\n",
       "    <tr>\n",
       "      <th>Europe &amp; Central Asia</th>\n",
       "      <td>0.164286</td>\n",
       "      <td>8.314286</td>\n",
       "      <td>47810.473091</td>\n",
       "      <td>96.045826</td>\n",
       "      <td>0.775714</td>\n",
       "      <td>7</td>\n",
       "    </tr>\n",
       "    <tr>\n",
       "      <th>Middle East &amp; North Africa</th>\n",
       "      <td>0.232910</td>\n",
       "      <td>24.166667</td>\n",
       "      <td>44315.554180</td>\n",
       "      <td>374.339474</td>\n",
       "      <td>0.640000</td>\n",
       "      <td>3</td>\n",
       "    </tr>\n",
       "    <tr>\n",
       "      <th>North America</th>\n",
       "      <td>0.170588</td>\n",
       "      <td>16.058824</td>\n",
       "      <td>60763.727904</td>\n",
       "      <td>231.191652</td>\n",
       "      <td>0.748235</td>\n",
       "      <td>17</td>\n",
       "    </tr>\n",
       "    <tr>\n",
       "      <th rowspan=\"3\" valign=\"top\">4.0</th>\n",
       "      <th>East Asia &amp; Pacific</th>\n",
       "      <td>0.779063</td>\n",
       "      <td>56.169948</td>\n",
       "      <td>13272.843075</td>\n",
       "      <td>172.264502</td>\n",
       "      <td>0.479697</td>\n",
       "      <td>66</td>\n",
       "    </tr>\n",
       "    <tr>\n",
       "      <th>Europe &amp; Central Asia</th>\n",
       "      <td>0.812500</td>\n",
       "      <td>99.425000</td>\n",
       "      <td>29114.790917</td>\n",
       "      <td>185.290795</td>\n",
       "      <td>0.660000</td>\n",
       "      <td>4</td>\n",
       "    </tr>\n",
       "    <tr>\n",
       "      <th>South Asia</th>\n",
       "      <td>0.353340</td>\n",
       "      <td>92.040000</td>\n",
       "      <td>2238.127139</td>\n",
       "      <td>217.277305</td>\n",
       "      <td>0.500000</td>\n",
       "      <td>5</td>\n",
       "    </tr>\n",
       "    <tr>\n",
       "      <th rowspan=\"4\" valign=\"top\">5.0</th>\n",
       "      <th>Europe &amp; Central Asia</th>\n",
       "      <td>0.978399</td>\n",
       "      <td>11.108400</td>\n",
       "      <td>11753.087107</td>\n",
       "      <td>194.715945</td>\n",
       "      <td>0.494000</td>\n",
       "      <td>50</td>\n",
       "    </tr>\n",
       "    <tr>\n",
       "      <th>Latin America &amp; Caribbean</th>\n",
       "      <td>0.946000</td>\n",
       "      <td>21.460000</td>\n",
       "      <td>9577.537033</td>\n",
       "      <td>250.865862</td>\n",
       "      <td>0.531000</td>\n",
       "      <td>10</td>\n",
       "    </tr>\n",
       "    <tr>\n",
       "      <th>Middle East &amp; North Africa</th>\n",
       "      <td>0.930476</td>\n",
       "      <td>19.060000</td>\n",
       "      <td>4005.209182</td>\n",
       "      <td>441.561842</td>\n",
       "      <td>0.392000</td>\n",
       "      <td>5</td>\n",
       "    </tr>\n",
       "    <tr>\n",
       "      <th>South Asia</th>\n",
       "      <td>0.796667</td>\n",
       "      <td>21.966667</td>\n",
       "      <td>2311.392776</td>\n",
       "      <td>478.607818</td>\n",
       "      <td>0.466667</td>\n",
       "      <td>3</td>\n",
       "    </tr>\n",
       "  </tbody>\n",
       "</table>\n",
       "</div>"
      ],
      "text/plain": [
       "                                       tunnelper     length          2021  \\\n",
       "cluster_id Region                                                           \n",
       "0.0        East Asia & Pacific          0.187217  22.639397  11456.905767   \n",
       "           Europe & Central Asia        0.172580  24.662857   8984.674340   \n",
       "           Latin America & Caribbean    0.156250  21.425000  11206.947338   \n",
       "           Middle East & North Africa   0.377282  28.333333   3886.722498   \n",
       "           South Asia                   0.101010  24.601207   2228.005652   \n",
       "1.0        East Asia & Pacific          0.933473  20.889202  12465.536357   \n",
       "2.0        East Asia & Pacific          0.959045  11.771614  45057.837690   \n",
       "           Europe & Central Asia        0.949029   6.305825  42876.397925   \n",
       "           North America                0.969860   4.955000  63968.174666   \n",
       "3.0        East Asia & Pacific          0.141275  19.016667  45747.772623   \n",
       "           Europe & Central Asia        0.164286   8.314286  47810.473091   \n",
       "           Middle East & North Africa   0.232910  24.166667  44315.554180   \n",
       "           North America                0.170588  16.058824  60763.727904   \n",
       "4.0        East Asia & Pacific          0.779063  56.169948  13272.843075   \n",
       "           Europe & Central Asia        0.812500  99.425000  29114.790917   \n",
       "           South Asia                   0.353340  92.040000   2238.127139   \n",
       "5.0        Europe & Central Asia        0.978399  11.108400  11753.087107   \n",
       "           Latin America & Caribbean    0.946000  21.460000   9577.537033   \n",
       "           Middle East & North Africa   0.930476  19.060000   4005.209182   \n",
       "           South Asia                   0.796667  21.966667   2311.392776   \n",
       "\n",
       "                                       cost_km_2021  rule_of_law  Projects  \n",
       "cluster_id Region                                                           \n",
       "0.0        East Asia & Pacific           136.895297     0.475205        73  \n",
       "           Europe & Central Asia         105.458038     0.435714         7  \n",
       "           Latin America & Caribbean     228.925272     0.490000         8  \n",
       "           Middle East & North Africa    488.857267     0.350000         3  \n",
       "           South Asia                    204.201481     0.489310        29  \n",
       "1.0        East Asia & Pacific           210.903608     0.470211       332  \n",
       "2.0        East Asia & Pacific           486.027083     0.760682        44  \n",
       "           Europe & Central Asia         234.309122     0.747379       103  \n",
       "           North America                1052.452005     0.728500        20  \n",
       "3.0        East Asia & Pacific           262.475637     0.780000        12  \n",
       "           Europe & Central Asia          96.045826     0.775714         7  \n",
       "           Middle East & North Africa    374.339474     0.640000         3  \n",
       "           North America                 231.191652     0.748235        17  \n",
       "4.0        East Asia & Pacific           172.264502     0.479697        66  \n",
       "           Europe & Central Asia         185.290795     0.660000         4  \n",
       "           South Asia                    217.277305     0.500000         5  \n",
       "5.0        Europe & Central Asia         194.715945     0.494000        50  \n",
       "           Latin America & Caribbean     250.865862     0.531000        10  \n",
       "           Middle East & North Africa    441.561842     0.392000         5  \n",
       "           South Asia                    478.607818     0.466667         3  "
      ]
     },
     "execution_count": 64,
     "metadata": {},
     "output_type": "execute_result"
    }
   ],
   "source": [
    "# c2= pd.DataFrame(tc_3.groupby(['cluster_id','Region'])[['tunnelper','length','2021','cost_km_2021', 'rule_of_law']].mean())\n",
    "c2['Projects']= pd.DataFrame(tc_3.groupby(['cluster_id','Region']).size())\n",
    "c2"
   ]
  },
  {
   "cell_type": "code",
   "execution_count": 138,
   "id": "82820f43-7d42-4831-8a78-ca13b0198c73",
   "metadata": {},
   "outputs": [],
   "source": []
  },
  {
   "cell_type": "code",
   "execution_count": 139,
   "id": "4cebb9ca-ee30-45f9-b43b-68abc55401a9",
   "metadata": {},
   "outputs": [],
   "source": []
  },
  {
   "cell_type": "code",
   "execution_count": 32,
   "id": "6a490d70-c37c-4957-950f-c17e72ede4eb",
   "metadata": {},
   "outputs": [
    {
     "data": {
      "text/plain": [
       "cluster_id  IncomeGroup        \n",
       "0.0         High income             13\n",
       "            Lower middle income     35\n",
       "            Upper middle income    320\n",
       "1.0         High income              6\n",
       "2.0         High income            163\n",
       "3.0         High income             10\n",
       "            Lower middle income     13\n",
       "            Upper middle income    189\n",
       "4.0         High income             36\n",
       "            Lower middle income     11\n",
       "            Upper middle income      5\n",
       "dtype: int64"
      ]
     },
     "execution_count": 32,
     "metadata": {},
     "output_type": "execute_result"
    }
   ],
   "source": [
    "tc_1.groupby(['cluster_id','IncomeGroup']).size()"
   ]
  },
  {
   "cell_type": "code",
   "execution_count": 35,
   "id": "1cca86bd-64db-4f6e-b94e-1e3edc66de44",
   "metadata": {},
   "outputs": [
    {
     "data": {
      "text/html": [
       "<div>\n",
       "<style scoped>\n",
       "    .dataframe tbody tr th:only-of-type {\n",
       "        vertical-align: middle;\n",
       "    }\n",
       "\n",
       "    .dataframe tbody tr th {\n",
       "        vertical-align: top;\n",
       "    }\n",
       "\n",
       "    .dataframe thead th {\n",
       "        text-align: right;\n",
       "    }\n",
       "</style>\n",
       "<table border=\"1\" class=\"dataframe\">\n",
       "  <thead>\n",
       "    <tr style=\"text-align: right;\">\n",
       "      <th></th>\n",
       "      <th>country</th>\n",
       "      <th>city</th>\n",
       "      <th>phase</th>\n",
       "      <th>start_year</th>\n",
       "      <th>end_year</th>\n",
       "      <th>rr</th>\n",
       "      <th>length</th>\n",
       "      <th>tunnelper</th>\n",
       "      <th>tunnel</th>\n",
       "      <th>elevated</th>\n",
       "      <th>...</th>\n",
       "      <th>real_cost_2021</th>\n",
       "      <th>cost_km_2021</th>\n",
       "      <th>country_name</th>\n",
       "      <th>Region</th>\n",
       "      <th>IncomeGroup</th>\n",
       "      <th>2021</th>\n",
       "      <th>rule_of_law</th>\n",
       "      <th>no_corruption</th>\n",
       "      <th>enforcement</th>\n",
       "      <th>cluster_id</th>\n",
       "    </tr>\n",
       "  </thead>\n",
       "  <tbody>\n",
       "    <tr>\n",
       "      <th>137</th>\n",
       "      <td>US</td>\n",
       "      <td>New York</td>\n",
       "      <td>7 extension</td>\n",
       "      <td>2007</td>\n",
       "      <td>2014</td>\n",
       "      <td>0.0</td>\n",
       "      <td>1.6</td>\n",
       "      <td>1.0</td>\n",
       "      <td>1.6</td>\n",
       "      <td>0.0</td>\n",
       "      <td>...</td>\n",
       "      <td>2982.389845</td>\n",
       "      <td>1863.993653</td>\n",
       "      <td>United States</td>\n",
       "      <td>North America</td>\n",
       "      <td>High income</td>\n",
       "      <td>70219.47245</td>\n",
       "      <td>0.69</td>\n",
       "      <td>0.72</td>\n",
       "      <td>0.71</td>\n",
       "      <td>1.0</td>\n",
       "    </tr>\n",
       "    <tr>\n",
       "      <th>138</th>\n",
       "      <td>US</td>\n",
       "      <td>New York</td>\n",
       "      <td>Second Avenue Phase 1</td>\n",
       "      <td>2007</td>\n",
       "      <td>2016</td>\n",
       "      <td>0.0</td>\n",
       "      <td>2.7</td>\n",
       "      <td>1.0</td>\n",
       "      <td>2.7</td>\n",
       "      <td>0.0</td>\n",
       "      <td>...</td>\n",
       "      <td>5542.538066</td>\n",
       "      <td>2052.791876</td>\n",
       "      <td>United States</td>\n",
       "      <td>North America</td>\n",
       "      <td>High income</td>\n",
       "      <td>70219.47245</td>\n",
       "      <td>0.69</td>\n",
       "      <td>0.72</td>\n",
       "      <td>0.71</td>\n",
       "      <td>1.0</td>\n",
       "    </tr>\n",
       "    <tr>\n",
       "      <th>139</th>\n",
       "      <td>US</td>\n",
       "      <td>New York</td>\n",
       "      <td>Second Avenue Phase 2</td>\n",
       "      <td>2019</td>\n",
       "      <td>2029</td>\n",
       "      <td>0.0</td>\n",
       "      <td>2.6</td>\n",
       "      <td>1.0</td>\n",
       "      <td>2.6</td>\n",
       "      <td>0.0</td>\n",
       "      <td>...</td>\n",
       "      <td>6949.000000</td>\n",
       "      <td>2672.692308</td>\n",
       "      <td>United States</td>\n",
       "      <td>North America</td>\n",
       "      <td>High income</td>\n",
       "      <td>70219.47245</td>\n",
       "      <td>0.69</td>\n",
       "      <td>0.72</td>\n",
       "      <td>0.71</td>\n",
       "      <td>1.0</td>\n",
       "    </tr>\n",
       "    <tr>\n",
       "      <th>140</th>\n",
       "      <td>US</td>\n",
       "      <td>New York</td>\n",
       "      <td>East Side Access</td>\n",
       "      <td>2007</td>\n",
       "      <td>2022</td>\n",
       "      <td>1.0</td>\n",
       "      <td>2.8</td>\n",
       "      <td>1.0</td>\n",
       "      <td>2.8</td>\n",
       "      <td>0.0</td>\n",
       "      <td>...</td>\n",
       "      <td>12575.764608</td>\n",
       "      <td>4491.344503</td>\n",
       "      <td>United States</td>\n",
       "      <td>North America</td>\n",
       "      <td>High income</td>\n",
       "      <td>70219.47245</td>\n",
       "      <td>0.69</td>\n",
       "      <td>0.72</td>\n",
       "      <td>0.71</td>\n",
       "      <td>1.0</td>\n",
       "    </tr>\n",
       "    <tr>\n",
       "      <th>141</th>\n",
       "      <td>US</td>\n",
       "      <td>New York</td>\n",
       "      <td>Gateway</td>\n",
       "      <td>2019</td>\n",
       "      <td>2026</td>\n",
       "      <td>1.0</td>\n",
       "      <td>5.3</td>\n",
       "      <td>1.0</td>\n",
       "      <td>5.3</td>\n",
       "      <td>0.0</td>\n",
       "      <td>...</td>\n",
       "      <td>9500.000000</td>\n",
       "      <td>1792.452830</td>\n",
       "      <td>United States</td>\n",
       "      <td>North America</td>\n",
       "      <td>High income</td>\n",
       "      <td>70219.47245</td>\n",
       "      <td>0.69</td>\n",
       "      <td>0.72</td>\n",
       "      <td>0.71</td>\n",
       "      <td>1.0</td>\n",
       "    </tr>\n",
       "    <tr>\n",
       "      <th>518</th>\n",
       "      <td>HK</td>\n",
       "      <td>Hong Kong</td>\n",
       "      <td>Tung Chung Line extension</td>\n",
       "      <td>2023</td>\n",
       "      <td>2029</td>\n",
       "      <td>0.0</td>\n",
       "      <td>1.8</td>\n",
       "      <td>1.0</td>\n",
       "      <td>1.8</td>\n",
       "      <td>0.0</td>\n",
       "      <td>...</td>\n",
       "      <td>3559.561327</td>\n",
       "      <td>1977.534071</td>\n",
       "      <td>Hong Kong SAR, China</td>\n",
       "      <td>East Asia &amp; Pacific</td>\n",
       "      <td>High income</td>\n",
       "      <td>49764.79312</td>\n",
       "      <td>0.75</td>\n",
       "      <td>0.85</td>\n",
       "      <td>0.81</td>\n",
       "      <td>1.0</td>\n",
       "    </tr>\n",
       "  </tbody>\n",
       "</table>\n",
       "<p>6 rows × 24 columns</p>\n",
       "</div>"
      ],
      "text/plain": [
       "    country       city                      phase  start_year  end_year   rr  \\\n",
       "137      US   New York                7 extension        2007      2014  0.0   \n",
       "138      US   New York      Second Avenue Phase 1        2007      2016  0.0   \n",
       "139      US   New York      Second Avenue Phase 2        2019      2029  0.0   \n",
       "140      US   New York           East Side Access        2007      2022  1.0   \n",
       "141      US   New York                    Gateway        2019      2026  1.0   \n",
       "518      HK  Hong Kong  Tung Chung Line extension        2023      2029  0.0   \n",
       "\n",
       "     length  tunnelper  tunnel  elevated  ...  real_cost_2021  cost_km_2021  \\\n",
       "137     1.6        1.0     1.6       0.0  ...     2982.389845   1863.993653   \n",
       "138     2.7        1.0     2.7       0.0  ...     5542.538066   2052.791876   \n",
       "139     2.6        1.0     2.6       0.0  ...     6949.000000   2672.692308   \n",
       "140     2.8        1.0     2.8       0.0  ...    12575.764608   4491.344503   \n",
       "141     5.3        1.0     5.3       0.0  ...     9500.000000   1792.452830   \n",
       "518     1.8        1.0     1.8       0.0  ...     3559.561327   1977.534071   \n",
       "\n",
       "             country_name               Region  IncomeGroup         2021  \\\n",
       "137         United States        North America  High income  70219.47245   \n",
       "138         United States        North America  High income  70219.47245   \n",
       "139         United States        North America  High income  70219.47245   \n",
       "140         United States        North America  High income  70219.47245   \n",
       "141         United States        North America  High income  70219.47245   \n",
       "518  Hong Kong SAR, China  East Asia & Pacific  High income  49764.79312   \n",
       "\n",
       "    rule_of_law no_corruption enforcement  cluster_id  \n",
       "137        0.69          0.72        0.71         1.0  \n",
       "138        0.69          0.72        0.71         1.0  \n",
       "139        0.69          0.72        0.71         1.0  \n",
       "140        0.69          0.72        0.71         1.0  \n",
       "141        0.69          0.72        0.71         1.0  \n",
       "518        0.75          0.85        0.81         1.0  \n",
       "\n",
       "[6 rows x 24 columns]"
      ]
     },
     "execution_count": 35,
     "metadata": {},
     "output_type": "execute_result"
    }
   ],
   "source": [
    "tc_1[tc_1.cluster_id==1.0]"
   ]
  },
  {
   "cell_type": "code",
   "execution_count": null,
   "id": "c9855abf-7903-44dc-b178-b325ee8476d6",
   "metadata": {},
   "outputs": [],
   "source": []
  }
 ],
 "metadata": {
  "kernelspec": {
   "display_name": "Python 3 (ipykernel)",
   "language": "python",
   "name": "python3"
  },
  "language_info": {
   "codemirror_mode": {
    "name": "ipython",
    "version": 3
   },
   "file_extension": ".py",
   "mimetype": "text/x-python",
   "name": "python",
   "nbconvert_exporter": "python",
   "pygments_lexer": "ipython3",
   "version": "3.10.10"
  }
 },
 "nbformat": 4,
 "nbformat_minor": 5
}
