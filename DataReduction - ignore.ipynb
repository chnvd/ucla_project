{
 "cells": [
  {
   "cell_type": "markdown",
   "id": "fac53150-63b8-4b8a-8e7a-529812ae6915",
   "metadata": {},
   "source": [
    "# PCA"
   ]
  },
  {
   "cell_type": "code",
   "execution_count": null,
   "id": "643573a3-339b-4d37-948d-7cbc9257d4f2",
   "metadata": {},
   "outputs": [],
   "source": []
  },
  {
   "cell_type": "code",
   "execution_count": null,
   "id": "fea1f44a-4d27-4d59-9ac1-721d1a5a3f34",
   "metadata": {},
   "outputs": [],
   "source": [
    "from sklearn.preprocessing import StandardScaler\n",
    "scaler = StandardScaler()\n",
    "cols =  ['start_year', 'end_year', 'rr', 'length',\n",
    "       'tunnelper', 'tunnel', 'stations', 'cost_km_2021','2021', 'rule_of_law',\n",
    "       'no_corruption', 'enforcement']\n",
    "datapca= transit[cols]\n",
    "datapca = datapca.dropna()\n",
    "scaler.fit(datapca)\n",
    "X_scaled = scaler.transform(datapca)\n",
    "\n",
    "from sklearn.decomposition import PCA\n",
    "# keep the first two principal components of the data \n",
    "pca = PCA(n_components=2)\n",
    "# fit PCA model to breast cancer data \n",
    "pca.fit(X_scaled)\n",
    "# transform data onto the first two principal components\n",
    "X_pca = pca.transform(X_scaled)\n",
    "print(\"Original shape: {}\".format(str(X_scaled.shape))) \n",
    "print(\"Reduced shape: {}\".format(str(X_pca.shape)))"
   ]
  },
  {
   "cell_type": "code",
   "execution_count": null,
   "id": "d153ef11-9181-4416-a646-21d54cca4e44",
   "metadata": {},
   "outputs": [],
   "source": [
    "import matplotlib.pyplot as plt\n",
    "import numpy as np\n",
    "\n",
    "# assuming that 'country' is a categorical variable in your data\n",
    "categories = datapca['cost_km_2021']\n",
    "# colors = np.array(['blue', 'red', 'green', ...])  # specify a color for each category\n",
    "# color_map = colors[categories]  # map categories to colors\n",
    "\n",
    "plt.figure(figsize=(8, 8))\n",
    "plt.scatter(X_pca[:, 0], X_pca[:, 1], c=categories)\n",
    "plt.gca().set_aspect(\"equal\")\n",
    "plt.xlabel(\"First principal component\")\n",
    "plt.ylabel(\"Second principal component\")\n",
    "plt.show()"
   ]
  }
 ],
 "metadata": {
  "kernelspec": {
   "display_name": "Python 3 (ipykernel)",
   "language": "python",
   "name": "python3"
  },
  "language_info": {
   "codemirror_mode": {
    "name": "ipython",
    "version": 3
   },
   "file_extension": ".py",
   "mimetype": "text/x-python",
   "name": "python",
   "nbconvert_exporter": "python",
   "pygments_lexer": "ipython3",
   "version": "3.10.10"
  }
 },
 "nbformat": 4,
 "nbformat_minor": 5
}
