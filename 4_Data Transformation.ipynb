{
 "cells": [
  {
   "cell_type": "markdown",
   "id": "f127e5c6-b797-4da6-ba3e-9f0b6eba6167",
   "metadata": {},
   "source": [
    "# Data Processing\n",
    "\n"
   ]
  },
  {
   "cell_type": "code",
   "execution_count": 46,
   "id": "3debd8b3-5bac-4108-803a-3f18d004ffb4",
   "metadata": {},
   "outputs": [],
   "source": [
    "import matplotlib.pyplot as plt\n",
    "import seaborn as sns"
   ]
  },
  {
   "cell_type": "code",
   "execution_count": 1,
   "id": "b130d31b-99cb-4da8-8732-b7bc638d05af",
   "metadata": {},
   "outputs": [
    {
     "data": {
      "text/html": [
       "<div>\n",
       "<style scoped>\n",
       "    .dataframe tbody tr th:only-of-type {\n",
       "        vertical-align: middle;\n",
       "    }\n",
       "\n",
       "    .dataframe tbody tr th {\n",
       "        vertical-align: top;\n",
       "    }\n",
       "\n",
       "    .dataframe thead th {\n",
       "        text-align: right;\n",
       "    }\n",
       "</style>\n",
       "<table border=\"1\" class=\"dataframe\">\n",
       "  <thead>\n",
       "    <tr style=\"text-align: right;\">\n",
       "      <th></th>\n",
       "      <th>country</th>\n",
       "      <th>city</th>\n",
       "      <th>phase</th>\n",
       "      <th>start_year</th>\n",
       "      <th>end_year</th>\n",
       "      <th>rr</th>\n",
       "      <th>length</th>\n",
       "      <th>tunnelper</th>\n",
       "      <th>tunnel</th>\n",
       "      <th>elevated</th>\n",
       "      <th>...</th>\n",
       "      <th>real_cost_2021</th>\n",
       "      <th>cost_km_2021</th>\n",
       "      <th>index</th>\n",
       "      <th>country_name</th>\n",
       "      <th>Region</th>\n",
       "      <th>IncomeGroup</th>\n",
       "      <th>2021</th>\n",
       "      <th>rule_of_law</th>\n",
       "      <th>no_corruption</th>\n",
       "      <th>enforcement</th>\n",
       "    </tr>\n",
       "  </thead>\n",
       "  <tbody>\n",
       "    <tr>\n",
       "      <th>0</th>\n",
       "      <td>TR</td>\n",
       "      <td>Istanbul</td>\n",
       "      <td>M4 Phase 3</td>\n",
       "      <td>2015</td>\n",
       "      <td>2022</td>\n",
       "      <td>0.0</td>\n",
       "      <td>7.5</td>\n",
       "      <td>1.000000</td>\n",
       "      <td>7.5</td>\n",
       "      <td>0.000</td>\n",
       "      <td>...</td>\n",
       "      <td>550.341886</td>\n",
       "      <td>73.378918</td>\n",
       "      <td>0</td>\n",
       "      <td>Turkiye</td>\n",
       "      <td>Europe &amp; Central Asia</td>\n",
       "      <td>Upper middle income</td>\n",
       "      <td>9661.227734</td>\n",
       "      <td>0.42</td>\n",
       "      <td>0.46</td>\n",
       "      <td>0.41</td>\n",
       "    </tr>\n",
       "    <tr>\n",
       "      <th>1</th>\n",
       "      <td>CA</td>\n",
       "      <td>Vancouver</td>\n",
       "      <td>Broadway</td>\n",
       "      <td>2020</td>\n",
       "      <td>2025</td>\n",
       "      <td>0.0</td>\n",
       "      <td>5.7</td>\n",
       "      <td>0.877193</td>\n",
       "      <td>5.0</td>\n",
       "      <td>0.295</td>\n",
       "      <td>...</td>\n",
       "      <td>2565.240650</td>\n",
       "      <td>450.042219</td>\n",
       "      <td>1</td>\n",
       "      <td>Canada</td>\n",
       "      <td>North America</td>\n",
       "      <td>High income</td>\n",
       "      <td>52358.621640</td>\n",
       "      <td>0.80</td>\n",
       "      <td>0.82</td>\n",
       "      <td>0.80</td>\n",
       "    </tr>\n",
       "    <tr>\n",
       "      <th>2</th>\n",
       "      <td>CA</td>\n",
       "      <td>Toronto</td>\n",
       "      <td>Vaughan</td>\n",
       "      <td>2009</td>\n",
       "      <td>2017</td>\n",
       "      <td>0.0</td>\n",
       "      <td>8.6</td>\n",
       "      <td>1.000000</td>\n",
       "      <td>8.6</td>\n",
       "      <td>0.000</td>\n",
       "      <td>...</td>\n",
       "      <td>3014.952287</td>\n",
       "      <td>350.575847</td>\n",
       "      <td>1</td>\n",
       "      <td>Canada</td>\n",
       "      <td>North America</td>\n",
       "      <td>High income</td>\n",
       "      <td>52358.621640</td>\n",
       "      <td>0.80</td>\n",
       "      <td>0.82</td>\n",
       "      <td>0.80</td>\n",
       "    </tr>\n",
       "    <tr>\n",
       "      <th>3</th>\n",
       "      <td>CA</td>\n",
       "      <td>Toronto</td>\n",
       "      <td>Scarborough</td>\n",
       "      <td>2020</td>\n",
       "      <td>2030</td>\n",
       "      <td>0.0</td>\n",
       "      <td>7.8</td>\n",
       "      <td>1.000000</td>\n",
       "      <td>7.8</td>\n",
       "      <td>0.000</td>\n",
       "      <td>...</td>\n",
       "      <td>4985.450027</td>\n",
       "      <td>639.160260</td>\n",
       "      <td>1</td>\n",
       "      <td>Canada</td>\n",
       "      <td>North America</td>\n",
       "      <td>High income</td>\n",
       "      <td>52358.621640</td>\n",
       "      <td>0.80</td>\n",
       "      <td>0.82</td>\n",
       "      <td>0.80</td>\n",
       "    </tr>\n",
       "    <tr>\n",
       "      <th>4</th>\n",
       "      <td>CA</td>\n",
       "      <td>Toronto</td>\n",
       "      <td>Ontario</td>\n",
       "      <td>2020</td>\n",
       "      <td>2030</td>\n",
       "      <td>0.0</td>\n",
       "      <td>15.5</td>\n",
       "      <td>0.570000</td>\n",
       "      <td>8.8</td>\n",
       "      <td>5.760</td>\n",
       "      <td>...</td>\n",
       "      <td>7632.655004</td>\n",
       "      <td>492.429355</td>\n",
       "      <td>1</td>\n",
       "      <td>Canada</td>\n",
       "      <td>North America</td>\n",
       "      <td>High income</td>\n",
       "      <td>52358.621640</td>\n",
       "      <td>0.80</td>\n",
       "      <td>0.82</td>\n",
       "      <td>0.80</td>\n",
       "    </tr>\n",
       "  </tbody>\n",
       "</table>\n",
       "<p>5 rows × 24 columns</p>\n",
       "</div>"
      ],
      "text/plain": [
       "  country       city        phase  start_year  end_year   rr  length  \\\n",
       "0      TR   Istanbul   M4 Phase 3        2015      2022  0.0     7.5   \n",
       "1      CA  Vancouver     Broadway        2020      2025  0.0     5.7   \n",
       "2      CA    Toronto      Vaughan        2009      2017  0.0     8.6   \n",
       "3      CA    Toronto  Scarborough        2020      2030  0.0     7.8   \n",
       "4      CA    Toronto      Ontario        2020      2030  0.0    15.5   \n",
       "\n",
       "   tunnelper  tunnel  elevated  ...  real_cost_2021  cost_km_2021 index  \\\n",
       "0   1.000000     7.5     0.000  ...      550.341886     73.378918     0   \n",
       "1   0.877193     5.0     0.295  ...     2565.240650    450.042219     1   \n",
       "2   1.000000     8.6     0.000  ...     3014.952287    350.575847     1   \n",
       "3   1.000000     7.8     0.000  ...     4985.450027    639.160260     1   \n",
       "4   0.570000     8.8     5.760  ...     7632.655004    492.429355     1   \n",
       "\n",
       "   country_name                 Region          IncomeGroup          2021  \\\n",
       "0       Turkiye  Europe & Central Asia  Upper middle income   9661.227734   \n",
       "1        Canada          North America          High income  52358.621640   \n",
       "2        Canada          North America          High income  52358.621640   \n",
       "3        Canada          North America          High income  52358.621640   \n",
       "4        Canada          North America          High income  52358.621640   \n",
       "\n",
       "  rule_of_law no_corruption enforcement  \n",
       "0        0.42          0.46        0.41  \n",
       "1        0.80          0.82        0.80  \n",
       "2        0.80          0.82        0.80  \n",
       "3        0.80          0.82        0.80  \n",
       "4        0.80          0.82        0.80  \n",
       "\n",
       "[5 rows x 24 columns]"
      ]
     },
     "execution_count": 1,
     "metadata": {},
     "output_type": "execute_result"
    }
   ],
   "source": [
    "import pandas as pd\n",
    "transit = pd.read_csv(\"Data/transit_income.csv\")\n",
    "transit.drop('Unnamed: 0', axis=1, inplace=True)\n",
    "transit.head()"
   ]
  },
  {
   "cell_type": "code",
   "execution_count": 2,
   "id": "59dbd3de-0e52-427c-92b3-edc61f589693",
   "metadata": {},
   "outputs": [
    {
     "name": "stdout",
     "output_type": "stream",
     "text": [
      "<class 'pandas.core.frame.DataFrame'>\n",
      "RangeIndex: 838 entries, 0 to 837\n",
      "Data columns (total 24 columns):\n",
      " #   Column                  Non-Null Count  Dtype  \n",
      "---  ------                  --------------  -----  \n",
      " 0   country                 838 non-null    object \n",
      " 1   city                    838 non-null    object \n",
      " 2   phase                   837 non-null    object \n",
      " 3   start_year              838 non-null    int64  \n",
      " 4   end_year                838 non-null    int64  \n",
      " 5   rr                      837 non-null    float64\n",
      " 6   length                  838 non-null    float64\n",
      " 7   tunnelper               784 non-null    float64\n",
      " 8   tunnel                  784 non-null    float64\n",
      " 9   elevated                483 non-null    float64\n",
      " 10  atgrade                 481 non-null    float64\n",
      " 11  stations                817 non-null    float64\n",
      " 12  platform_length_meters  407 non-null    object \n",
      " 13  anglo                   838 non-null    float64\n",
      " 14  real_cost_2021          838 non-null    float64\n",
      " 15  cost_km_2021            838 non-null    float64\n",
      " 16  index                   838 non-null    int64  \n",
      " 17  country_name            838 non-null    object \n",
      " 18  Region                  838 non-null    object \n",
      " 19  IncomeGroup             838 non-null    object \n",
      " 20  2021                    838 non-null    float64\n",
      " 21  rule_of_law             803 non-null    float64\n",
      " 22  no_corruption           803 non-null    float64\n",
      " 23  enforcement             803 non-null    float64\n",
      "dtypes: float64(14), int64(3), object(7)\n",
      "memory usage: 157.2+ KB\n"
     ]
    }
   ],
   "source": [
    "transit.info()"
   ]
  },
  {
   "cell_type": "code",
   "execution_count": 22,
   "id": "44a2c230-7482-4de6-84be-55173b52da31",
   "metadata": {},
   "outputs": [
    {
     "name": "stdout",
     "output_type": "stream",
     "text": [
      "There are 54 non-numeric values in tunnelper\n"
     ]
    }
   ],
   "source": [
    "def non_numeric(col):\n",
    "    # Identify non-numeric values in the column\n",
    "    nn = transit[col].isnull()\n",
    "    print(f\"There are {nn.sum()} non-numeric values in {col}\")\n",
    "    return transit[nn]\n",
    "df = non_numeric('tunnelper')"
   ]
  },
  {
   "cell_type": "code",
   "execution_count": 25,
   "id": "197cf2c8-dc25-432c-8c54-1c4fe7f41303",
   "metadata": {},
   "outputs": [
    {
     "data": {
      "text/plain": [
       "array(['Shanghai', 'Hangzhou', 'Beijing', 'Tianjin', 'Shenyang',\n",
       "       'Changsha', 'Kunming', 'Taiyuan', 'Chongqing', \"Xi'an\", 'Mecca',\n",
       "       'Cairo', 'Incheon', 'Wuxi', 'Yiwu', 'Huizhou', 'Ningbo', 'Qingdao',\n",
       "       'Urumqi', 'Nanning', 'Seoul', 'Guangzhou', 'Nanjing', 'Xiamen'],\n",
       "      dtype=object)"
      ]
     },
     "execution_count": 25,
     "metadata": {},
     "output_type": "execute_result"
    }
   ],
   "source": [
    "\n",
    "df.city.unique()"
   ]
  },
  {
   "cell_type": "code",
   "execution_count": 34,
   "id": "60d3e4eb-aa11-4408-90a1-0d82dbbf3b6d",
   "metadata": {},
   "outputs": [
    {
     "data": {
      "text/plain": [
       "18.057355555555553"
      ]
     },
     "execution_count": 34,
     "metadata": {},
     "output_type": "execute_result"
    }
   ],
   "source": []
  },
  {
   "cell_type": "code",
   "execution_count": 58,
   "id": "b1b4d4b3-6c2b-4d4c-b06b-d001cd05c54e",
   "metadata": {},
   "outputs": [
    {
     "name": "stdout",
     "output_type": "stream",
     "text": [
      "The average tunnel length of the projects is 19.71242857142857 for Wuxi\n",
      "The average tunnel length of the projects is 24.4 for Wuxi\n",
      "    country  city                  phase  start_year  end_year   rr  length  \\\n",
      "612      CN  Wuxi                Line S1        2019      2023  0.0  30.400   \n",
      "613      CN  Wuxi         Line 4 Phase 1        2021      2026  0.0  24.400   \n",
      "614      CN  Wuxi         Line 2 Phase 1        2010      2014  0.0  26.300   \n",
      "615      CN  Wuxi           Line 1 South        2014      2019  0.0   5.187   \n",
      "616      CN  Wuxi  Wuxi-Yixing Intercity        2022      2027  0.0  30.000   \n",
      "617      CN  Wuxi         Line 1 Phase 1        2014      2019  0.0  29.400   \n",
      "618      CN  Wuxi         Line 3 Phase 1        2020      2025  0.0  28.500   \n",
      "807      CN  Wuxi         Line 5 Phase 1        2022      2027  0.0  25.400   \n",
      "\n",
      "     tunnelper  tunnel  elevated  ...  real_cost_2021  cost_km_2021 index  \\\n",
      "612       0.35  10.500       NaN  ...     3442.317000    113.234112    48   \n",
      "613       1.00  24.400       NaN  ...     4378.002000    179.426311    48   \n",
      "614       0.75  19.600       NaN  ...     5799.389886    220.509121    48   \n",
      "615       1.00   5.187       NaN  ...      655.359541    126.346547    48   \n",
      "616        NaN     NaN       NaN  ...     3756.124000    125.204133    48   \n",
      "617       0.83  24.400       NaN  ...     5632.617642    191.585634    48   \n",
      "618       1.00  28.500       NaN  ...     5139.188306    180.322397    48   \n",
      "807       1.00  25.400       NaN  ...     5824.191000    229.298858    48   \n",
      "\n",
      "     country_name               Region          IncomeGroup         2021  \\\n",
      "612         China  East Asia & Pacific  Upper middle income  12617.50499   \n",
      "613         China  East Asia & Pacific  Upper middle income  12617.50499   \n",
      "614         China  East Asia & Pacific  Upper middle income  12617.50499   \n",
      "615         China  East Asia & Pacific  Upper middle income  12617.50499   \n",
      "616         China  East Asia & Pacific  Upper middle income  12617.50499   \n",
      "617         China  East Asia & Pacific  Upper middle income  12617.50499   \n",
      "618         China  East Asia & Pacific  Upper middle income  12617.50499   \n",
      "807         China  East Asia & Pacific  Upper middle income  12617.50499   \n",
      "\n",
      "    rule_of_law no_corruption enforcement  \n",
      "612        0.47          0.53        0.49  \n",
      "613        0.47          0.53        0.49  \n",
      "614        0.47          0.53        0.49  \n",
      "615        0.47          0.53        0.49  \n",
      "616        0.47          0.53        0.49  \n",
      "617        0.47          0.53        0.49  \n",
      "618        0.47          0.53        0.49  \n",
      "807        0.47          0.53        0.49  \n",
      "\n",
      "[8 rows x 24 columns]\n"
     ]
    },
    {
     "data": {
      "text/plain": [
       "19.71242857142857"
      ]
     },
     "execution_count": 58,
     "metadata": {},
     "output_type": "execute_result"
    },
    {
     "data": {
      "image/png": "[encoded data removed]",
      "text/plain": [
       "<Figure size 640x480 with 1 Axes>"
      ]
     },
     "metadata": {},
     "output_type": "display_data"
    }
   ],
   "source": [
    "\n",
    "transit_cost = transit\n",
    "def avg_tunnel(city):\n",
    "    data = transit_cost[transit_cost['city']==city]\n",
    "    tunnellen = data['tunnel'].mean()\n",
    "    tunnellenMedian = data['tunnel'].median()\n",
    "    print(f\"The average tunnel length of the projects is {tunnellen} for {city}\")\n",
    "    print(f\"The average tunnel length of the projects is {tunnellenMedian} for {city}\")\n",
    "    data['tunnel'].hist()\n",
    "    print(data)\n",
    "    return tunnellen\n",
    "# avg_tunnel('Shanghai')\n",
    "avg_tunnel('Wuxi')"
   ]
  },
  {
   "cell_type": "code",
   "execution_count": null,
   "id": "381ea9ec-2904-4878-a04b-2668852b3ae6",
   "metadata": {},
   "outputs": [],
   "source": []
  },
  {
   "cell_type": "code",
   "execution_count": 3,
   "id": "8de74bdb-88ba-4cf1-a35b-293916077ba6",
   "metadata": {},
   "outputs": [
    {
     "data": {
      "text/plain": [
       "Index(['country', 'city', 'phase', 'start_year', 'end_year', 'rr', 'length',\n",
       "       'tunnelper', 'tunnel', 'elevated', 'atgrade', 'stations',\n",
       "       'platform_length_meters', 'anglo', 'real_cost_2021', 'cost_km_2021',\n",
       "       'index', 'country_name', 'Region', 'IncomeGroup', '2021', 'rule_of_law',\n",
       "       'no_corruption', 'enforcement'],\n",
       "      dtype='object')"
      ]
     },
     "execution_count": 3,
     "metadata": {},
     "output_type": "execute_result"
    }
   ],
   "source": [
    "transit.columns"
   ]
  },
  {
   "cell_type": "code",
   "execution_count": null,
   "id": "f4f32b0d-dcdd-4937-8c4c-01df2bdaaf7e",
   "metadata": {},
   "outputs": [],
   "source": [
    "transit_cluster = trans"
   ]
  }
 ],
 "metadata": {
  "kernelspec": {
   "display_name": "Python 3 (ipykernel)",
   "language": "python",
   "name": "python3"
  },
  "language_info": {
   "codemirror_mode": {
    "name": "ipython",
    "version": 3
   },
   "file_extension": ".py",
   "mimetype": "text/x-python",
   "name": "python",
   "nbconvert_exporter": "python",
   "pygments_lexer": "ipython3",
   "version": "3.10.10"
  }
 },
 "nbformat": 4,
 "nbformat_minor": 5
}
